{
  "cells": [
    {
      "cell_type": "markdown",
      "metadata": {
        "id": "MvSbXlKA6L-1"
      },
      "source": [
        "<p style=\"font-family: Arial; font-size:3.75em;color:purple; font-style:bold\"><br>\n",
        "Introduction to numpy:\n",
        "</p><br>\n",
        "\n",
        "<p style=\"font-family: Arial; font-size:1.25em;color:#2462C0; font-style:bold\"><br>\n",
        "Package for scientific computing with Python\n",
        "</p><br>\n",
        "\n",
        "Numerical Python, or \"Numpy\" for short, is a foundational package on which many of the most common data science packages are built.  Numpy provides us with high performance multi-dimensional arrays which we can use as vectors or matrices.  \n",
        "\n",
        "The key features of numpy are:\n",
        "\n",
        "- ndarrays: n-dimensional arrays of the same data type which are fast and space-efficient.  There are a number of built-in methods for ndarrays which allow for rapid processing of data without using loops (e.g., compute the mean).\n",
        "- Broadcasting: a useful tool which defines implicit behavior between multi-dimensional arrays of different sizes.\n",
        "- Vectorization: enables numeric operations on ndarrays.\n",
        "- Input/Output: simplifies reading and writing of data from/to file.\n",
        "\n",
        "<b>Additional Recommended Resources:</b><br>\n",
        "<a href=\"https://docs.scipy.org/doc/numpy/reference/\">Numpy Documentation</a><br>\n",
        "<i>Python for Data Analysis</i> by Wes McKinney<br>\n",
        "<i>Python Data science Handbook</i> by Jake VanderPlas\n",
        "\n"
      ]
    },
    {
      "cell_type": "markdown",
      "metadata": {
        "id": "sMM6y5Ib6L-8"
      },
      "source": [
        "<p style=\"font-family: Arial; font-size:2.75em;color:purple; font-style:bold\"><br>\n",
        "\n",
        "Getting started with ndarray<br><br></p>\n",
        "\n",
        "**ndarrays** are time and space-efficient multidimensional arrays at the core of numpy.  Like the data structures in Week 2, let's get started by creating ndarrays using the numpy package."
      ]
    },
    {
      "cell_type": "markdown",
      "metadata": {
        "id": "V2JPxIZS6L--"
      },
      "source": [
        "<p style=\"font-family: Arial; font-size:1.75em;color:#2462C0; font-style:bold\"><br>\n",
        "\n",
        "How to create Rank 1 numpy arrays:\n",
        "</p>"
      ]
    },
    {
      "cell_type": "code",
      "execution_count": 2,
      "metadata": {
        "colab": {
          "base_uri": "https://localhost:8080/"
        },
        "id": "4G6VcZnQ6L-_",
        "outputId": "891f41ff-10ab-466f-e658-9bdcd00a2344"
      },
      "outputs": [
        {
          "name": "stdout",
          "output_type": "stream",
          "text": [
            "<class 'numpy.ndarray'>\n",
            "[  3  33 333]\n"
          ]
        }
      ],
      "source": [
        "import numpy as np\n",
        "\n",
        "an_array = np.array([3, 33, 333])  # Create a rank 1 array\n",
        "\n",
        "print(type(an_array))              # The type of an ndarray is: \"<class 'numpy.ndarray'>\"\n",
        "print(an_array)"
      ]
    },
    {
      "cell_type": "code",
      "execution_count": 3,
      "metadata": {
        "colab": {
          "base_uri": "https://localhost:8080/"
        },
        "id": "2GX4l3pn6L_C",
        "outputId": "37865278-f9b6-4150-cf55-0a42e7c95840"
      },
      "outputs": [
        {
          "name": "stdout",
          "output_type": "stream",
          "text": [
            "(3,)\n"
          ]
        }
      ],
      "source": [
        "# test the shape of the array we just created, it should have just one dimension (Rank 1)\n",
        "print(an_array.shape)"
      ]
    },
    {
      "cell_type": "code",
      "execution_count": 4,
      "metadata": {
        "colab": {
          "base_uri": "https://localhost:8080/"
        },
        "id": "rRikMvFk6L_D",
        "outputId": "8163c90a-33f3-405e-ecc3-7cef6d74c371"
      },
      "outputs": [
        {
          "name": "stdout",
          "output_type": "stream",
          "text": [
            "3 33 333\n"
          ]
        }
      ],
      "source": [
        "# because this is a 1-rank array, we need only one index to accesss each element\n",
        "print(an_array[0], an_array[1], an_array[2])"
      ]
    },
    {
      "cell_type": "code",
      "execution_count": 5,
      "metadata": {
        "colab": {
          "base_uri": "https://localhost:8080/"
        },
        "id": "00PhewJb6L_D",
        "outputId": "91b311b2-354c-4cd3-9f92-359d5b2040d8"
      },
      "outputs": [
        {
          "name": "stdout",
          "output_type": "stream",
          "text": [
            "[888  33 333]\n"
          ]
        }
      ],
      "source": [
        "an_array[0] =888            # ndarrays are mutable, here we change an element of the array\n",
        "\n",
        "print(an_array)"
      ]
    },
    {
      "cell_type": "markdown",
      "metadata": {
        "id": "43JzoNRk6L_E"
      },
      "source": [
        "<p style=\"font-family: Arial; font-size:1.75em;color:#2462C0; font-style:bold\"><br>\n",
        "\n",
        "How to create a Rank 2 numpy array:</p>\n",
        "\n",
        "A rank 2 **ndarray** is one with two dimensions.  Notice the format below of [ [row] , [row] ].  2 dimensional arrays are great for representing matrices which are often useful in data science."
      ]
    },
    {
      "cell_type": "code",
      "execution_count": 6,
      "metadata": {
        "colab": {
          "base_uri": "https://localhost:8080/"
        },
        "id": "zEYNsrF46L_E",
        "outputId": "7e214d33-8dc8-45c9-e15b-7a420b6266d9"
      },
      "outputs": [
        {
          "name": "stdout",
          "output_type": "stream",
          "text": [
            "[[11 12 13]\n",
            " [21 22 23]]\n",
            "The shape is 2 rows, 3 columns:  (2, 3)\n",
            "Accessing elements [0,0], [0,1], and [1,0] of the ndarray: \n",
            " \n",
            " 11 ,  12 ,  21\n"
          ]
        }
      ],
      "source": [
        "another = np.array([[11,12,13],[21,22,23]])   # Create a rank 2 array\n",
        "\n",
        "print(another)  # print the array\n",
        "\n",
        "print(\"The shape is 2 rows, 3 columns: \", another.shape)  # rows x columns\n",
        "\n",
        "print(\"Accessing elements [0,0], [0,1], and [1,0] of the ndarray: \\n\", \"\\n\",\n",
        "      another[0, 0], \", \",another[0, 1],\", \", another[1, 0])"
      ]
    },
    {
      "cell_type": "markdown",
      "metadata": {
        "id": "RiD3RjTR6L_F"
      },
      "source": [
        "<p style=\"font-family: Arial; font-size:1.75em;color:#2462C0; font-style:bold\"><br>\n",
        "\n",
        "There are many way to create numpy arrays:\n",
        "</p>\n",
        "\n",
        "Here we create a number of different size arrays with different shapes and different pre-filled values.  numpy has a number of built in methods which help us quickly and easily create multidimensional arrays."
      ]
    },
    {
      "cell_type": "code",
      "execution_count": 8,
      "metadata": {
        "colab": {
          "base_uri": "https://localhost:8080/"
        },
        "id": "epIN0eee6L_F",
        "outputId": "664eef2c-2790-4433-8021-3dc4ce5dbd46"
      },
      "outputs": [
        {
          "name": "stdout",
          "output_type": "stream",
          "text": [
            "[[0. 0. 0. 0. 0. 0. 0. 0. 0. 0.]\n",
            " [0. 0. 0. 0. 0. 0. 0. 0. 0. 0.]]\n"
          ]
        }
      ],
      "source": [
        "import numpy as np\n",
        "\n",
        "# create a 2x2 array of zeros\n",
        "ex1 = np.zeros((2,10))\n",
        "print(ex1)"
      ]
    },
    {
      "cell_type": "code",
      "execution_count": 14,
      "metadata": {
        "colab": {
          "base_uri": "https://localhost:8080/"
        },
        "id": "Uo2IVumZ6L_G",
        "outputId": "415c98c3-7918-4b79-99f3-d014705799c8"
      },
      "outputs": [
        {
          "name": "stdout",
          "output_type": "stream",
          "text": [
            "[[9 9 9 9 9 9 9 9 9 9 9 9 9 9 9 9 9 9 9 9]\n",
            " [9 9 9 9 9 9 9 9 9 9 9 9 9 9 9 9 9 9 9 9]]\n"
          ]
        }
      ],
      "source": [
        "# create a 2x2 array filled with 9.0\n",
        "ex2 = np.full((2,20), 9)\n",
        "print(ex2)"
      ]
    },
    {
      "cell_type": "code",
      "execution_count": 16,
      "metadata": {
        "colab": {
          "base_uri": "https://localhost:8080/"
        },
        "id": "psb7u0Xu6L_G",
        "outputId": "36059e89-eae3-41ba-9810-bfb4693dd39e"
      },
      "outputs": [
        {
          "name": "stdout",
          "output_type": "stream",
          "text": [
            "[[1. 0. 0. 0. 0.]\n",
            " [0. 1. 0. 0. 0.]\n",
            " [0. 0. 1. 0. 0.]\n",
            " [0. 0. 0. 1. 0.]\n",
            " [0. 0. 0. 0. 1.]]\n"
          ]
        }
      ],
      "source": [
        "# create a 2x2 matrix with the diagonal 1s and the others 0\n",
        "ex3 = np.eye(5,5)\n",
        "print(ex3)"
      ]
    },
    {
      "cell_type": "code",
      "execution_count": 41,
      "metadata": {
        "colab": {
          "base_uri": "https://localhost:8080/"
        },
        "id": "3io-PoYS6L_G",
        "outputId": "521184bb-7f18-421d-abd8-9fec76b84751"
      },
      "outputs": [
        {
          "name": "stdout",
          "output_type": "stream",
          "text": [
            "[[1. 1. 1. 1. 1. 1. 1.]]\n"
          ]
        }
      ],
      "source": [
        "# create an array of ones\n",
        "ex4 = np.ones((1,7))\n",
        "#ex4 = ex4.flatten()\n",
        "print(ex4)"
      ]
    },
    {
      "cell_type": "code",
      "execution_count": 39,
      "metadata": {
        "colab": {
          "base_uri": "https://localhost:8080/"
        },
        "id": "9E256eafltDy",
        "outputId": "3b93c1b8-72a0-4fdb-ef40-d400af8a6009"
      },
      "outputs": [
        {
          "name": "stdout",
          "output_type": "stream",
          "text": [
            "[[ 0  1  2  3  4  5]\n",
            " [ 6  7  8  9 10 11]]\n",
            "[ 0  1  2  3  4  5  6  7  8  9 10 11]\n"
          ]
        }
      ],
      "source": [
        "ex5 = np.arange(12).reshape(2,-1)\n",
        "print(ex5)\n",
        "ex5 = ex5.flatten()\n",
        "print(ex5)"
      ]
    },
    {
      "cell_type": "code",
      "execution_count": 40,
      "metadata": {
        "colab": {
          "base_uri": "https://localhost:8080/"
        },
        "id": "vaEwoR4h6L_H",
        "outputId": "9c73af24-7f26-4c02-aef5-0f4229f786e8"
      },
      "outputs": [
        {
          "name": "stdout",
          "output_type": "stream",
          "text": [
            "(1, 7)\n",
            "\n",
            "1.0\n"
          ]
        }
      ],
      "source": [
        "# notice that the above ndarray (ex4) is actually rank 2, it is a 2x1 array\n",
        "print(ex4.shape)\n",
        "\n",
        "# which means we need to use two indexes to access an element\n",
        "print()\n",
        "print(ex4[0,1])"
      ]
    },
    {
      "cell_type": "code",
      "execution_count": 48,
      "metadata": {
        "colab": {
          "base_uri": "https://localhost:8080/"
        },
        "id": "gHrpFBmT6L_H",
        "outputId": "0bbb7375-3746-4d17-b336-c0fcfde1ef77"
      },
      "outputs": [
        {
          "name": "stdout",
          "output_type": "stream",
          "text": [
            "[[0.27  0.833 0.362]\n",
            " [0.825 0.361 0.37 ]]\n",
            "[[0.27040383 0.83283121 0.3619315 ]\n",
            " [0.82455813 0.36100101 0.36961779]]\n"
          ]
        }
      ],
      "source": [
        "# create an array of random floats between 0 and 1\n",
        "ex5 = np.random.random((2,3))\n",
        "print(np.round(ex5,3))\n",
        "print(ex5)"
      ]
    },
    {
      "cell_type": "code",
      "execution_count": 61,
      "metadata": {
        "colab": {
          "base_uri": "https://localhost:8080/"
        },
        "id": "S7XzKZa7NAQM",
        "outputId": "16c02f7c-487f-4756-b3f2-db184f32af54"
      },
      "outputs": [
        {
          "name": "stdout",
          "output_type": "stream",
          "text": [
            "[[2 0 0 0 2]\n",
            " [4 1 1 3 1]]\n"
          ]
        }
      ],
      "source": [
        "ex6 = np.random.randint(5,size =(2,5))\n",
        "print(ex6)"
      ]
    },
    {
      "cell_type": "markdown",
      "metadata": {
        "id": "3waMk-NX6L_I"
      },
      "source": [
        "<p style=\"font-family: Arial; font-size:2.75em;color:purple; font-style:bold\"><br>\n",
        "\n",
        "Array Indexing\n",
        "<br><br></p>"
      ]
    },
    {
      "cell_type": "markdown",
      "metadata": {
        "id": "E5518Uwf6L_I"
      },
      "source": [
        "<p style=\"font-family: Arial; font-size:1.75em;color:#2462C0; font-style:bold\"><br>\n",
        "Slice indexing:\n",
        "</p>\n",
        "\n",
        "Similar to the use of slice indexing with lists and strings, we can use slice indexing to pull out sub-regions of ndarrays."
      ]
    },
    {
      "cell_type": "code",
      "execution_count": 84,
      "metadata": {
        "colab": {
          "base_uri": "https://localhost:8080/"
        },
        "id": "K212bTO36L_I",
        "outputId": "b86ead11-1f26-458a-f4a3-4cb25bcf7663"
      },
      "outputs": [
        {
          "name": "stdout",
          "output_type": "stream",
          "text": [
            "[[11 12 13 14]\n",
            " [21 22 23 24]\n",
            " [31 32 33 34]]\n"
          ]
        }
      ],
      "source": [
        "import numpy as np\n",
        "\n",
        "# Rank 2 array of shape (3, 4)\n",
        "an_array = np.array([[11,12,13,14], [21,22,23,24], [31,32,33,34]])\n",
        "print(an_array)"
      ]
    },
    {
      "cell_type": "markdown",
      "metadata": {
        "id": "jvFq7ZM96L_J"
      },
      "source": [
        "Use array slicing to get a subarray consisting of the first 2 rows x 2 columns."
      ]
    },
    {
      "cell_type": "code",
      "execution_count": 75,
      "metadata": {
        "colab": {
          "base_uri": "https://localhost:8080/"
        },
        "id": "emuEdVs1osqH",
        "outputId": "2f99e98f-de3f-4c4b-d031-6797baf05e94"
      },
      "outputs": [
        {
          "name": "stdout",
          "output_type": "stream",
          "text": [
            "[[12 13 14]\n",
            " [22 23 24]\n",
            " [32 33 34]]\n"
          ]
        }
      ],
      "source": [
        "print(an_array[:4,1:4])"
      ]
    },
    {
      "cell_type": "code",
      "execution_count": 80,
      "metadata": {
        "colab": {
          "base_uri": "https://localhost:8080/"
        },
        "id": "-spsHHbeqYAc",
        "outputId": "642fe13c-709b-4cf8-910f-4e0e7df7ba46"
      },
      "outputs": [
        {
          "name": "stdout",
          "output_type": "stream",
          "text": [
            "[[12 13]\n",
            " [22 23]]\n"
          ]
        }
      ],
      "source": [
        "a_slice_link = (an_array[:2, 1:3])\n",
        "print(a_slice_link)"
      ]
    },
    {
      "cell_type": "code",
      "execution_count": 81,
      "metadata": {
        "colab": {
          "base_uri": "https://localhost:8080/"
        },
        "id": "fZ9-LEBe6L_J",
        "outputId": "573f6f89-6c98-4cfd-8f34-8ca275f44d6c"
      },
      "outputs": [
        {
          "name": "stdout",
          "output_type": "stream",
          "text": [
            "[[12 13]\n",
            " [22 23]]\n"
          ]
        }
      ],
      "source": [
        "a_slice_new_memory = np.array(an_array[:2, 1:3])\n",
        "print(a_slice_new_memory)"
      ]
    },
    {
      "cell_type": "markdown",
      "metadata": {
        "id": "7zkjzlCL6L_J"
      },
      "source": [
        "When you modify a slice, you actually modify the underlying array."
      ]
    },
    {
      "cell_type": "code",
      "execution_count": 82,
      "metadata": {
        "colab": {
          "base_uri": "https://localhost:8080/"
        },
        "id": "WL7Ir8O36L_K",
        "outputId": "4a7901dd-ecb4-4def-a276-ed36b2a3c8f3"
      },
      "outputs": [
        {
          "name": "stdout",
          "output_type": "stream",
          "text": [
            "Before: 12\n",
            "After: 1000\n"
          ]
        }
      ],
      "source": [
        "print(\"Before:\", an_array[0, 1])   #inspect the element at 0, 1\n",
        "a_slice_link[0, 0] = 1000    # a_slice[0, 0] is the same piece of data as an_array[0, 1]\n",
        "print(\"After:\", an_array[0, 1])"
      ]
    },
    {
      "cell_type": "code",
      "execution_count": 85,
      "metadata": {
        "colab": {
          "base_uri": "https://localhost:8080/"
        },
        "id": "sYPv-LsSqsR8",
        "outputId": "03e2f7b3-3bd6-4802-85a6-71e25b2ee248"
      },
      "outputs": [
        {
          "name": "stdout",
          "output_type": "stream",
          "text": [
            "Before: 12\n",
            "After: 12\n"
          ]
        }
      ],
      "source": [
        "print(\"Before:\", an_array[0, 1])   #inspect the element at 0, 1\n",
        "a_slice_new_memory[0, 0] = 1000    # a_slice[0, 0] is the same piece of data as an_array[0, 1]\n",
        "print(\"After:\", an_array[0, 1])"
      ]
    },
    {
      "cell_type": "markdown",
      "metadata": {
        "id": "yOlEBS236L_K"
      },
      "source": [
        "<p style=\"font-family: Arial; font-size:1.75em;color:#2462C0; font-style:bold\"><br>\n",
        "\n",
        "Use both integer indexing & slice indexing\n",
        "</p>\n",
        "\n",
        "We can use combinations of integer indexing and slice indexing to create different shaped matrices."
      ]
    },
    {
      "cell_type": "code",
      "execution_count": 5,
      "metadata": {
        "colab": {
          "base_uri": "https://localhost:8080/"
        },
        "id": "1BiMD7vC6L_K",
        "outputId": "c55f8991-6b57-4700-b4e0-b072b72e78f1"
      },
      "outputs": [
        {
          "name": "stdout",
          "output_type": "stream",
          "text": [
            "[[11 12 13 14]\n",
            " [21 22 23 24]\n",
            " [31 32 33 34]]\n"
          ]
        }
      ],
      "source": [
        "# Create a Rank 2 array of shape (3, 4)\n",
        "import numpy as np\n",
        "an_array = np.array([[11,12,13,14], [21,22,23,24], [31,32,33,34]])\n",
        "print(an_array)"
      ]
    },
    {
      "cell_type": "code",
      "execution_count": 6,
      "metadata": {
        "id": "Q1GWsFq56L_K"
      },
      "outputs": [
        {
          "name": "stdout",
          "output_type": "stream",
          "text": [
            "[21 22 23 24] (4,)\n"
          ]
        }
      ],
      "source": [
        "# Using both integer indexing & slicing generates an array of lower rank\n",
        "row_rank1 = an_array[1, :]    # Rank 1 view\n",
        "\n",
        "print(row_rank1, row_rank1.shape)  # notice only a single []"
      ]
    },
    {
      "cell_type": "code",
      "execution_count": 95,
      "metadata": {
        "colab": {
          "base_uri": "https://localhost:8080/"
        },
        "id": "fvzAr8KfrIAQ",
        "outputId": "f8a2e5f9-0dbe-4847-987a-123813ce06aa"
      },
      "outputs": [
        {
          "name": "stdout",
          "output_type": "stream",
          "text": [
            "[11 21 31] (3,)\n",
            "[[11]\n",
            " [21]\n",
            " [31]] (3, 1)\n"
          ]
        }
      ],
      "source": [
        "col_rank1 = an_array[:,0]\n",
        "col_rank2 = col_rank1.reshape(-1,1)\n",
        "print(col_rank1, col_rank1.shape)\n",
        "print(col_rank2, col_rank2.shape)"
      ]
    },
    {
      "cell_type": "code",
      "execution_count": 98,
      "metadata": {
        "colab": {
          "base_uri": "https://localhost:8080/"
        },
        "id": "7RpQ9iV16L_L",
        "outputId": "9c160235-3062-459e-a9ea-66c6b9c165d1"
      },
      "outputs": [
        {
          "name": "stdout",
          "output_type": "stream",
          "text": [
            "[[21 22 23 24]\n",
            " [31 32 33 34]] (2, 4)\n"
          ]
        }
      ],
      "source": [
        "# Slicing alone: generates an array of the same rank as the an_array\n",
        "row_rank2 = an_array[1:3, ]  # Rank 2 view\n",
        "\n",
        "print(row_rank2, row_rank2.shape)   # Notice the [[ ]]"
      ]
    },
    {
      "cell_type": "code",
      "execution_count": 102,
      "metadata": {
        "colab": {
          "base_uri": "https://localhost:8080/"
        },
        "id": "e-vXIY2KsdBr",
        "outputId": "e746f426-ee81-40de-e6b5-0b97e62dbb79"
      },
      "outputs": [
        {
          "name": "stdout",
          "output_type": "stream",
          "text": [
            "(8,)\n"
          ]
        }
      ],
      "source": [
        "print(row_rank2.flatten().shape)"
      ]
    },
    {
      "cell_type": "code",
      "execution_count": null,
      "metadata": {
        "colab": {
          "base_uri": "https://localhost:8080/"
        },
        "id": "JMp3a13V6L_L",
        "outputId": "ff90d3bb-2f5a-4f41-c0f7-63d269c28bc2"
      },
      "outputs": [
        {
          "name": "stdout",
          "output_type": "stream",
          "text": [
            "\n",
            "[12 22 32] (3,)\n",
            "\n",
            "[[12]\n",
            " [22]\n",
            " [32]] (3, 1)\n"
          ]
        }
      ],
      "source": [
        "#We can do the same thing for columns of an array:\n",
        "\n",
        "print()\n",
        "col_rank1 = an_array[:, 1]\n",
        "col_rank2 = an_array[:, 1:2]\n",
        "\n",
        "print(col_rank1, col_rank1.shape)  # Rank 1\n",
        "print()\n",
        "print(col_rank2, col_rank2.shape)  # Rank 2"
      ]
    },
    {
      "cell_type": "markdown",
      "metadata": {
        "id": "HfViNSla6L_L"
      },
      "source": [
        "<p style=\"font-family: Arial; font-size:1.75em;color:#2462C0; font-style:bold\"><br>\n",
        "\n",
        "Array Indexing for changing elements:\n",
        "</p>"
      ]
    },
    {
      "cell_type": "markdown",
      "metadata": {
        "id": "Yj9a5FPT6L_M"
      },
      "source": [
        "Sometimes it's useful to use an array of indexes to access or change elements."
      ]
    },
    {
      "cell_type": "code",
      "execution_count": null,
      "metadata": {
        "colab": {
          "base_uri": "https://localhost:8080/"
        },
        "id": "rDu4QXoR6L_M",
        "outputId": "5b353070-1f8b-4e46-8a3e-936c299a28fa"
      },
      "outputs": [
        {
          "name": "stdout",
          "output_type": "stream",
          "text": [
            "Original Array:\n",
            "[[11 12 13]\n",
            " [21 22 23]\n",
            " [31 32 33]\n",
            " [41 42 43]]\n"
          ]
        }
      ],
      "source": [
        "# Create a new array\n",
        "an_array = np.array([[11,12,13], [21,22,23], [31,32,33], [41,42,43]])\n",
        "\n",
        "print('Original Array:')\n",
        "print(an_array)"
      ]
    },
    {
      "cell_type": "code",
      "execution_count": null,
      "metadata": {
        "colab": {
          "base_uri": "https://localhost:8080/"
        },
        "id": "6PaUDwwY6L_M",
        "outputId": "3bc3e448-7bc4-40c0-958c-58055bc22c34"
      },
      "outputs": [
        {
          "name": "stdout",
          "output_type": "stream",
          "text": [
            "\n",
            "Col indices picked :  [0 1 2 0]\n",
            "\n",
            "Rows indices picked :  [0 1 2 3]\n"
          ]
        }
      ],
      "source": [
        "# Create an array of indices\n",
        "col_indices = np.array([0, 1, 2, 0])\n",
        "print('\\nCol indices picked : ', col_indices)\n",
        "\n",
        "row_indices = np.arange(4)\n",
        "print('\\nRows indices picked : ', row_indices)"
      ]
    },
    {
      "cell_type": "code",
      "execution_count": null,
      "metadata": {
        "colab": {
          "base_uri": "https://localhost:8080/"
        },
        "id": "8wXwm5Ce6L_N",
        "outputId": "87e615ec-3bec-4104-f7ae-bfbfff3be10c"
      },
      "outputs": [
        {
          "name": "stdout",
          "output_type": "stream",
          "text": [
            "0 ,  0\n",
            "1 ,  1\n",
            "2 ,  2\n",
            "3 ,  0\n"
          ]
        }
      ],
      "source": [
        "# Examine the pairings of row_indices and col_indices.  These are the elements we'll change next.\n",
        "for row,col in zip(row_indices,col_indices):\n",
        "    print(row, \", \",col)"
      ]
    },
    {
      "cell_type": "code",
      "execution_count": null,
      "metadata": {
        "colab": {
          "base_uri": "https://localhost:8080/"
        },
        "id": "r1DWaoLd6L_N",
        "outputId": "b95a9962-4e85-490a-c275-0e154f420e92"
      },
      "outputs": [
        {
          "name": "stdout",
          "output_type": "stream",
          "text": [
            "Values in the array at those indices:  [11 22 33 41]\n"
          ]
        }
      ],
      "source": [
        "# Select one element from each row\n",
        "print('Values in the array at those indices: ',an_array[row_indices, col_indices])"
      ]
    },
    {
      "cell_type": "code",
      "execution_count": null,
      "metadata": {
        "colab": {
          "base_uri": "https://localhost:8080/"
        },
        "id": "LaZBJSY86L_O",
        "outputId": "25978292-8af0-4ac5-814a-b8241d850903"
      },
      "outputs": [
        {
          "name": "stdout",
          "output_type": "stream",
          "text": [
            "\n",
            "Changed Array:\n",
            "[[100011     12     13]\n",
            " [    21 100022     23]\n",
            " [    31     32 100033]\n",
            " [100041     42     43]]\n"
          ]
        }
      ],
      "source": [
        "# Change one element from each row using the indices selected\n",
        "an_array[row_indices, col_indices] += 100000\n",
        "\n",
        "print('\\nChanged Array:')\n",
        "print(an_array)"
      ]
    },
    {
      "cell_type": "markdown",
      "metadata": {
        "id": "J7w0jw8w6L_O"
      },
      "source": [
        "<p style=\"font-family: Arial; font-size:2.75em;color:purple; font-style:bold\"><br>\n",
        "Boolean Indexing\n",
        "\n",
        "<br><br></p>\n",
        "<p style=\"font-family: Arial; font-size:1.75em;color:#2462C0; font-style:bold\"><br>\n",
        "\n",
        "Array Indexing for changing elements:\n",
        "</p>"
      ]
    },
    {
      "cell_type": "code",
      "execution_count": null,
      "metadata": {
        "colab": {
          "base_uri": "https://localhost:8080/"
        },
        "id": "VF6OoASG6L_O",
        "outputId": "7abf4313-32de-4407-9d82-21c60ce64b49"
      },
      "outputs": [
        {
          "name": "stdout",
          "output_type": "stream",
          "text": [
            "[[11 12]\n",
            " [21 22]\n",
            " [31 32]]\n"
          ]
        }
      ],
      "source": [
        "# create a 3x2 array\n",
        "an_array = np.array([[11,12], [21, 22], [31, 32]])\n",
        "print(an_array)"
      ]
    },
    {
      "cell_type": "code",
      "execution_count": null,
      "metadata": {
        "colab": {
          "base_uri": "https://localhost:8080/"
        },
        "id": "ov6Yf_o76L_O",
        "outputId": "8bef852a-35e0-4fe1-a8c6-27d3e149b4bb"
      },
      "outputs": [
        {
          "data": {
            "text/plain": [
              "array([[False, False],\n",
              "       [ True,  True],\n",
              "       [ True,  True]])"
            ]
          },
          "execution_count": 32,
          "metadata": {},
          "output_type": "execute_result"
        }
      ],
      "source": [
        "# create a filter which will be boolean values for whether each element meets this condition\n",
        "filter = (an_array > 15)\n",
        "filter"
      ]
    },
    {
      "cell_type": "markdown",
      "metadata": {
        "id": "Tg0V3I9U6L_P"
      },
      "source": [
        "Notice that the filter is a same size ndarray as an_array which is filled with True for each element whose corresponding element in an_array which is greater than 15 and False for those elements whose value is less than 15."
      ]
    },
    {
      "cell_type": "code",
      "execution_count": null,
      "metadata": {
        "colab": {
          "base_uri": "https://localhost:8080/"
        },
        "id": "KUlCtAVa6L_R",
        "outputId": "6b55a1a2-53ee-4390-aec6-dc17f1649fec"
      },
      "outputs": [
        {
          "name": "stdout",
          "output_type": "stream",
          "text": [
            "[21 22 31 32]\n"
          ]
        }
      ],
      "source": [
        "# we can now select just those elements which meet that criteria\n",
        "print(an_array[filter])"
      ]
    },
    {
      "cell_type": "code",
      "execution_count": null,
      "metadata": {
        "colab": {
          "base_uri": "https://localhost:8080/"
        },
        "id": "w7epT_al6L_R",
        "outputId": "ba89ebbe-0765-4b24-ae8a-533426ceb17f"
      },
      "outputs": [
        {
          "data": {
            "text/plain": [
              "array([21, 22, 31, 32])"
            ]
          },
          "execution_count": 34,
          "metadata": {},
          "output_type": "execute_result"
        }
      ],
      "source": [
        "# For short, we could have just used the approach below without the need for the separate filter array.\n",
        "\n",
        "an_array[an_array > 15]"
      ]
    },
    {
      "cell_type": "markdown",
      "metadata": {
        "id": "n51jkuxV6L_S"
      },
      "source": [
        "What is particularly useful is that we can actually change elements in the array applying a similar logical filter.  Let's add 100 to all the even values."
      ]
    },
    {
      "cell_type": "code",
      "execution_count": null,
      "metadata": {
        "colab": {
          "base_uri": "https://localhost:8080/"
        },
        "id": "Q5iqI3Fq6L_T",
        "outputId": "f15f6409-946c-480a-b69f-3a34ba3b9943"
      },
      "outputs": [
        {
          "name": "stdout",
          "output_type": "stream",
          "text": [
            "[[ 11 112]\n",
            " [ 21 122]\n",
            " [ 31 132]]\n"
          ]
        }
      ],
      "source": [
        "an_array[an_array % 2 == 0] +=100\n",
        "print(an_array)"
      ]
    },
    {
      "cell_type": "markdown",
      "metadata": {
        "id": "fayGmuRm6L_U"
      },
      "source": [
        "<p style=\"font-family: Arial; font-size:2.75em;color:purple; font-style:bold\"><br>\n",
        "\n",
        "Datatypes and Array Operations\n",
        "<br><br></p>"
      ]
    },
    {
      "cell_type": "markdown",
      "metadata": {
        "id": "KEg4FzNe6L_V"
      },
      "source": [
        "<p style=\"font-family: Arial; font-size:1.75em;color:#2462C0; font-style:bold\"><br>\n",
        "\n",
        "Datatypes:\n",
        "</p>"
      ]
    },
    {
      "cell_type": "code",
      "execution_count": null,
      "metadata": {
        "id": "uFjRkz_56L_W"
      },
      "outputs": [],
      "source": [
        "ex1 = np.array([11, 12]) # Python assigns the  data type\n",
        "print(ex1.dtype)"
      ]
    },
    {
      "cell_type": "code",
      "execution_count": null,
      "metadata": {
        "id": "w_g5kalI6L_X"
      },
      "outputs": [],
      "source": [
        "ex2 = np.array([11.0, 12.0]) # Python assigns the  data type\n",
        "print(ex2.dtype)"
      ]
    },
    {
      "cell_type": "code",
      "execution_count": null,
      "metadata": {
        "id": "-9BDgLaW6L_X"
      },
      "outputs": [],
      "source": [
        "ex3 = np.array([11, 21], dtype=np.int64) #You can also tell Python the  data type\n",
        "print(ex3.dtype)"
      ]
    },
    {
      "cell_type": "code",
      "execution_count": null,
      "metadata": {
        "id": "QAxeAHGF6L_Y"
      },
      "outputs": [],
      "source": [
        "# you can use this to force floats into integers (using floor function)\n",
        "ex4 = np.array([11.1,12.7], dtype=np.int64)\n",
        "print(ex4.dtype)\n",
        "print()\n",
        "print(ex4)"
      ]
    },
    {
      "cell_type": "code",
      "execution_count": null,
      "metadata": {
        "id": "RbAmnfiq6L_Z"
      },
      "outputs": [],
      "source": [
        "# you can use this to force integers into floats if you anticipate\n",
        "# the values may change to floats later\n",
        "ex5 = np.array([11, 21], dtype=np.float64)\n",
        "print(ex5.dtype)\n",
        "print()\n",
        "print(ex5)"
      ]
    },
    {
      "cell_type": "markdown",
      "metadata": {
        "id": "1Oa9Nnfe6L_Z"
      },
      "source": [
        "<p style=\"font-family: Arial; font-size:1.75em;color:#2462C0; font-style:bold\"><br>\n",
        "\n",
        "Arithmetic Array Operations:\n",
        "\n",
        "</p>"
      ]
    },
    {
      "cell_type": "code",
      "execution_count": null,
      "metadata": {
        "id": "9gTmOBt36L_a"
      },
      "outputs": [],
      "source": [
        "x = np.array([[111,112],[121,122]], dtype=np.int)\n",
        "y = np.array([[211.1,212.1],[221.1,222.1]], dtype=np.float64)\n",
        "\n",
        "print(x)\n",
        "print()\n",
        "print(y)"
      ]
    },
    {
      "cell_type": "code",
      "execution_count": null,
      "metadata": {
        "id": "V_bBi8V06L_a"
      },
      "outputs": [],
      "source": [
        "# add\n",
        "print(x + y)         # The plus sign works\n",
        "print()\n",
        "print(np.add(x, y))  # so does the numpy function \"add\""
      ]
    },
    {
      "cell_type": "code",
      "execution_count": null,
      "metadata": {
        "id": "YJ3husuo6L_b"
      },
      "outputs": [],
      "source": [
        "# subtract\n",
        "print(x - y)\n",
        "print()\n",
        "print(np.subtract(x, y))"
      ]
    },
    {
      "cell_type": "code",
      "execution_count": null,
      "metadata": {
        "id": "r5Bnx1VJ6L_c"
      },
      "outputs": [],
      "source": [
        "# multiply\n",
        "print(x * y)\n",
        "print()\n",
        "print(np.multiply(x, y))"
      ]
    },
    {
      "cell_type": "code",
      "execution_count": null,
      "metadata": {
        "id": "dF380Kbz6L_d"
      },
      "outputs": [],
      "source": [
        "# divide\n",
        "print(x / y)\n",
        "print()\n",
        "print(np.divide(x, y))"
      ]
    },
    {
      "cell_type": "code",
      "execution_count": null,
      "metadata": {
        "id": "kkWWqk6O6L_e"
      },
      "outputs": [],
      "source": [
        "# square root\n",
        "print(np.sqrt(x))"
      ]
    },
    {
      "cell_type": "code",
      "execution_count": null,
      "metadata": {
        "id": "p1JRVn3c6L_g"
      },
      "outputs": [],
      "source": [
        "# exponent (e ** x)\n",
        "print(np.exp(x))"
      ]
    },
    {
      "cell_type": "markdown",
      "metadata": {
        "id": "zlRNYQvL6L_h"
      },
      "source": [
        "<p style=\"font-family: Arial; font-size:2.75em;color:purple; font-style:bold\"><br>\n",
        "\n",
        "Statistical Methods, Sorting, and <br> <br> Set Operations:\n",
        "<br><br>\n",
        "</p>"
      ]
    },
    {
      "cell_type": "markdown",
      "metadata": {
        "id": "KuaCiqld6L_i"
      },
      "source": [
        "<p style=\"font-family: Arial; font-size:1.75em;color:#2462C0; font-style:bold\"><br>\n",
        "\n",
        "Basic Statistical Operations:\n",
        "</p>"
      ]
    },
    {
      "cell_type": "code",
      "execution_count": null,
      "metadata": {
        "id": "-PxMBayf6L_j"
      },
      "outputs": [],
      "source": [
        "# setup a random 2 x 4 matrix\n",
        "arr = 10 * np.random.randn(2,5)\n",
        "print(arr)"
      ]
    },
    {
      "cell_type": "code",
      "execution_count": null,
      "metadata": {
        "id": "IU8UzhB06L_k"
      },
      "outputs": [],
      "source": [
        "# compute the mean for all elements\n",
        "print(arr.mean())"
      ]
    },
    {
      "cell_type": "code",
      "execution_count": null,
      "metadata": {
        "id": "cXzzcMZo6L_k"
      },
      "outputs": [],
      "source": [
        "# compute the means by row\n",
        "print(arr.mean(axis = 1))"
      ]
    },
    {
      "cell_type": "code",
      "execution_count": null,
      "metadata": {
        "id": "GaeDU8606L_l"
      },
      "outputs": [],
      "source": [
        "# compute the means by column\n",
        "print(arr.mean(axis = 0))"
      ]
    },
    {
      "cell_type": "code",
      "execution_count": null,
      "metadata": {
        "id": "K_p_OWYh6L_l"
      },
      "outputs": [],
      "source": [
        "# sum all the elements\n",
        "print(arr.sum())"
      ]
    },
    {
      "cell_type": "code",
      "execution_count": null,
      "metadata": {
        "id": "6dXbWlRZ6L_m"
      },
      "outputs": [],
      "source": [
        "# compute the medians\n",
        "print(np.median(arr, axis = 1))"
      ]
    },
    {
      "cell_type": "markdown",
      "metadata": {
        "id": "sjLa_Rde6L_m"
      },
      "source": [
        "<p style=\"font-family: Arial; font-size:1.75em;color:#2462C0; font-style:bold\"><br>\n",
        "\n",
        "Sorting:\n",
        "</p>\n"
      ]
    },
    {
      "cell_type": "code",
      "execution_count": null,
      "metadata": {
        "id": "JQFif12g6L_n"
      },
      "outputs": [],
      "source": [
        "# create a 10 element array of randoms\n",
        "unsorted = np.random.randn(10)\n",
        "\n",
        "print(unsorted)"
      ]
    },
    {
      "cell_type": "code",
      "execution_count": null,
      "metadata": {
        "id": "yJt7iO1J6L_n"
      },
      "outputs": [],
      "source": [
        "# create copy and sort\n",
        "sorted = np.array(unsorted)\n",
        "sorted.sort()\n",
        "\n",
        "print(sorted)\n",
        "print()\n",
        "print(unsorted)"
      ]
    },
    {
      "cell_type": "code",
      "execution_count": null,
      "metadata": {
        "id": "rbP6vEC36L_o"
      },
      "outputs": [],
      "source": [
        "# inplace sorting\n",
        "unsorted.sort()\n",
        "\n",
        "print(unsorted)"
      ]
    },
    {
      "cell_type": "markdown",
      "metadata": {
        "id": "eB2pScsI6L_p"
      },
      "source": [
        "<p style=\"font-family: Arial; font-size:1.75em;color:#2462C0; font-style:bold\"><br>\n",
        "\n",
        "Finding Unique elements:\n",
        "</p>"
      ]
    },
    {
      "cell_type": "code",
      "execution_count": null,
      "metadata": {
        "id": "V-3Fm2Ut6L_p"
      },
      "outputs": [],
      "source": [
        "array = np.array([1,2,1,4,2,1,4,2])\n",
        "\n",
        "print(np.unique(array))"
      ]
    },
    {
      "cell_type": "markdown",
      "metadata": {
        "id": "KtzSJSoW6L_q"
      },
      "source": [
        "<p style=\"font-family: Arial; font-size:1.75em;color:#2462C0; font-style:bold\"><br>\n",
        "\n",
        "Set Operations with np.array data type:\n",
        "</p>"
      ]
    },
    {
      "cell_type": "code",
      "execution_count": null,
      "metadata": {
        "id": "yRvqOZ2z6L_q"
      },
      "outputs": [],
      "source": [
        "s1 = np.array(['desk','chair','bulb'])\n",
        "s2 = np.array(['lamp','bulb','chair'])\n",
        "print(s1, s2)"
      ]
    },
    {
      "cell_type": "code",
      "execution_count": null,
      "metadata": {
        "id": "4faHb1XX6L_r"
      },
      "outputs": [],
      "source": [
        "print( np.intersect1d(s1, s2) )"
      ]
    },
    {
      "cell_type": "code",
      "execution_count": null,
      "metadata": {
        "id": "e3ct6pZe6L_r"
      },
      "outputs": [],
      "source": [
        "print( np.union1d(s1, s2) )"
      ]
    },
    {
      "cell_type": "code",
      "execution_count": null,
      "metadata": {
        "id": "yQQfr3u16L_s"
      },
      "outputs": [],
      "source": [
        "print( np.setdiff1d(s1, s2) )# elements in s1 that are not in s2"
      ]
    },
    {
      "cell_type": "code",
      "execution_count": null,
      "metadata": {
        "id": "F_e3GKnD6L_s"
      },
      "outputs": [],
      "source": [
        "print( np.in1d(s1, s2) )#which element of s1 is also in s2"
      ]
    },
    {
      "cell_type": "markdown",
      "metadata": {
        "id": "Z_aF_V3u6L_t"
      },
      "source": [
        "<p style=\"font-family: Arial; font-size:2.75em;color:purple; font-style:bold\"><br>\n",
        "\n",
        "Broadcasting:\n",
        "<br><br>\n",
        "</p>"
      ]
    },
    {
      "cell_type": "markdown",
      "metadata": {
        "id": "KASs3ceO6L_u"
      },
      "source": [
        "Introduction to broadcasting. <br>\n",
        "For more details, please see: <br>\n",
        "https://docs.scipy.org/doc/numpy-1.10.1/user/basics.broadcasting.html"
      ]
    },
    {
      "cell_type": "code",
      "execution_count": null,
      "metadata": {
        "id": "dS1BOYhY6L_v"
      },
      "outputs": [],
      "source": [
        "import numpy as np\n",
        "\n",
        "start = np.zeros((4,3))\n",
        "print(start)"
      ]
    },
    {
      "cell_type": "code",
      "execution_count": null,
      "metadata": {
        "id": "AJPAnrj16L_v"
      },
      "outputs": [],
      "source": [
        "# create a rank 1 ndarray with 3 values\n",
        "add_rows = np.array([1, 0, 2])\n",
        "print(add_rows)"
      ]
    },
    {
      "cell_type": "code",
      "execution_count": null,
      "metadata": {
        "id": "Nh03cO746L_w"
      },
      "outputs": [],
      "source": [
        "y = start + add_rows  # add to each row of 'start' using broadcasting\n",
        "print(y)"
      ]
    },
    {
      "cell_type": "code",
      "execution_count": null,
      "metadata": {
        "id": "LMkfXvj86L_x"
      },
      "outputs": [],
      "source": [
        "# create an ndarray which is 4 x 1 to broadcast across columns\n",
        "add_cols = np.array([[0,1,2,3]])\n",
        "add_cols = add_cols.T\n",
        "\n",
        "print(add_cols)"
      ]
    },
    {
      "cell_type": "code",
      "execution_count": null,
      "metadata": {
        "id": "8Q39cHqa6L_x"
      },
      "outputs": [],
      "source": [
        "# add to each column of 'start' using broadcasting\n",
        "y = start + add_cols\n",
        "print(y)"
      ]
    },
    {
      "cell_type": "code",
      "execution_count": null,
      "metadata": {
        "id": "w26KyjIU6L_x"
      },
      "outputs": [],
      "source": [
        "# this will just broadcast in both dimensions\n",
        "add_scalar = np.array([1])\n",
        "print(start+add_scalar)"
      ]
    },
    {
      "cell_type": "markdown",
      "metadata": {
        "id": "she6QtCL6L_y"
      },
      "source": [
        "Example from the slides:"
      ]
    },
    {
      "cell_type": "code",
      "execution_count": null,
      "metadata": {
        "id": "gbLtURNy6L_y"
      },
      "outputs": [],
      "source": [
        "# create our 3x4 matrix\n",
        "arrA = np.array([[1,2,3,4],[5,6,7,8],[9,10,11,12]])\n",
        "print(arrA)"
      ]
    },
    {
      "cell_type": "code",
      "execution_count": null,
      "metadata": {
        "id": "dc5_lJJx6L_z"
      },
      "outputs": [],
      "source": [
        "# create our 4x1 array\n",
        "arrB = [0,1,0,2]\n",
        "print(arrB)"
      ]
    },
    {
      "cell_type": "code",
      "execution_count": null,
      "metadata": {
        "id": "0ROli5VY6L_z"
      },
      "outputs": [],
      "source": [
        "# add the two together using broadcasting\n",
        "print(arrA + arrB)"
      ]
    },
    {
      "cell_type": "markdown",
      "metadata": {
        "id": "N90Uy4Vp6L_z"
      },
      "source": [
        "<p style=\"font-family: Arial; font-size:2.75em;color:purple; font-style:bold\"><br>\n",
        "\n",
        "Speedtest: ndarrays vs lists\n",
        "<br><br>\n",
        "</p>"
      ]
    },
    {
      "cell_type": "markdown",
      "metadata": {
        "id": "ZwZEcNEi6L_0"
      },
      "source": [
        "First setup paramaters for the speed test. We'll be testing time to sum elements in an ndarray versus a list."
      ]
    },
    {
      "cell_type": "code",
      "execution_count": null,
      "metadata": {
        "id": "V9_y-iSm6L_0"
      },
      "outputs": [],
      "source": [
        "from numpy import arange\n",
        "from timeit import Timer\n",
        "\n",
        "size    = 1000000\n",
        "timeits = 1000"
      ]
    },
    {
      "cell_type": "code",
      "execution_count": null,
      "metadata": {
        "id": "prVKBBq76L_0"
      },
      "outputs": [],
      "source": [
        "# create the ndarray with values 0,1,2...,size-1\n",
        "nd_array = arange(size)\n",
        "print( type(nd_array) )"
      ]
    },
    {
      "cell_type": "code",
      "execution_count": null,
      "metadata": {
        "id": "S-k530yJ6L_1"
      },
      "outputs": [],
      "source": [
        "# timer expects the operation as a parameter,\n",
        "# here we pass nd_array.sum()\n",
        "timer_numpy = Timer(\"nd_array.sum()\", \"from __main__ import nd_array\")\n",
        "\n",
        "print(\"Time taken by numpy ndarray: %f seconds\" %\n",
        "      (timer_numpy.timeit(timeits)/timeits))"
      ]
    },
    {
      "cell_type": "code",
      "execution_count": null,
      "metadata": {
        "id": "NByas6XR6L_1"
      },
      "outputs": [],
      "source": [
        "# create the list with values 0,1,2...,size-1\n",
        "a_list = list(range(size))\n",
        "print (type(a_list) )"
      ]
    },
    {
      "cell_type": "code",
      "execution_count": null,
      "metadata": {
        "id": "gUdqToSO6L_2"
      },
      "outputs": [],
      "source": [
        "# timer expects the operation as a parameter, here we pass sum(a_list)\n",
        "timer_list = Timer(\"sum(a_list)\", \"from __main__ import a_list\")\n",
        "\n",
        "print(\"Time taken by list:  %f seconds\" %\n",
        "      (timer_list.timeit(timeits)/timeits))"
      ]
    },
    {
      "cell_type": "markdown",
      "metadata": {
        "id": "uN_bGo2q6L_2"
      },
      "source": [
        "<p style=\"font-family: Arial; font-size:2.75em;color:purple; font-style:bold\"><br>\n",
        "\n",
        "Read or Write to Disk:\n",
        "<br><br>\n",
        "</p>"
      ]
    },
    {
      "cell_type": "markdown",
      "metadata": {
        "id": "k3Uqr-n-6L_2"
      },
      "source": [
        "<p style=\"font-family: Arial; font-size:1.3em;color:#2462C0; font-style:bold\"><br>\n",
        "\n",
        "Binary Format:</p>"
      ]
    },
    {
      "cell_type": "code",
      "execution_count": null,
      "metadata": {
        "id": "4xPXy54R6L_3"
      },
      "outputs": [],
      "source": [
        "x = np.array([ 23.23, 24.24] )"
      ]
    },
    {
      "cell_type": "code",
      "execution_count": null,
      "metadata": {
        "id": "oenuQIv36L_3"
      },
      "outputs": [],
      "source": [
        "np.save('an_array', x)"
      ]
    },
    {
      "cell_type": "code",
      "execution_count": null,
      "metadata": {
        "id": "zSfVzfOc6L_3"
      },
      "outputs": [],
      "source": [
        "np.load('an_array.npy')"
      ]
    },
    {
      "cell_type": "markdown",
      "metadata": {
        "id": "n9mwBDrT6L_4"
      },
      "source": [
        "<p style=\"font-family: Arial; font-size:1.3em;color:#2462C0; font-style:bold\"><br>\n",
        "\n",
        "Text Format:</p>"
      ]
    },
    {
      "cell_type": "code",
      "execution_count": null,
      "metadata": {
        "id": "sLf5J8nJ6L_4"
      },
      "outputs": [],
      "source": [
        "np.savetxt('array.txt', X=x, delimiter=',')"
      ]
    },
    {
      "cell_type": "code",
      "execution_count": null,
      "metadata": {
        "id": "TEzXnZlv6L_4"
      },
      "outputs": [],
      "source": [
        "## For Windows replace \"cat\" with \"type\"\n",
        "!cat array.txt"
      ]
    },
    {
      "cell_type": "code",
      "execution_count": null,
      "metadata": {
        "id": "4yWdQLAW6L_5",
        "scrolled": true
      },
      "outputs": [],
      "source": [
        "np.loadtxt('array.txt', delimiter=',')"
      ]
    },
    {
      "cell_type": "markdown",
      "metadata": {
        "id": "JVky1but6L_5"
      },
      "source": [
        "<p style=\"font-family: Arial; font-size:2.75em;color:purple; font-style:bold\"><br>\n",
        "\n",
        "Additional Common ndarray Operations\n",
        "<br><br></p>"
      ]
    },
    {
      "cell_type": "markdown",
      "metadata": {
        "id": "WLsoSbHz6L_5"
      },
      "source": [
        "<p style=\"font-family: Arial; font-size:1.75em;color:#2462C0; font-style:bold\"><br>\n",
        "\n",
        "Dot Product on Matrices and Inner Product on Vectors:\n",
        "\n",
        "</p>"
      ]
    },
    {
      "cell_type": "code",
      "execution_count": null,
      "metadata": {
        "id": "QMgd8lPG6L_6"
      },
      "outputs": [],
      "source": [
        "# determine the dot product of two matrices\n",
        "x2d = np.array([[1,1],[1,1]])\n",
        "y2d = np.array([[2,2],[2,2]])\n",
        "\n",
        "print(x2d.dot(y2d))\n",
        "print()\n",
        "print(np.dot(x2d, y2d))"
      ]
    },
    {
      "cell_type": "code",
      "execution_count": null,
      "metadata": {
        "id": "qXxGZHpg6L_6"
      },
      "outputs": [],
      "source": [
        "# determine the inner product of two vectors\n",
        "a1d = np.array([9 , 9 ])\n",
        "b1d = np.array([10, 10])\n",
        "\n",
        "print(a1d.dot(b1d))\n",
        "print()\n",
        "print(np.dot(a1d, b1d))"
      ]
    },
    {
      "cell_type": "code",
      "execution_count": null,
      "metadata": {
        "id": "_pvvSRgX6L_6"
      },
      "outputs": [],
      "source": [
        "# dot produce on an array and vector\n",
        "print(x2d.dot(a1d))\n",
        "print()\n",
        "print(np.dot(x2d, a1d))"
      ]
    },
    {
      "cell_type": "markdown",
      "metadata": {
        "id": "qShx3GuD6L_7"
      },
      "source": [
        "<p style=\"font-family: Arial; font-size:1.75em;color:#2462C0; font-style:bold\"><br>\n",
        "\n",
        "Sum:\n",
        "</p>"
      ]
    },
    {
      "cell_type": "code",
      "execution_count": null,
      "metadata": {
        "id": "0ZOVJNw86L_7"
      },
      "outputs": [],
      "source": [
        "# sum elements in the array\n",
        "ex1 = np.array([[11,12],[21,22]])\n",
        "\n",
        "print(np.sum(ex1))          # add all members"
      ]
    },
    {
      "cell_type": "code",
      "execution_count": null,
      "metadata": {
        "id": "Xy1jD66y6L_8"
      },
      "outputs": [],
      "source": [
        "print(np.sum(ex1, axis=0))  # columnwise sum"
      ]
    },
    {
      "cell_type": "code",
      "execution_count": null,
      "metadata": {
        "id": "NkyrD_KE6L_9"
      },
      "outputs": [],
      "source": [
        "print(np.sum(ex1, axis=1))  # rowwise sum"
      ]
    },
    {
      "cell_type": "markdown",
      "metadata": {
        "id": "nDqRh2d56L_9"
      },
      "source": [
        "<p style=\"font-family: Arial; font-size:1.75em;color:#2462C0; font-style:bold\"><br>\n",
        "\n",
        "Element-wise Functions: </p>\n",
        "\n",
        "For example, let's compare two arrays values to get the maximum of each."
      ]
    },
    {
      "cell_type": "code",
      "execution_count": null,
      "metadata": {
        "id": "TYcGKjIi6L_9"
      },
      "outputs": [],
      "source": [
        "# random array\n",
        "x = np.random.randn(8)\n",
        "x"
      ]
    },
    {
      "cell_type": "code",
      "execution_count": null,
      "metadata": {
        "id": "qAG1u3Yg6L_-"
      },
      "outputs": [],
      "source": [
        "# another random array\n",
        "y = np.random.randn(8)\n",
        "y"
      ]
    },
    {
      "cell_type": "code",
      "execution_count": null,
      "metadata": {
        "id": "787xf19H6L_-"
      },
      "outputs": [],
      "source": [
        "# returns element wise maximum between two arrays\n",
        "\n",
        "np.maximum(x, y)"
      ]
    },
    {
      "cell_type": "markdown",
      "metadata": {
        "id": "as2KfXYV6L__"
      },
      "source": [
        "<p style=\"font-family: Arial; font-size:1.75em;color:#2462C0; font-style:bold\"><br>\n",
        "\n",
        "Reshaping array:\n",
        "</p>"
      ]
    },
    {
      "cell_type": "code",
      "execution_count": null,
      "metadata": {
        "id": "2oOByXL56L__"
      },
      "outputs": [],
      "source": [
        "# grab values from 0 through 19 in an array\n",
        "arr = np.arange(20)\n",
        "print(arr)"
      ]
    },
    {
      "cell_type": "code",
      "execution_count": null,
      "metadata": {
        "id": "WsOhBdpp6MAA"
      },
      "outputs": [],
      "source": [
        "# reshape to be a 4 x 5 matrix\n",
        "arr.reshape(4,5)"
      ]
    },
    {
      "cell_type": "markdown",
      "metadata": {
        "id": "pnOm7ZRt6MAA"
      },
      "source": [
        "<p style=\"font-family: Arial; font-size:1.75em;color:#2462C0; font-style:bold\"><br>\n",
        "\n",
        "Transpose:\n",
        "\n",
        "</p>"
      ]
    },
    {
      "cell_type": "code",
      "execution_count": null,
      "metadata": {
        "id": "16Rlxwtz6MAB"
      },
      "outputs": [],
      "source": [
        "# transpose\n",
        "ex1 = np.array([[11,12],[21,22]])\n",
        "\n",
        "ex1.T"
      ]
    },
    {
      "cell_type": "markdown",
      "metadata": {
        "id": "880-f2hu6MAC"
      },
      "source": [
        "<p style=\"font-family: Arial; font-size:1.75em;color:#2462C0; font-style:bold\"><br>\n",
        "\n",
        "Indexing using where():</p>"
      ]
    },
    {
      "cell_type": "code",
      "execution_count": null,
      "metadata": {
        "id": "kFvadZvJ6MAC"
      },
      "outputs": [],
      "source": [
        "x_1 = np.array([1,2,3,4,5])\n",
        "\n",
        "y_1 = np.array([11,22,33,44,55])\n",
        "\n",
        "filter = np.array([True, False, True, False, True])"
      ]
    },
    {
      "cell_type": "code",
      "execution_count": null,
      "metadata": {
        "id": "kueRY8q46MAD"
      },
      "outputs": [],
      "source": [
        "out = np.where(filter, x_1, y_1)\n",
        "print(out)"
      ]
    },
    {
      "cell_type": "code",
      "execution_count": null,
      "metadata": {
        "id": "IPAYBlfq6MAE"
      },
      "outputs": [],
      "source": [
        "mat = np.random.rand(5,5)\n",
        "mat"
      ]
    },
    {
      "cell_type": "code",
      "execution_count": null,
      "metadata": {
        "id": "AKz4icyJ6MAE"
      },
      "outputs": [],
      "source": [
        "np.where( mat > 0.5, 1000, -1)"
      ]
    },
    {
      "cell_type": "markdown",
      "metadata": {
        "id": "GtraEFPP6MAF"
      },
      "source": [
        "<p style=\"font-family: Arial; font-size:1.75em;color:#2462C0; font-style:bold\"><br>\n",
        "\n",
        "\"any\" or \"all\" conditionals:</p>"
      ]
    },
    {
      "cell_type": "code",
      "execution_count": null,
      "metadata": {
        "id": "WHQ_4BDz6MAF"
      },
      "outputs": [],
      "source": [
        "arr_bools = np.array([ True, False, True, True, False ])"
      ]
    },
    {
      "cell_type": "code",
      "execution_count": null,
      "metadata": {
        "id": "zn_fq7ys6MAG"
      },
      "outputs": [],
      "source": [
        "arr_bools.any()"
      ]
    },
    {
      "cell_type": "code",
      "execution_count": null,
      "metadata": {
        "id": "XJoTld5c6MAH",
        "scrolled": true
      },
      "outputs": [],
      "source": [
        "arr_bools.all()"
      ]
    },
    {
      "cell_type": "markdown",
      "metadata": {
        "id": "ku4tSLTb6MAH"
      },
      "source": [
        "<p style=\"font-family: Arial; font-size:1.75em;color:#2462C0; font-style:bold\"><br>\n",
        "\n",
        "Random Number Generation:\n",
        "</p>"
      ]
    },
    {
      "cell_type": "code",
      "execution_count": null,
      "metadata": {
        "id": "NkKWL43l6MAI"
      },
      "outputs": [],
      "source": [
        "Y = np.random.normal(size = (1,5))[0]\n",
        "print(Y)"
      ]
    },
    {
      "cell_type": "code",
      "execution_count": null,
      "metadata": {
        "id": "EYVFr2Ze6MAJ"
      },
      "outputs": [],
      "source": [
        "Z = np.random.randint(low=2,high=50,size=4)\n",
        "print(Z)"
      ]
    },
    {
      "cell_type": "code",
      "execution_count": null,
      "metadata": {
        "id": "QFTyGmLB6MAJ"
      },
      "outputs": [],
      "source": [
        "np.random.permutation(Z) #return a new ordering of elements in Z"
      ]
    },
    {
      "cell_type": "code",
      "execution_count": null,
      "metadata": {
        "id": "yb1dJ5SU6MAK"
      },
      "outputs": [],
      "source": [
        "np.random.uniform(size=4) #uniform distribution"
      ]
    },
    {
      "cell_type": "code",
      "execution_count": null,
      "metadata": {
        "id": "Hf2xT0126MAK"
      },
      "outputs": [],
      "source": [
        "np.random.normal(size=4) #normal distribution"
      ]
    },
    {
      "cell_type": "markdown",
      "metadata": {
        "id": "qecEwXfK6MAL"
      },
      "source": [
        "<p style=\"font-family: Arial; font-size:1.75em;color:#2462C0; font-style:bold\"><br>\n",
        "\n",
        "Merging data sets:\n",
        "</p>"
      ]
    },
    {
      "cell_type": "code",
      "execution_count": null,
      "metadata": {
        "id": "JmqIvtsj6MAL"
      },
      "outputs": [],
      "source": [
        "K = np.random.randint(low=2,high=50,size=(2,2))\n",
        "print(K)\n",
        "\n",
        "print()\n",
        "M = np.random.randint(low=2,high=50,size=(2,2))\n",
        "print(M)"
      ]
    },
    {
      "cell_type": "code",
      "execution_count": null,
      "metadata": {
        "id": "V8GYyvqQ6MAM"
      },
      "outputs": [],
      "source": [
        "np.vstack((K,M))"
      ]
    },
    {
      "cell_type": "code",
      "execution_count": null,
      "metadata": {
        "id": "Mc4tt-5r6MAM"
      },
      "outputs": [],
      "source": [
        "np.hstack((K,M))"
      ]
    },
    {
      "cell_type": "code",
      "execution_count": null,
      "metadata": {
        "id": "KNr_LEEy6MAN"
      },
      "outputs": [],
      "source": [
        "np.concatenate([K, M], axis = 0)"
      ]
    },
    {
      "cell_type": "code",
      "execution_count": null,
      "metadata": {
        "id": "t4PuQYpT6MAN"
      },
      "outputs": [],
      "source": [
        "np.concatenate([K, M.T], axis = 1)"
      ]
    },
    {
      "cell_type": "code",
      "execution_count": null,
      "metadata": {
        "id": "jgCkhGVW6MAO"
      },
      "outputs": [],
      "source": []
    }
  ],
  "metadata": {
    "colab": {
      "provenance": []
    },
    "kernelspec": {
      "display_name": "Python 3",
      "language": "python",
      "name": "python3"
    },
    "language_info": {
      "codemirror_mode": {
        "name": "ipython",
        "version": 3
      },
      "file_extension": ".py",
      "mimetype": "text/x-python",
      "name": "python",
      "nbconvert_exporter": "python",
      "pygments_lexer": "ipython3",
      "version": "3.11.4"
    }
  },
  "nbformat": 4,
  "nbformat_minor": 0
}
