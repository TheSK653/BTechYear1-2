{
  "cells": [
    {
      "cell_type": "markdown",
      "metadata": {
        "id": "yoY9zaHtpTXP"
      },
      "source": [
        "#Introduction to NumPy"
      ]
    },
    {
      "cell_type": "markdown",
      "metadata": {
        "id": "jrbdbWT2pWwR"
      },
      "source": [
        "NumPy is an essential Python library. TensorFlow and scikit-learn use NumPy arrays as inputs, and pandas and Matplotlib are built on top of NumPy. In this Introduction to NumPy, you’ll become a master wrangler of NumPy’s core object: arrays! Using data from New York City’s tree census, you’ll create, sort, filter, and update arrays. You’ll discover why NumPy is so efficient and use broadcasting and vectorization to make your NumPy code even faster. By the end, you’ll be using 3D arrays to alter a Claude Monet painting, and you’ll understand why such array alterations are essential tools for machine learning."
      ]
    },
    {
      "cell_type": "markdown",
      "metadata": {
        "id": "PJDVNeLTpozV"
      },
      "source": [
        "#Understanding NumPy Arrays\n",
        "Meet the incredible NumPy array! Learn how to create and change array shapes to suit your needs. Finally, discover NumPy’s many data types and how they contribute to speedy array operations."
      ]
    },
    {
      "cell_type": "markdown",
      "metadata": {
        "id": "pYJCBX1tp2cX"
      },
      "source": [
        "#Introducing arrays\n",
        "Your first NumPy array\n",
        "Once you’re comfortable with NumPy, you’ll find yourself converting Python lists into NumPy arrays all the time for increased speed and access to NumPy’s excellent array methods.\n",
        "\n",
        "`sudoku_list` is a Python list containing a sudoku game:"
      ]
    },
    {
      "cell_type": "code",
      "execution_count": 43,
      "metadata": {
        "id": "LMNyarmPp66R"
      },
      "outputs": [],
      "source": [
        "sudoku_list = [[0, 0, 4, 3, 0, 0, 2, 0, 9],\n",
        "                [0, 0, 5, 0, 0, 9, 0, 0, 1],\n",
        "                [0, 7, 0, 0, 6, 0, 0, 4, 3],\n",
        "                [0, 0, 6, 0, 0, 2, 0, 8, 7],\n",
        "                [1, 9, 0, 0, 0, 7, 4, 0, 0],\n",
        "                [0, 5, 0, 0, 8, 3, 0, 0, 0],\n",
        "                [6, 0, 0, 0, 0, 0, 1, 0, 5],\n",
        "                [0, 0, 3, 5, 0, 8, 6, 9, 0],\n",
        "                [0, 4, 2, 9, 1, 0, 3, 0, 0]]"
      ]
    },
    {
      "cell_type": "markdown",
      "metadata": {
        "id": "irIRgHmgqJqu"
      },
      "source": [
        "You’re going to change `sudoku_list` into a NumPy array so you can practice with it in later lessons, for example by creating a 4D array of sudoku games along with their solutions!\n",
        "\n",
        "*   Import NumPy using its generally accepted alias.\n",
        "*   Convert `sudoku_list` into a NumPy array called `sudoku_array`.\n",
        "*   Print the class `type()` of `sudoku_array` to check that your code has worked properly."
      ]
    },
    {
      "cell_type": "code",
      "execution_count": 44,
      "metadata": {
        "id": "CWKk9yEQqZPL"
      },
      "outputs": [
        {
          "name": "stdout",
          "output_type": "stream",
          "text": [
            "<class 'numpy.ndarray'>\n"
          ]
        }
      ],
      "source": [
        "# Import NumPy\n",
        "import numpy as np\n",
        "\n",
        "# Convert sudoku_list into an array\n",
        "sudoku_array=np.array(sudoku_list)\n",
        "\n",
        "# Print the type of sudoku_array\n",
        "print(type(sudoku_array))"
      ]
    },
    {
      "cell_type": "markdown",
      "metadata": {
        "id": "CGHDTPbgqkHq"
      },
      "source": [
        "##Creating arrays from scratch\n",
        "It can be helpful to know how to create quick NumPy arrays from scratch in order to test your code. For example, when you are doing math with large multi-dimensional arrays, it’s nice to check whether the math works as expected on small test arrays before applying your code to the larger arrays. NumPy has many options for creating smaller synthetic arrays.\n",
        "\n",
        "With this in mind, it’s time for you to create some arrays from scratch! `numpy` is imported for you as `np`.\n",
        "\n",
        "*   Create and print an array filled with zeros called `zero_array`, which has two rows and four columns.\n",
        "*   Create and print an array of random floats between `0` and `1` called `random_array`, which has three rows and six columns.\n",
        "\n",
        "\n"
      ]
    },
    {
      "cell_type": "code",
      "execution_count": 45,
      "metadata": {
        "id": "bKiJOeahqjoz"
      },
      "outputs": [
        {
          "name": "stdout",
          "output_type": "stream",
          "text": [
            "[[0.864 0.423 0.03  0.249 0.135 0.404]\n",
            " [0.396 0.514 0.31  0.158 0.094 0.14 ]\n",
            " [0.965 0.647 0.378 0.586 0.719 0.379]]\n"
          ]
        }
      ],
      "source": [
        "# Create an array of zeros which has four columns and two rows\n",
        "zero_array=np.zeros((2,4))\n",
        "# Create an array of random floats which has six columns and three rows\n",
        "random_array=np.random.random((3,6))\n",
        "print(np.round(random_array,3))"
      ]
    },
    {
      "cell_type": "markdown",
      "metadata": {
        "id": "sML6KlLrrZyz"
      },
      "source": [
        "##A range array\n",
        "`np.arange()` has especially useful applications in graphing. Your task is to create a scatter plot with the values from `doubling_array` on the y-axis."
      ]
    },
    {
      "cell_type": "code",
      "execution_count": 46,
      "metadata": {
        "id": "uQvWnJXXrrFk"
      },
      "outputs": [],
      "source": [
        "doubling_array = [1, 2, 4, 8, 16, 32, 64, 128, 256, 512]"
      ]
    },
    {
      "cell_type": "markdown",
      "metadata": {
        "id": "UfAJl4a8rtX9"
      },
      "source": [
        "Recall that a scatter plot can be created using the following code:\n",
        "\n",
        "\n",
        "```\n",
        "plt.scatter(x_values, y_values)\n",
        "plt.show()\n",
        "```\n",
        "\n",
        "\n",
        "With `doubling_array` on the y-axis, you now need values for the x-axis, which you can create with `np.arange()`!\n",
        "\n",
        "`numpy` is loaded for you as `np`, and `matplotlib.pyplot` is imported as `plt`."
      ]
    },
    {
      "cell_type": "code",
      "execution_count": 47,
      "metadata": {
        "id": "gAxKIO4hrxBX"
      },
      "outputs": [],
      "source": [
        "import numpy as np\n",
        "from matplotlib import pyplot as plt"
      ]
    },
    {
      "cell_type": "markdown",
      "metadata": {
        "id": "Oc-69sVNsR6n"
      },
      "source": [
        "*   Using `np.arange()`, create a 1D array called `one_to_ten` which holds all integers from one to ten (inclusive).\n",
        "*   Create a scatterplot with `doubling_array` as the y values and `one_to_ten` as the x values."
      ]
    },
    {
      "cell_type": "code",
      "execution_count": 48,
      "metadata": {
        "id": "AUBxc8lDs2sE"
      },
      "outputs": [
        {
          "data": {
            "text/plain": [
              "<function matplotlib.pyplot.show(close=None, block=None)>"
            ]
          },
          "execution_count": 48,
          "metadata": {},
          "output_type": "execute_result"
        },
        {
          "data": {
            "image/png": "[encoded data removed]",
            "text/plain": [
              "<Figure size 640x480 with 1 Axes>"
            ]
          },
          "metadata": {},
          "output_type": "display_data"
        }
      ],
      "source": [
        "# Create an array of integers from one to ten\n",
        "one_to_ten=np.arange(1,11)\n",
        "\n",
        "# Create your scatterplot\n",
        "plt.scatter(one_to_ten,doubling_array)\n",
        "plt.show"
      ]
    },
    {
      "cell_type": "markdown",
      "metadata": {
        "id": "vbb5cwvWs6XR"
      },
      "source": [
        "#Array dimensionality\n",
        "##3D array creation\n",
        "In the first section, you created a `sudoku_game` two-dimensional NumPy array. Perhaps you have hundreds of sudoku game arrays, and you’d like to save the solution for this one, `sudoku_solution`, as part of the same array as its corresponding game in order to organize your sudoku data better. You could accomplish this by stacking the two 2D arrays on top of each other to create a 3D array.\n",
        "\n",
        "`numpy` is loaded as `np`, and the `sudoku_game` and `sudoku_solution` arrays are available.\n",
        "\n",
        "* Create a 3D array called `game_and_solution` by stacking the two 2D arrays, `sudoku_game` and `sudoku_solution`, on top of one another; in the final array, `sudoku_game` should appear before `sudoku_solution`.\n",
        "* Print `game_and_solution`."
      ]
    },
    {
      "cell_type": "code",
      "execution_count": 50,
      "metadata": {
        "colab": {
          "base_uri": "https://localhost:8080/"
        },
        "id": "qW0AzIIht8p3",
        "outputId": "a776ba1a-8a16-4e64-8d87-5a51292d6394"
      },
      "outputs": [
        {
          "name": "stdout",
          "output_type": "stream",
          "text": [
            "suduko_game:\n",
            " [[0 0 4 3 0 0 2 0 9]\n",
            " [0 0 5 0 0 9 0 0 1]\n",
            " [0 7 0 0 6 0 0 4 3]\n",
            " [0 0 6 0 0 2 0 8 7]\n",
            " [1 9 0 0 0 7 4 0 0]\n",
            " [0 5 0 0 8 3 0 0 0]\n",
            " [6 0 0 0 0 0 1 0 5]\n",
            " [0 0 3 5 0 8 6 9 0]\n",
            " [0 4 2 9 1 0 3 0 0]]\n",
            "suduko_solution:\n",
            " [[8 6 4 3 7 1 2 5 9]\n",
            " [3 2 5 8 4 9 7 6 1]\n",
            " [9 7 1 2 6 5 8 4 3]\n",
            " [4 3 6 1 9 2 5 8 7]\n",
            " [1 9 8 6 5 7 4 3 2]\n",
            " [2 5 7 4 8 3 9 1 6]\n",
            " [6 8 9 7 3 4 1 2 5]\n",
            " [7 1 3 5 2 8 6 9 4]\n",
            " [5 4 2 9 1 6 3 7 8]]\n"
          ]
        }
      ],
      "source": [
        "sudoku_solution = np.array([[8, 6, 4, 3, 7, 1, 2, 5, 9],\n",
        "                            [3, 2, 5, 8, 4, 9, 7, 6, 1],\n",
        "                            [9, 7, 1, 2, 6, 5, 8, 4, 3],\n",
        "                            [4, 3, 6, 1, 9, 2, 5, 8, 7],\n",
        "                            [1, 9, 8, 6, 5, 7, 4, 3, 2],\n",
        "                            [2, 5, 7, 4, 8, 3, 9, 1, 6],\n",
        "                            [6, 8, 9, 7, 3, 4, 1, 2, 5],\n",
        "                            [7, 1, 3, 5, 2, 8, 6, 9, 4],\n",
        "                            [5, 4, 2, 9, 1, 6, 3, 7, 8]])\n",
        "sudoku_game = np.array(sudoku_list)\n",
        "print(\"suduko_game:\\n\",sudoku_game)\n",
        "print(\"suduko_solution:\\n\",sudoku_solution)"
      ]
    },
    {
      "cell_type": "code",
      "execution_count": 51,
      "metadata": {
        "id": "VKBOM5Tis53v"
      },
      "outputs": [
        {
          "name": "stdout",
          "output_type": "stream",
          "text": [
            "[[[0 0 4 3 0 0 2 0 9]\n",
            "  [0 0 5 0 0 9 0 0 1]\n",
            "  [0 7 0 0 6 0 0 4 3]\n",
            "  [0 0 6 0 0 2 0 8 7]\n",
            "  [1 9 0 0 0 7 4 0 0]\n",
            "  [0 5 0 0 8 3 0 0 0]\n",
            "  [6 0 0 0 0 0 1 0 5]\n",
            "  [0 0 3 5 0 8 6 9 0]\n",
            "  [0 4 2 9 1 0 3 0 0]]\n",
            "\n",
            " [[8 6 4 3 7 1 2 5 9]\n",
            "  [3 2 5 8 4 9 7 6 1]\n",
            "  [9 7 1 2 6 5 8 4 3]\n",
            "  [4 3 6 1 9 2 5 8 7]\n",
            "  [1 9 8 6 5 7 4 3 2]\n",
            "  [2 5 7 4 8 3 9 1 6]\n",
            "  [6 8 9 7 3 4 1 2 5]\n",
            "  [7 1 3 5 2 8 6 9 4]\n",
            "  [5 4 2 9 1 6 3 7 8]]] (2, 9, 9)\n"
          ]
        }
      ],
      "source": [
        "# Create the game_and_solution 3D array\n",
        "game_and_solution=np.array([sudoku_game,sudoku_solution])\n",
        "\n",
        "# Print game_and_solution\n",
        "print(game_and_solution,game_and_solution.shape)"
      ]
    },
    {
      "cell_type": "markdown",
      "metadata": {
        "id": "4u3-h3Dxu330"
      },
      "source": [
        "##The fourth dimension\n",
        "Printing arrays is a good way to check code output for small arrays like `sudoku_game_and_solution`, but it becomes unwieldy when dealing with bigger arrays and those with higher dimensions. Another important check is to look at the array’s `.shape`.\n",
        "\n",
        "Now, you’ll create a 4D array that contains two sudoku games and their solutions. `numpy` is loaded as `np`. The `game_and_solution` 3D array you created in the previous example is available, along with `new_sudoku_game` and `new_sudoku_solution`.\n",
        "\n",
        "* Create another 3D array called `new_game_and_solution` with a different 2D game and 2D solution pair: `new_sudoku_game` and `new_sudoku_solution`. `new_sudoku_game` should appear before `new_sudoku_solution`.\n",
        "* Create a 4D array called `games_and_solutions` by making an array out of the two 3D arrays: `game_and_solution` and `new_game_and_solution`, in that order.\n",
        "* Print the shape of `games_and_solutions`."
      ]
    },
    {
      "cell_type": "code",
      "execution_count": 57,
      "metadata": {
        "colab": {
          "base_uri": "https://localhost:8080/"
        },
        "id": "BwSql-_sw6YQ",
        "outputId": "33404220-124b-467d-ae7e-6b7c71f1130b"
      },
      "outputs": [
        {
          "name": "stdout",
          "output_type": "stream",
          "text": [
            "[[0 0 4 3 0 0 0 0 0]\n",
            " [8 9 0 2 0 0 6 7 0]\n",
            " [7 0 0 9 0 0 0 5 0]\n",
            " [5 0 0 0 0 8 1 4 0]\n",
            " [0 7 0 0 3 2 0 6 0]\n",
            " [6 0 0 0 0 1 3 0 8]\n",
            " [0 0 1 7 5 0 9 0 0]\n",
            " [0 0 5 0 4 0 0 1 2]\n",
            " [9 8 0 0 0 6 0 0 5]]\n"
          ]
        }
      ],
      "source": [
        "new_sudoku_game = np.array([[0, 0, 4, 3, 0, 0, 0, 0, 0],\n",
        "                            [8, 9, 0, 2, 0, 0, 6, 7, 0],\n",
        "                            [7, 0, 0, 9, 0, 0, 0, 5, 0],\n",
        "                            [5, 0, 0, 0, 0, 8, 1, 4, 0],\n",
        "                            [0, 7, 0, 0, 3, 2, 0, 6, 0],\n",
        "                            [6, 0, 0, 0, 0, 1, 3, 0, 8],\n",
        "                            [0, 0, 1, 7, 5, 0, 9, 0, 0],\n",
        "                            [0, 0, 5, 0, 4, 0, 0, 1, 2],\n",
        "                            [9, 8, 0, 0, 0, 6, 0, 0, 5]])\n",
        "print(new_sudoku_game)"
      ]
    },
    {
      "cell_type": "code",
      "execution_count": 59,
      "metadata": {
        "colab": {
          "base_uri": "https://localhost:8080/"
        },
        "id": "WGqAG2bDvXQs",
        "outputId": "2b972972-3c5f-4bb6-b884-4ce1b64c5d90"
      },
      "outputs": [
        {
          "name": "stdout",
          "output_type": "stream",
          "text": [
            "[[2 5 4 3 6 7 8 9 1]\n",
            " [8 9 3 2 1 5 6 7 4]\n",
            " [7 1 6 9 8 4 2 5 3]\n",
            " [5 3 2 6 9 8 1 4 7]\n",
            " [1 7 8 4 3 2 5 6 9]\n",
            " [6 4 9 5 7 1 3 2 8]\n",
            " [4 2 1 7 5 3 9 8 6]\n",
            " [3 6 5 8 4 9 7 1 2]\n",
            " [9 8 7 1 2 6 4 3 5]]\n"
          ]
        }
      ],
      "source": [
        "new_sudoku_solution = np.array([[2, 5, 4, 3, 6, 7, 8, 9, 1],\n",
        "                                [8, 9, 3, 2, 1, 5, 6, 7, 4],\n",
        "                                [7, 1, 6, 9, 8, 4, 2, 5, 3],\n",
        "                                [5, 3, 2, 6, 9, 8, 1, 4, 7],\n",
        "                                [1, 7, 8, 4, 3, 2, 5, 6, 9],\n",
        "                                [6, 4, 9, 5, 7, 1, 3, 2, 8],\n",
        "                                [4, 2, 1, 7, 5, 3, 9, 8, 6],\n",
        "                                [3, 6, 5, 8, 4, 9, 7, 1, 2],\n",
        "                                [9, 8, 7, 1, 2, 6, 4, 3, 5]])\n",
        "print(new_sudoku_solution)"
      ]
    },
    {
      "cell_type": "markdown",
      "metadata": {
        "id": "chIjSH0MxLSe"
      },
      "source": [
        "Create another 3D array called `new_game_and_solution` with a different 2D game and 2D solution pair: `new_sudoku_game` and `new_sudoku_solution`. `new_sudoku_game` should appear before `new_sudoku_solution`"
      ]
    },
    {
      "cell_type": "code",
      "execution_count": 60,
      "metadata": {
        "id": "Pxe9WE3swfdk"
      },
      "outputs": [],
      "source": [
        "# Create a second 3D array of another game and its solution\n",
        "new_game_and_solution=np.array([new_sudoku_game,new_sudoku_solution])"
      ]
    },
    {
      "cell_type": "markdown",
      "metadata": {
        "id": "aaCLI8-uxUF8"
      },
      "source": [
        "Create a 4D array called `games_and_solutions` by making an array out of the two 3D arrays: `game_and_solution` and `new_game_and_solution`, in that order."
      ]
    },
    {
      "cell_type": "code",
      "execution_count": 61,
      "metadata": {
        "id": "PdHVQGk0xnZY"
      },
      "outputs": [],
      "source": [
        "# Create a 4D array of both game and solution 3D arrays\n",
        "games_and_solutions=np.array([game_and_solution,new_game_and_solution])"
      ]
    },
    {
      "cell_type": "markdown",
      "metadata": {
        "id": "vUEbdUm2xjB1"
      },
      "source": [
        "Print the shape of `games_and_solutions`."
      ]
    },
    {
      "cell_type": "code",
      "execution_count": 62,
      "metadata": {
        "id": "Tacg_U4sxhZm"
      },
      "outputs": [
        {
          "name": "stdout",
          "output_type": "stream",
          "text": [
            "[[[[0 0 4 3 0 0 2 0 9]\n",
            "   [0 0 5 0 0 9 0 0 1]\n",
            "   [0 7 0 0 6 0 0 4 3]\n",
            "   [0 0 6 0 0 2 0 8 7]\n",
            "   [1 9 0 0 0 7 4 0 0]\n",
            "   [0 5 0 0 8 3 0 0 0]\n",
            "   [6 0 0 0 0 0 1 0 5]\n",
            "   [0 0 3 5 0 8 6 9 0]\n",
            "   [0 4 2 9 1 0 3 0 0]]\n",
            "\n",
            "  [[8 6 4 3 7 1 2 5 9]\n",
            "   [3 2 5 8 4 9 7 6 1]\n",
            "   [9 7 1 2 6 5 8 4 3]\n",
            "   [4 3 6 1 9 2 5 8 7]\n",
            "   [1 9 8 6 5 7 4 3 2]\n",
            "   [2 5 7 4 8 3 9 1 6]\n",
            "   [6 8 9 7 3 4 1 2 5]\n",
            "   [7 1 3 5 2 8 6 9 4]\n",
            "   [5 4 2 9 1 6 3 7 8]]]\n",
            "\n",
            "\n",
            " [[[0 0 4 3 0 0 0 0 0]\n",
            "   [8 9 0 2 0 0 6 7 0]\n",
            "   [7 0 0 9 0 0 0 5 0]\n",
            "   [5 0 0 0 0 8 1 4 0]\n",
            "   [0 7 0 0 3 2 0 6 0]\n",
            "   [6 0 0 0 0 1 3 0 8]\n",
            "   [0 0 1 7 5 0 9 0 0]\n",
            "   [0 0 5 0 4 0 0 1 2]\n",
            "   [9 8 0 0 0 6 0 0 5]]\n",
            "\n",
            "  [[2 5 4 3 6 7 8 9 1]\n",
            "   [8 9 3 2 1 5 6 7 4]\n",
            "   [7 1 6 9 8 4 2 5 3]\n",
            "   [5 3 2 6 9 8 1 4 7]\n",
            "   [1 7 8 4 3 2 5 6 9]\n",
            "   [6 4 9 5 7 1 3 2 8]\n",
            "   [4 2 1 7 5 3 9 8 6]\n",
            "   [3 6 5 8 4 9 7 1 2]\n",
            "   [9 8 7 1 2 6 4 3 5]]]]\n"
          ]
        }
      ],
      "source": [
        "# Print the shape of your 4D array\n",
        "print(games_and_solutions)"
      ]
    },
    {
      "cell_type": "markdown",
      "metadata": {
        "id": "vGE6XUc6xt0D"
      },
      "source": [
        "##Flattening and reshaping\n",
        "You’ve learned to change not only array shape but also the number of dimensions that an array has. To test these skills, you’ll change `sudoku_game` from a 2D array to a 1D array and back again. Can we trust NumPy to keep the array elements in the same order after being flattened and reshaped? Time to find out."
      ]
    },
    {
      "cell_type": "markdown",
      "metadata": {
        "id": "hjopRVobx-7J"
      },
      "source": [
        "Flatten `sudoku_game` so that it is a 1D array, and save it as ``flattened_game``."
      ]
    },
    {
      "cell_type": "code",
      "execution_count": 63,
      "metadata": {
        "id": "J4HbgLIhxtbp"
      },
      "outputs": [],
      "source": [
        "# Flatten sudoku_game\n",
        "flattened_game=(sudoku_game.flatten())"
      ]
    },
    {
      "cell_type": "markdown",
      "metadata": {
        "id": "KwCY0SCVyUF_"
      },
      "source": [
        "Print the `.shape` of `flattened_game`."
      ]
    },
    {
      "cell_type": "code",
      "execution_count": 64,
      "metadata": {
        "id": "k0lkuSUYyVVh"
      },
      "outputs": [
        {
          "name": "stdout",
          "output_type": "stream",
          "text": [
            "(81,)\n"
          ]
        }
      ],
      "source": [
        "# Print the shape of flattened_game\n",
        "print(flattened_game.shape)"
      ]
    },
    {
      "cell_type": "markdown",
      "metadata": {
        "id": "NG4Je-jVyDB0"
      },
      "source": [
        "Reshape the `flattened_game` back to its original shape of nine rows and nine columns; save the new array as `reshaped_game`."
      ]
    },
    {
      "cell_type": "code",
      "execution_count": 65,
      "metadata": {
        "id": "219UNYuwyMMF"
      },
      "outputs": [
        {
          "name": "stdout",
          "output_type": "stream",
          "text": [
            "[[0 0 4 3 0 0 2 0 9]\n",
            " [0 0 5 0 0 9 0 0 1]\n",
            " [0 7 0 0 6 0 0 4 3]\n",
            " [0 0 6 0 0 2 0 8 7]\n",
            " [1 9 0 0 0 7 4 0 0]\n",
            " [0 5 0 0 8 3 0 0 0]\n",
            " [6 0 0 0 0 0 1 0 5]\n",
            " [0 0 3 5 0 8 6 9 0]\n",
            " [0 4 2 9 1 0 3 0 0]]\n",
            "[[0 0 4 3 0 0 2 0 9]\n",
            " [0 0 5 0 0 9 0 0 1]\n",
            " [0 7 0 0 6 0 0 4 3]\n",
            " [0 0 6 0 0 2 0 8 7]\n",
            " [1 9 0 0 0 7 4 0 0]\n",
            " [0 5 0 0 8 3 0 0 0]\n",
            " [6 0 0 0 0 0 1 0 5]\n",
            " [0 0 3 5 0 8 6 9 0]\n",
            " [0 4 2 9 1 0 3 0 0]]\n"
          ]
        }
      ],
      "source": [
        "# Reshape flattened_game back to a nine by nine array\n",
        "reshaped_game=flattened_game.reshape((9,9))\n",
        "\n",
        "# Print sudoku_game and reshaped_game\n",
        "print(sudoku_game)\n",
        "print(reshaped_game)\n"
      ]
    },
    {
      "cell_type": "markdown",
      "metadata": {
        "id": "JVsBgT8fy34u"
      },
      "source": [
        "##NumPy data types\n",
        "The dtype argument\n",
        "One way to control the data type of a NumPy array is to declare it when the array is created using the `dtype` keyword argument. Take a look at the data type NumPy uses by default when creating an array with `np.zeros()`. Could it be updated?"
      ]
    },
    {
      "cell_type": "markdown",
      "metadata": {
        "id": "wcupkMxlzJjc"
      },
      "source": [
        "Using `np.zeros()`, create an array of zeros that has three rows and two columns; call it `zero_array`.\n",
        "\n",
        "Print the data type of `zero_array`.\n",
        "\n",
        "\n",
        "Create a new array of zeros called `zero_int_array`, which will also have three rows and two columns, but the data type should be `np.int32`.\n",
        "\n",
        "Print the data type of `zero_int_array`."
      ]
    },
    {
      "cell_type": "code",
      "execution_count": 66,
      "metadata": {
        "id": "GVH4vXmAy3hz"
      },
      "outputs": [
        {
          "name": "stdout",
          "output_type": "stream",
          "text": [
            "float64\n",
            "int32\n"
          ]
        }
      ],
      "source": [
        "# Create an array of zeros with three rows and two columns\n",
        "zero_array=np.zeros((3,2))\n",
        "\n",
        "# Print the data type of zero_array\n",
        "print(zero_array.dtype)\n",
        "\n",
        "\n",
        "\n",
        "\n",
        "# Create a new array of int32 zeros with three rows and two columns\n",
        "zero_int_array=np.zeros((3,2),dtype=\"int32\")\n",
        "\n",
        "\n",
        "\n",
        "# Print the data type of zero_int_array\n",
        "print(zero_int_array.dtype)\n"
      ]
    },
    {
      "cell_type": "markdown",
      "metadata": {
        "id": "8Zbg8L1UzoqJ"
      },
      "source": [
        "###Anticipating data types\n",
        "Anticipating what data type an array will have is very important since some NumPy functionality only works with certain data types. Let’s see what you’ve got.\n",
        "\n",
        "* For each of the given code snippets, determine which data type the resulting array will have by dragging the snippet to the proper box.\n",
        "\n",
        "A string data type\n",
        "```\n",
        "np.array([78.988, \"NumPy\", True])\n",
        "np.array([9, 1.12, True]).astype(\"<U5\")\n",
        "```\n",
        "An integer data type\n",
        "```\n",
        "np.array([34.62, 70.13, 9]).astype(np.int64)\n",
        "np.array([45.67, True], dtype=np.int8)\n",
        "```\n",
        "A float data type\n",
        "```\n",
        "np.array([[6, 15.7], [True, False]])\n",
        "np.random.random((4, 5))\n",
        "```"
      ]
    },
    {
      "cell_type": "markdown",
      "metadata": {
        "id": "mxGQemnl0VQq"
      },
      "source": [
        "###A smaller sudoku game\n",
        "NumPy data types, which emphasize speed, are more specific than Python data types, which emphasize flexibility. When working with large amounts of data in NumPy, it’s good practice to check the data type and consider whether a smaller data type is large enough for your data, since smaller data types use less memory.\n",
        "\n",
        "It’s time to make your sudoku game more memory-efficient using your knowledge of data types! `sudoku_game` has been loaded for you as a NumPy array. numpy is imported as np.\n",
        "\n",
        "* Print the data type of the elements in `sudoku_game`."
      ]
    },
    {
      "cell_type": "code",
      "execution_count": 73,
      "metadata": {
        "id": "I0wdtGBG0pL7"
      },
      "outputs": [
        {
          "name": "stdout",
          "output_type": "stream",
          "text": [
            "int32\n"
          ]
        }
      ],
      "source": [
        "# Print the data type of sudoku_game\n",
        "print(sudoku_game.dtype)"
      ]
    },
    {
      "cell_type": "markdown",
      "metadata": {
        "id": "AH_bplZn0pob"
      },
      "source": [
        "The current data type of `sudoku_game` is `int64`.\n",
        "* Which of the following NumPy integers is the smallest bitsize that is still large enough to hold the data in `sudoku_game`?\n",
        "* If you have never played sudoku, know that sudoku games only ever store integers from one to nine.\n",
        "** np.int64\n",
        "** np.int32\n",
        "** np.int16\n",
        "** np.int8"
      ]
    },
    {
      "cell_type": "markdown",
      "metadata": {
        "id": "laClVcMq1b8p"
      },
      "source": [
        "Change the data type of `sudoku_game` to be `int8`, an 8-bit integer; name the new array `small_sudoku_game`.\n",
        "\n"
      ]
    },
    {
      "cell_type": "code",
      "execution_count": 69,
      "metadata": {
        "id": "H5xnK6cd1anH"
      },
      "outputs": [],
      "source": [
        "small_sudoku_game=sudoku_game.astype(np.int8)"
      ]
    },
    {
      "cell_type": "markdown",
      "metadata": {
        "id": "TKGcd5iJ1gDa"
      },
      "source": [
        "Print the data type of `small_sudoku_game` to be sure that your change to `int8` is reflected."
      ]
    },
    {
      "cell_type": "code",
      "execution_count": 74,
      "metadata": {
        "id": "3SsRp_iT1m4U"
      },
      "outputs": [
        {
          "name": "stdout",
          "output_type": "stream",
          "text": [
            "int8\n"
          ]
        }
      ],
      "source": [
        "print(small_sudoku_game.dtype)"
      ]
    },
    {
      "cell_type": "markdown",
      "metadata": {
        "id": "01d7eVl11mIc"
      },
      "source": [
        "#Selecting and Updating Data\n",
        "Sharpen your NumPy data wrangling skills by slicing, filtering, and sorting New York City’s tree census data. Create new arrays by pulling data based on conditional statements, and add and remove data along any dimension to suit your purpose. Along the way, you’ll learn the shape and dimension compatibility principles to prepare for super-fast array math.\n",
        "\n",
        "##Indexing and slicing arrays\n",
        "###Slicing and indexing trees\n",
        "Imagine you are a researcher working with data from New York City’s tree census. Each row of the `tree_census` 2D array lists information for a different tree: the tree ID, block ID, trunk diameter, and stump diameter in that order. Living trees do not have stump diameters, which explains why there are so many zeros in that column. Column order is important because NumPy does not have column names! The first and last three rows of `tree_census` are shown below."
      ]
    },
    {
      "cell_type": "code",
      "execution_count": 1,
      "metadata": {
        "id": "qdIcqcE364JE"
      },
      "outputs": [],
      "source": [
        "import pandas as pd\n",
        "tree_census = pd.read_csv(\"https://data.cityofnewyork.us/api/views/uvpi-gqnh/rows.csv?accessType=DOWNLOAD\")"
      ]
    },
    {
      "cell_type": "code",
      "execution_count": null,
      "metadata": {
        "id": "ucJ2H1lK7dtE"
      },
      "outputs": [],
      "source": [
        "tree_census = pd.DataFrame(tree_census)"
      ]
    },
    {
      "cell_type": "code",
      "execution_count": null,
      "metadata": {
        "id": "teqvdIby80xN"
      },
      "outputs": [],
      "source": [
        "tree_census.head()"
      ]
    },
    {
      "cell_type": "code",
      "execution_count": null,
      "metadata": {
        "id": "lsbOCxlD8XKS"
      },
      "outputs": [],
      "source": [
        "tree_census = tree_census[[\"tree_id\",\"block_id\",\"tree_dbh\",\"stump_diam\"]]"
      ]
    },
    {
      "cell_type": "code",
      "execution_count": null,
      "metadata": {
        "id": "-sPZvWBG8_dH"
      },
      "outputs": [],
      "source": [
        "tree_census.head()"
      ]
    },
    {
      "cell_type": "code",
      "execution_count": null,
      "metadata": {
        "id": "_kS9JSAw9ClP"
      },
      "outputs": [],
      "source": [
        "tree_census = np.array(tree_census)"
      ]
    },
    {
      "cell_type": "code",
      "execution_count": null,
      "metadata": {
        "id": "yIGzO7079HUH"
      },
      "outputs": [],
      "source": [
        "print(tree_census)"
      ]
    },
    {
      "cell_type": "markdown",
      "metadata": {
        "id": "FjOrqD3l9pAR"
      },
      "source": [
        "In this exercise, you’ll be working specifically with the second column, representing block IDs: your research requires you to select specific city blocks for further analysis using NumPy slicing and indexing. `numpy` is loaded as `np`, and the `tree_census` 2D array is available."
      ]
    },
    {
      "cell_type": "markdown",
      "metadata": {
        "id": "1NbIMDye9z1z"
      },
      "source": [
        "Select all rows of data from the second column, representing block IDs; save the resulting array as `block_ids`."
      ]
    },
    {
      "cell_type": "code",
      "execution_count": null,
      "metadata": {
        "id": "NcN-0e-_1500"
      },
      "outputs": [],
      "source": [
        "# Select all rows of block ID data from the second column\n"
      ]
    },
    {
      "cell_type": "markdown",
      "metadata": {
        "id": "6gWQmuoA95Rq"
      },
      "source": [
        "\n",
        "Print the first five block IDs from `block_ids`."
      ]
    },
    {
      "cell_type": "code",
      "execution_count": null,
      "metadata": {
        "id": "i_7aUFi558n1"
      },
      "outputs": [],
      "source": [
        "# Print the first five block_ids\n"
      ]
    },
    {
      "cell_type": "markdown",
      "metadata": {
        "id": "Me8S-BQO-JCi"
      },
      "source": [
        "Select the tenth block ID from `block_ids`, saving the result as `tenth_block_id`."
      ]
    },
    {
      "cell_type": "code",
      "execution_count": null,
      "metadata": {
        "id": "g8jdrbs7-OgB"
      },
      "outputs": [],
      "source": [
        "# Select the tenth block ID from block_ids\n"
      ]
    },
    {
      "cell_type": "markdown",
      "metadata": {
        "id": "Xb7D5uXR-O8q"
      },
      "source": [
        "Select five consecutive block IDs from `block_ids`, starting with the tenth ID, and save as `block_id_slice`"
      ]
    },
    {
      "cell_type": "code",
      "execution_count": null,
      "metadata": {
        "id": "_4tNzHxx-Sqj"
      },
      "outputs": [],
      "source": [
        "# Select five block IDs from block_ids starting with the tenth ID\n"
      ]
    },
    {
      "cell_type": "markdown",
      "metadata": {
        "id": "lU5dyN1r-_la"
      },
      "source": [
        "###Stepping into 2D\n",
        "Now assume that your research requires you to take an admittedly unrepresentative sample of trunk diameters, which are located in the third column of tree_census. Getting just a selection of trunk diameters can be done with NumPy’s slicing and stepping functionality.\n",
        "\n",
        "\n",
        "numpy is loaded as np, and the tree_census 2D array is available."
      ]
    },
    {
      "cell_type": "markdown",
      "metadata": {
        "id": "eTURcxmP_JLz"
      },
      "source": [
        "Create an array called hundred_diameters which contains the first 100 trunk diameters in tree_census."
      ]
    },
    {
      "cell_type": "code",
      "execution_count": null,
      "metadata": {
        "id": "Hyo-EECn-9ND"
      },
      "outputs": [],
      "source": []
    },
    {
      "cell_type": "markdown",
      "metadata": {
        "id": "im0Al7Hg_MeS"
      },
      "source": [
        "Create an array,every_other_diameter, which contains only trunk diameters for trees with even row indices from 50 to 100, inclusive."
      ]
    },
    {
      "cell_type": "code",
      "execution_count": null,
      "metadata": {
        "id": "_jW56STY_Lwn"
      },
      "outputs": [],
      "source": []
    }
  ],
  "metadata": {
    "colab": {
      "provenance": []
    },
    "kernelspec": {
      "display_name": "Python 3",
      "name": "python3"
    },
    "language_info": {
      "codemirror_mode": {
        "name": "ipython",
        "version": 3
      },
      "file_extension": ".py",
      "mimetype": "text/x-python",
      "name": "python",
      "nbconvert_exporter": "python",
      "pygments_lexer": "ipython3",
      "version": "3.11.4"
    }
  },
  "nbformat": 4,
  "nbformat_minor": 0
}
