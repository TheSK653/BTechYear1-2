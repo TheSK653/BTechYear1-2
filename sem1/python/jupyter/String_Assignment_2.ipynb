{
  "cells": [
    {
      "cell_type": "code",
      "execution_count": null,
      "metadata": {
        "id": "LWXR27zhp1CA"
      },
      "outputs": [],
      "source": [
        "movies = [\"it's clear that he's passionate about his beliefs , and that he's not just a punk looking for an excuse to beat people up .\",\n",
        "          'I believe you I always said that the actor actor actor is amazing in every movie he has played',\n",
        "          \"it's astonishing how frightening the actor actor norton looks with a shaved head and a swastika on his chest.\"\n",
        "]"
      ]
    },
    {
      "cell_type": "code",
      "execution_count": null,
      "metadata": {
        "colab": {
          "base_uri": "https://localhost:8080/"
        },
        "id": "TWyDhWZC6wpV",
        "outputId": "c248130e-ad6f-4fbf-9120-9300e4aa85f4"
      },
      "outputs": [
        {
          "name": "stdout",
          "output_type": "stream",
          "text": [
            "it's clear that he's passionate about his beliefs , and that he's not just a punk looking for an excuse to beat people up .\n",
            "I believe you I always said that the actor actor actor is amazing in every movie he has played\n",
            "it's astonishing how frightening the actor actor norton looks with a shaved head and a swastika on his chest.\n"
          ]
        }
      ],
      "source": [
        "for lines in movies:\n",
        "  print(lines)"
      ]
    },
    {
      "cell_type": "markdown",
      "metadata": {
        "id": "1GccWQI0eJlb"
      },
      "source": [
        "#Finding a substring\n"
      ]
    },
    {
      "cell_type": "markdown",
      "metadata": {
        "id": "4jOOWIydeSh0"
      },
      "source": [
        "It's a new day at work and you need to continue cleaning your dataset for the movie prediction project. While exploring the dataset, you notice a strange pattern: there are some repeated, consecutive words occurring between the character at position 37 and the character at position 41. You decide to write a function to find out which movie reviews show this peculiarity, remembering that the ending position you specify is not inclusive. If you detect the word, you also want to change the string by replacing it with only one instance of the word.\n",
        "\n",
        "Complete the if-else statement following the instructions.\n",
        "\n",
        "The text of three movie reviews has been already saved in the variable `movies`. You can use `print(movies)` to view the variable in the IPython Shell."
      ]
    },
    {
      "cell_type": "markdown",
      "metadata": {
        "id": "5_rwv9odebX0"
      },
      "source": [
        "*   Find if the substring `actor` occurs between the characters with index `37` and `41` inclusive. If it is not detected, print the statement `Word not found`.\n",
        "*   Replace `actor actor` with the substring `actor` if `actor` occurs only two repeated times.\n",
        "*   Replace `actor actor actor` with the substring `actor` if `actor` appears three repeated times."
      ]
    },
    {
      "cell_type": "code",
      "execution_count": null,
      "metadata": {
        "colab": {
          "base_uri": "https://localhost:8080/"
        },
        "id": "tUyZLC_AeJXN",
        "outputId": "4152c72f-1871-49fb-e648-ef1912bdddf7"
      },
      "outputs": [
        {
          "name": "stdout",
          "output_type": "stream",
          "text": [
            "Word not found\n",
            "I believe you I always said that the actor is amazing in every movie he has played\n",
            "it's astonishing how frightening the actor norton looks with a shaved head and a swastika on his chest.\n"
          ]
        }
      ],
      "source": [
        "# If actor is not found between character 37 and 41 inclusive\n",
        "# Print word not found\n",
        "for lines in movies:\n",
        "  if lines.find(\"actor\", 37, 42) == -1:\n",
        "    print(\"Word not found\")\n",
        "  elif lines.count(\"actor\") == 2:\n",
        "    print(lines.replace(\"actor actor\", \"actor\"))\n",
        "  else:\n",
        "    print(lines.replace(\"actor actor actor\" , \"actor\"))"
      ]
    },
    {
      "cell_type": "markdown",
      "metadata": {
        "id": "EMThSBWYfP-N"
      },
      "source": [
        "#Where's the word?\n",
        "Before finishing cleaning your dataset, you want to check if a specific word occurs in the reviews. You noticed earlier a specific pattern in the strings. Now, you want to create a function to check if a word is present between characters with index 12, and 50, remembering that ending position is exclusive, and print out the lowest index where this word occurs. There are two methods to handle this situation. You want to see which one works best."
      ]
    },
    {
      "cell_type": "code",
      "execution_count": 1,
      "metadata": {
        "id": "kzQxVsHwfqcf"
      },
      "outputs": [],
      "source": [
        "movies = [\"heck , jackie doesn't even have enough money for a haircut , looks like , much less a personal hairstylist .\",\n",
        "         \"in condor , chan plays the same character he's always played , himself , a mixture of bruce lee and tim allen , a master of both kung-fu and slapstick-fu .\"\n",
        "]"
      ]
    },
    {
      "cell_type": "code",
      "execution_count": null,
      "metadata": {
        "colab": {
          "base_uri": "https://localhost:8080/"
        },
        "id": "ESFiM3ZuBKLT",
        "outputId": "b703efc6-9603-4451-f488-8e2c1809d35e"
      },
      "outputs": [
        {
          "name": "stdout",
          "output_type": "stream",
          "text": [
            "heck , jackie doesn't even have enough money for a haircut , looks like , much less a personal hairstylist .\n",
            "in condor , chan plays the same character he's always played , himself , a mixture of bruce lee and tim allen , a master of both kung-fu and slapstick-fu .\n"
          ]
        }
      ],
      "source": [
        "for i in movies:\n",
        "  print(i)"
      ]
    },
    {
      "cell_type": "markdown",
      "metadata": {
        "id": "YlXNeN_Rfj9H"
      },
      "source": [
        "Find the index where `money` occurs between characters with index `12` and `50`. If not found, the method should return -1."
      ]
    },
    {
      "cell_type": "code",
      "execution_count": 2,
      "metadata": {
        "colab": {
          "base_uri": "https://localhost:8080/"
        },
        "id": "AdeeAZ1GfPUc",
        "outputId": "aab3a3a8-04d1-475d-a1c8-46202e7d2821"
      },
      "outputs": [
        {
          "name": "stdout",
          "output_type": "stream",
          "text": [
            "39\n",
            "-1\n"
          ]
        }
      ],
      "source": [
        "for i in movies:\n",
        "  print(i.find(\"money\",12,51))"
      ]
    },
    {
      "cell_type": "markdown",
      "metadata": {
        "id": "d6KSaN63ftEp"
      },
      "source": [
        "Find the index where `money` occurs between characters with index 12 and 50. If not found, it should raise an error `\"substring not found\"`."
      ]
    },
    {
      "cell_type": "code",
      "execution_count": 4,
      "metadata": {
        "id": "_J1WNhNHgAi8"
      },
      "outputs": [
        {
          "name": "stdout",
          "output_type": "stream",
          "text": [
            "39\n",
            "substring not found\n"
          ]
        }
      ],
      "source": [
        "for i in movies:\n",
        "  try:\n",
        "    print(i.index(\"money\", 12, 51))\n",
        "  except ValueError:\n",
        "    print(\"substring not found\")"
      ]
    },
    {
      "cell_type": "markdown",
      "metadata": {
        "id": "654B4rscgBCr"
      },
      "source": [
        "#Replacing negations\n",
        "In order to keep working with your prediction project, your next task is to figure out how to handle negations that occur in your dataset. Some algorithms for prediction do not work well with negations, so a good way to handle this is to remove either `not` or `n't`, and to replace the next word by its antonym.\n",
        "\n",
        "Let's imagine that you have the string: The movie `isn't` good. You will need to remove `n't` and replace `good` for `bad`. This way, your string ends up being `The movie is bad`. You notice that in the first column of the dataset, you have a string that uses the word isn't followed by important."
      ]
    },
    {
      "cell_type": "code",
      "execution_count": 6,
      "metadata": {
        "id": "QBKWxU8h5Y6x"
      },
      "outputs": [],
      "source": [
        "movies = \"the rest of the story isn't important because all it does is serve as a mere backdrop for the two stars to share the screen .\""
      ]
    },
    {
      "cell_type": "code",
      "execution_count": 7,
      "metadata": {
        "colab": {
          "base_uri": "https://localhost:8080/"
        },
        "id": "Q_jSM0Y0GjKL",
        "outputId": "2ae48631-2553-407e-9154-2543c95a1c5b"
      },
      "outputs": [
        {
          "name": "stdout",
          "output_type": "stream",
          "text": [
            "the rest of the story isn't important because all it does is serve as a mere backdrop for the two stars to share the screen .\n"
          ]
        }
      ],
      "source": [
        "print(movies)"
      ]
    },
    {
      "cell_type": "markdown",
      "metadata": {
        "id": "UPfOS5XR5cB_"
      },
      "source": [
        "Replace the substring `isn't` with the word `is`. Store it in `movies_no_negation`"
      ]
    },
    {
      "cell_type": "code",
      "execution_count": 8,
      "metadata": {
        "id": "w9Ygzn4K5hlF"
      },
      "outputs": [],
      "source": [
        "movies_no_negation=movies.replace(\"isn't\",'is')"
      ]
    },
    {
      "cell_type": "markdown",
      "metadata": {
        "id": "RGhzJPz06X6j"
      },
      "source": [
        "Replace the substring `important` with the word `insignificant`. Store it in `movies_antonym`"
      ]
    },
    {
      "cell_type": "code",
      "execution_count": 9,
      "metadata": {
        "id": "k_CKYMV-6XB3"
      },
      "outputs": [],
      "source": [
        "movies_antonym=movies_no_negation.replace(\"important\",'insignificant')"
      ]
    },
    {
      "cell_type": "markdown",
      "metadata": {
        "id": "PSjU1gy56a86"
      },
      "source": [
        "Print out the result contained in the variable `movies_antonym`."
      ]
    },
    {
      "cell_type": "code",
      "execution_count": 10,
      "metadata": {
        "id": "tNtovfeD6aRO"
      },
      "outputs": [
        {
          "name": "stdout",
          "output_type": "stream",
          "text": [
            "the rest of the story is insignificant because all it does is serve as a mere backdrop for the two stars to share the screen .\n"
          ]
        }
      ],
      "source": [
        "print(movies_antonym)"
      ]
    }
  ],
  "metadata": {
    "colab": {
      "provenance": []
    },
    "kernelspec": {
      "display_name": "Python 3",
      "name": "python3"
    },
    "language_info": {
      "codemirror_mode": {
        "name": "ipython",
        "version": 3
      },
      "file_extension": ".py",
      "mimetype": "text/x-python",
      "name": "python",
      "nbconvert_exporter": "python",
      "pygments_lexer": "ipython3",
      "version": "3.11.4"
    }
  },
  "nbformat": 4,
  "nbformat_minor": 0
}
