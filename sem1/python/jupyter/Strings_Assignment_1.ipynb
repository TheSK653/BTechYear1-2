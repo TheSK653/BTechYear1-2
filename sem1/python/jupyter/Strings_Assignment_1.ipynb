{
  "cells": [
    {
      "cell_type": "markdown",
      "metadata": {
        "id": "2rKXuQ5OYHCV"
      },
      "source": [
        "#DataTypes\n",
        "\n",
        "\n",
        "1.   int  -- 3,4,6,99,65,104\n",
        "2.   float -- 3.0, 4.2, 6.45, 99.9\n",
        "3.   str  -- \"Ram\", \"Jat Singh\"\n",
        "4.   bool  -- True, False\n",
        "\n",
        "\n",
        "\n",
        "\n"
      ]
    },
    {
      "cell_type": "markdown",
      "metadata": {
        "id": "r6jp08YcYreq"
      },
      "source": [
        "# to check the datatype\n",
        "\n",
        "## we will use type() function"
      ]
    },
    {
      "cell_type": "code",
      "execution_count": 140,
      "metadata": {
        "colab": {
          "base_uri": "https://localhost:8080/"
        },
        "id": "Y7NrPeSKYBc7",
        "outputId": "2564a759-66b1-4e07-e4d0-ad91d960aefe"
      },
      "outputs": [
        {
          "data": {
            "text/plain": [
              "int"
            ]
          },
          "execution_count": 140,
          "metadata": {},
          "output_type": "execute_result"
        }
      ],
      "source": [
        "type(11)"
      ]
    },
    {
      "cell_type": "markdown",
      "metadata": {
        "id": "5R7UyqDUY6kv"
      },
      "source": [
        "Create variable that will store your 12th Percentage"
      ]
    },
    {
      "cell_type": "code",
      "execution_count": 141,
      "metadata": {
        "id": "AgSvoCixY4zs"
      },
      "outputs": [],
      "source": [
        "percent = 86.5"
      ]
    },
    {
      "cell_type": "code",
      "execution_count": 142,
      "metadata": {
        "colab": {
          "base_uri": "https://localhost:8080/",
          "height": 175
        },
        "id": "DITw7nPdZGrM",
        "outputId": "3ab3e08e-0c79-44e5-85c1-948590f3ec69"
      },
      "outputs": [
        {
          "name": "stdout",
          "output_type": "stream",
          "text": [
            "86.5\n"
          ]
        }
      ],
      "source": [
        "print(percent)"
      ]
    },
    {
      "cell_type": "code",
      "execution_count": 143,
      "metadata": {
        "colab": {
          "base_uri": "https://localhost:8080/"
        },
        "id": "RAT1DojGZJX2",
        "outputId": "ecb4e855-b1e3-4693-d311-9a4c9d4f349e"
      },
      "outputs": [
        {
          "data": {
            "text/plain": [
              "86.5"
            ]
          },
          "execution_count": 143,
          "metadata": {},
          "output_type": "execute_result"
        }
      ],
      "source": [
        "percent"
      ]
    },
    {
      "cell_type": "code",
      "execution_count": 144,
      "metadata": {
        "colab": {
          "base_uri": "https://localhost:8080/"
        },
        "id": "rEXFyPp7ZM0o",
        "outputId": "32fe1a3a-fb7e-4811-f0f6-7788c2f3c43d"
      },
      "outputs": [
        {
          "name": "stdout",
          "output_type": "stream",
          "text": [
            "My 12th Percentage are:  86.5\n"
          ]
        }
      ],
      "source": [
        "print(\"My 12th Percentage are: \", percent)"
      ]
    },
    {
      "cell_type": "markdown",
      "metadata": {
        "id": "fWwOQN5BZuoR"
      },
      "source": [
        "Find the datatype of the following:\n",
        "\n",
        "\n",
        "\n",
        "1.   2\n",
        "2.   1.1\n",
        "3.   True\n",
        "4.   \"True\"\n",
        "5.   \"Adani Corporation\"\n",
        "6.   56.4"
      ]
    },
    {
      "cell_type": "markdown",
      "metadata": {
        "id": "PABWvn1VasZf"
      },
      "source": [
        "# TypeCasting\n",
        "## converting the datatype of one variable into another"
      ]
    },
    {
      "cell_type": "code",
      "execution_count": 145,
      "metadata": {
        "colab": {
          "base_uri": "https://localhost:8080/",
          "height": 36
        },
        "id": "G2iwP0KOZgJL",
        "outputId": "5504d425-1564-4794-8749-d6932a1610d0"
      },
      "outputs": [
        {
          "data": {
            "text/plain": [
              "'123'"
            ]
          },
          "execution_count": 145,
          "metadata": {},
          "output_type": "execute_result"
        }
      ],
      "source": [
        "# convert 123 an integer to string\n",
        "str(123)"
      ]
    },
    {
      "cell_type": "code",
      "execution_count": 146,
      "metadata": {
        "colab": {
          "base_uri": "https://localhost:8080/"
        },
        "id": "v1c-nG1bbQHc",
        "outputId": "4ea3388b-0224-4371-fd49-c7d624ef4e69"
      },
      "outputs": [],
      "source": [
        "# convert 1.123 into string and store it in variable x\n",
        "x = str(1.123)"
      ]
    },
    {
      "cell_type": "code",
      "execution_count": 147,
      "metadata": {
        "colab": {
          "base_uri": "https://localhost:8080/",
          "height": 36
        },
        "id": "_vy6y8vwblnf",
        "outputId": "54a7586a-a186-4fed-c5e4-d4327a4d4c6c"
      },
      "outputs": [
        {
          "data": {
            "text/plain": [
              "'1.123'"
            ]
          },
          "execution_count": 147,
          "metadata": {},
          "output_type": "execute_result"
        }
      ],
      "source": [
        "x"
      ]
    },
    {
      "cell_type": "code",
      "execution_count": 148,
      "metadata": {
        "colab": {
          "base_uri": "https://localhost:8080/"
        },
        "id": "gnvOA7PibnOy",
        "outputId": "9ccfe49f-ef99-4e37-eba1-b7c44b67eaf4"
      },
      "outputs": [
        {
          "data": {
            "text/plain": [
              "str"
            ]
          },
          "execution_count": 148,
          "metadata": {},
          "output_type": "execute_result"
        }
      ],
      "source": [
        "type(x)"
      ]
    },
    {
      "cell_type": "code",
      "execution_count": 149,
      "metadata": {
        "id": "hEugS1EEbp85"
      },
      "outputs": [],
      "source": [
        "# Suppose you have 3 apples create a variable my_apples\n",
        "# then check its datatype\n",
        "# then convert it into float and store it in my_apples_float\n",
        "# and check its datatype"
      ]
    },
    {
      "cell_type": "code",
      "execution_count": 150,
      "metadata": {
        "colab": {
          "base_uri": "https://localhost:8080/"
        },
        "id": "1AXo4a1vdcDN",
        "outputId": "6c3deb10-0cad-47fd-d17f-4d336e4fdaaf"
      },
      "outputs": [
        {
          "data": {
            "text/plain": [
              "int"
            ]
          },
          "execution_count": 150,
          "metadata": {},
          "output_type": "execute_result"
        }
      ],
      "source": [
        "my_apples = 3\n",
        "type(my_apples)"
      ]
    },
    {
      "cell_type": "code",
      "execution_count": 151,
      "metadata": {
        "colab": {
          "base_uri": "https://localhost:8080/"
        },
        "id": "m_hUXAH7djyz",
        "outputId": "f7fcd492-967d-45bd-c8d4-41b5f7dd7f1a"
      },
      "outputs": [
        {
          "data": {
            "text/plain": [
              "float"
            ]
          },
          "execution_count": 151,
          "metadata": {},
          "output_type": "execute_result"
        }
      ],
      "source": [
        "my_apples_float = float(my_apples)\n",
        "type(my_apples_float)"
      ]
    },
    {
      "cell_type": "markdown",
      "metadata": {
        "id": "gBIgw9-XcOp3"
      },
      "source": [
        "#convert the following\n",
        "#####1. 1 to boolean\n",
        "#####2. 2 to boolean\n",
        "#####3. 0 to boolean\n",
        "#####4. -1 to boolean\n",
        "#####5. 6 to string\n",
        "#####6. 6 to boolean\n",
        "#####7. 6 to float\n",
        "#####8. 4.2 to string\n",
        "#####9. 4.2 to int\n",
        "#####10. 4.2 to boolean\n",
        "#####11. \"Rahul\" to int\n",
        "#####12. \"Rahul\" to float\n",
        "#####13. \"Rahul\" to boolean\n",
        "#####14. True to int\n",
        "#####15. True to float\n",
        "#####16. True to string\n",
        "#####17. \"\" to boolean"
      ]
    },
    {
      "cell_type": "code",
      "execution_count": 152,
      "metadata": {
        "colab": {
          "base_uri": "https://localhost:8080/"
        },
        "id": "y4E4olHwdKOA",
        "outputId": "42fb9539-fc4c-4b85-8eec-2718ae02f10b"
      },
      "outputs": [
        {
          "data": {
            "text/plain": [
              "False"
            ]
          },
          "execution_count": 152,
          "metadata": {},
          "output_type": "execute_result"
        }
      ],
      "source": [
        "bool(\"\")"
      ]
    },
    {
      "cell_type": "code",
      "execution_count": 153,
      "metadata": {
        "colab": {
          "base_uri": "https://localhost:8080/"
        },
        "id": "MmSc9-wefIxv",
        "outputId": "a9cd1bae-d30e-4ca1-988d-eafb52c77f09"
      },
      "outputs": [
        {
          "data": {
            "text/plain": [
              "True"
            ]
          },
          "execution_count": 153,
          "metadata": {},
          "output_type": "execute_result"
        }
      ],
      "source": [
        "bool(\" \")"
      ]
    },
    {
      "cell_type": "code",
      "execution_count": 154,
      "metadata": {
        "colab": {
          "base_uri": "https://localhost:8080/"
        },
        "id": "lFgaKbSJfP-W",
        "outputId": "b38b8468-0163-4d6a-9af6-da32c8c114c2"
      },
      "outputs": [
        {
          "data": {
            "text/plain": [
              "0"
            ]
          },
          "execution_count": 154,
          "metadata": {},
          "output_type": "execute_result"
        }
      ],
      "source": [
        "len(\"\")"
      ]
    },
    {
      "cell_type": "code",
      "execution_count": 155,
      "metadata": {
        "colab": {
          "base_uri": "https://localhost:8080/"
        },
        "id": "yTB1FzQKfTBG",
        "outputId": "dceee821-885d-49e3-df57-8a8a5e50749c"
      },
      "outputs": [
        {
          "data": {
            "text/plain": [
              "1"
            ]
          },
          "execution_count": 155,
          "metadata": {},
          "output_type": "execute_result"
        }
      ],
      "source": [
        "len(\" \")"
      ]
    },
    {
      "cell_type": "code",
      "execution_count": 156,
      "metadata": {
        "colab": {
          "base_uri": "https://localhost:8080/"
        },
        "id": "e-c8MI0AfdgI",
        "outputId": "ae0b9ccc-33e7-4cd9-9da2-19f417b00366"
      },
      "outputs": [
        {
          "data": {
            "text/plain": [
              "19550"
            ]
          },
          "execution_count": 156,
          "metadata": {},
          "output_type": "execute_result"
        }
      ],
      "source": [
        "#Add 574 to 18976\n",
        "574 + 18976"
      ]
    },
    {
      "cell_type": "code",
      "execution_count": 157,
      "metadata": {
        "colab": {
          "base_uri": "https://localhost:8080/"
        },
        "id": "H26DDRDafvDJ",
        "outputId": "e34018c5-c0ac-4d19-bf59-47f5887b0155"
      },
      "outputs": [
        {
          "data": {
            "text/plain": [
              "2017"
            ]
          },
          "execution_count": 157,
          "metadata": {},
          "output_type": "execute_result"
        }
      ],
      "source": [
        "# subtract your day of birth from year of birth\n",
        "#  06-Sep-2023\n",
        "\n",
        "2023-6"
      ]
    },
    {
      "cell_type": "code",
      "execution_count": 158,
      "metadata": {
        "colab": {
          "base_uri": "https://localhost:8080/"
        },
        "id": "yF8n5FlQgCLl",
        "outputId": "c382616e-82a6-423d-ea86-05bf00ffb7d1"
      },
      "outputs": [
        {
          "data": {
            "text/plain": [
              "12138"
            ]
          },
          "execution_count": 158,
          "metadata": {},
          "output_type": "execute_result"
        }
      ],
      "source": [
        "# multiply your day of birth from year of birth\n",
        "#  06-Sep-2023\n",
        "\n",
        "2023*6"
      ]
    },
    {
      "cell_type": "code",
      "execution_count": 159,
      "metadata": {
        "colab": {
          "base_uri": "https://localhost:8080/"
        },
        "id": "mJwlhBAygIcW",
        "outputId": "876db38c-2886-45a9-c9b4-f1c8e14bd131"
      },
      "outputs": [
        {
          "data": {
            "text/plain": [
              "337.1666666666667"
            ]
          },
          "execution_count": 159,
          "metadata": {},
          "output_type": "execute_result"
        }
      ],
      "source": [
        "# divide your day of birth from year of birth\n",
        "#  06-Sep-2023\n",
        "\n",
        "2023/6"
      ]
    },
    {
      "cell_type": "code",
      "execution_count": 160,
      "metadata": {
        "colab": {
          "base_uri": "https://localhost:8080/"
        },
        "id": "aURVyKijgOz4",
        "outputId": "07200354-27ec-4c71-90ae-f5011e485596"
      },
      "outputs": [
        {
          "data": {
            "text/plain": [
              "2025"
            ]
          },
          "execution_count": 160,
          "metadata": {},
          "output_type": "execute_result"
        }
      ],
      "source": [
        "# find square of 45\n",
        "45**2"
      ]
    },
    {
      "cell_type": "code",
      "execution_count": 161,
      "metadata": {
        "colab": {
          "base_uri": "https://localhost:8080/"
        },
        "id": "U124Sx2HgaRl",
        "outputId": "4959b0f7-5dfa-4383-e797-1623808a3dcd"
      },
      "outputs": [
        {
          "data": {
            "text/plain": [
              "9"
            ]
          },
          "execution_count": 161,
          "metadata": {},
          "output_type": "execute_result"
        }
      ],
      "source": [
        "3**2"
      ]
    },
    {
      "cell_type": "code",
      "execution_count": 162,
      "metadata": {
        "colab": {
          "base_uri": "https://localhost:8080/"
        },
        "id": "NuIhGtgTgdpH",
        "outputId": "50c453d8-50c5-46b9-e3c4-a649e8cf33c6"
      },
      "outputs": [
        {
          "data": {
            "text/plain": [
              "1"
            ]
          },
          "execution_count": 162,
          "metadata": {},
          "output_type": "execute_result"
        }
      ],
      "source": [
        "# Find remainder your day of birth from year of birth\n",
        "#  06-Sep-2023\n",
        "\n",
        "2023%6"
      ]
    },
    {
      "cell_type": "code",
      "execution_count": 163,
      "metadata": {
        "colab": {
          "base_uri": "https://localhost:8080/"
        },
        "id": "Ds4m_w4QglyM",
        "outputId": "8679e322-69e9-46ec-a090-1a652567f02b"
      },
      "outputs": [
        {
          "data": {
            "text/plain": [
              "337"
            ]
          },
          "execution_count": 163,
          "metadata": {},
          "output_type": "execute_result"
        }
      ],
      "source": [
        "# integer divide\n",
        "2023//6"
      ]
    },
    {
      "cell_type": "code",
      "execution_count": 164,
      "metadata": {
        "id": "rpDH0dkxg836"
      },
      "outputs": [],
      "source": [
        "Name = \"Michael Jackson\""
      ]
    },
    {
      "cell_type": "code",
      "execution_count": 165,
      "metadata": {
        "colab": {
          "base_uri": "https://localhost:8080/",
          "height": 36
        },
        "id": "oGmzU4JMhAys",
        "outputId": "cd250a34-538a-40ba-f62b-b449378ad598"
      },
      "outputs": [
        {
          "data": {
            "text/plain": [
              "'Michael Jackson'"
            ]
          },
          "execution_count": 165,
          "metadata": {},
          "output_type": "execute_result"
        }
      ],
      "source": [
        "Name"
      ]
    },
    {
      "cell_type": "code",
      "execution_count": 166,
      "metadata": {
        "colab": {
          "base_uri": "https://localhost:8080/",
          "height": 36
        },
        "id": "Oj4zEptFhFG2",
        "outputId": "99b5872d-4edd-46a5-ee1c-3d6e849f81ef"
      },
      "outputs": [
        {
          "data": {
            "text/plain": [
              "'M'"
            ]
          },
          "execution_count": 166,
          "metadata": {},
          "output_type": "execute_result"
        }
      ],
      "source": [
        "# find first character of string name\n",
        "Name[0]"
      ]
    },
    {
      "cell_type": "code",
      "execution_count": 167,
      "metadata": {
        "colab": {
          "base_uri": "https://localhost:8080/",
          "height": 36
        },
        "id": "XIpl5naYhRaq",
        "outputId": "b82cf2d8-c8c5-4661-8392-c492fe26caef"
      },
      "outputs": [
        {
          "data": {
            "text/plain": [
              "'a'"
            ]
          },
          "execution_count": 167,
          "metadata": {},
          "output_type": "execute_result"
        }
      ],
      "source": [
        "# fifth character\n",
        "Name[4]"
      ]
    },
    {
      "cell_type": "code",
      "execution_count": 168,
      "metadata": {
        "colab": {
          "base_uri": "https://localhost:8080/",
          "height": 36
        },
        "id": "DfN0G6VXhY3j",
        "outputId": "4c6b5d4e-dcc9-4bed-c7e5-4edc43bccea7"
      },
      "outputs": [
        {
          "data": {
            "text/plain": [
              "'n'"
            ]
          },
          "execution_count": 168,
          "metadata": {},
          "output_type": "execute_result"
        }
      ],
      "source": [
        "# last charcter\n",
        "Name[-1]"
      ]
    },
    {
      "cell_type": "code",
      "execution_count": 169,
      "metadata": {
        "colab": {
          "base_uri": "https://localhost:8080/",
          "height": 36
        },
        "id": "L5VNn_aRhhIB",
        "outputId": "1086b0d9-bee6-4f49-ff73-310d754ba820"
      },
      "outputs": [
        {
          "data": {
            "text/plain": [
              "'n'"
            ]
          },
          "execution_count": 169,
          "metadata": {},
          "output_type": "execute_result"
        }
      ],
      "source": [
        "Name[14]"
      ]
    },
    {
      "cell_type": "code",
      "execution_count": 170,
      "metadata": {
        "colab": {
          "base_uri": "https://localhost:8080/",
          "height": 36
        },
        "id": "UdYOH2Oohjz0",
        "outputId": "4608b2d4-466a-451d-dfff-10b449263986"
      },
      "outputs": [
        {
          "data": {
            "text/plain": [
              "'n'"
            ]
          },
          "execution_count": 170,
          "metadata": {},
          "output_type": "execute_result"
        }
      ],
      "source": [
        "Name[len(Name)-1]"
      ]
    },
    {
      "cell_type": "code",
      "execution_count": 171,
      "metadata": {
        "colab": {
          "base_uri": "https://localhost:8080/",
          "height": 36
        },
        "id": "xMyErDGxiddm",
        "outputId": "b63e1825-cab3-421f-daa2-2564ca843a4c"
      },
      "outputs": [
        {
          "data": {
            "text/plain": [
              "'Mich'"
            ]
          },
          "execution_count": 171,
          "metadata": {},
          "output_type": "execute_result"
        }
      ],
      "source": [
        "# Find first four letter of name\n",
        "Name[0:4]"
      ]
    },
    {
      "cell_type": "code",
      "execution_count": 172,
      "metadata": {
        "colab": {
          "base_uri": "https://localhost:8080/",
          "height": 36
        },
        "id": "WJld1FjijTAB",
        "outputId": "344a2f32-48ca-4ce5-d8fb-6960d97211f8"
      },
      "outputs": [
        {
          "data": {
            "text/plain": [
              "'Michael Jackson'"
            ]
          },
          "execution_count": 172,
          "metadata": {},
          "output_type": "execute_result"
        }
      ],
      "source": [
        "Name[0:len(Name)]"
      ]
    },
    {
      "cell_type": "code",
      "execution_count": 173,
      "metadata": {
        "colab": {
          "base_uri": "https://localhost:8080/",
          "height": 36
        },
        "id": "o_xWAIILjtCA",
        "outputId": "2283271e-4103-4e8e-e010-83d4525d4374"
      },
      "outputs": [
        {
          "data": {
            "text/plain": [
              "'Jack'"
            ]
          },
          "execution_count": 173,
          "metadata": {},
          "output_type": "execute_result"
        }
      ],
      "source": [
        "Name[8:12]"
      ]
    },
    {
      "cell_type": "code",
      "execution_count": 174,
      "metadata": {
        "colab": {
          "base_uri": "https://localhost:8080/",
          "height": 36
        },
        "id": "4LMca3Gbj0cr",
        "outputId": "88a7397f-a865-4c90-df4a-b8a92fa5a6f9"
      },
      "outputs": [
        {
          "data": {
            "text/plain": [
              "'McalJcsn'"
            ]
          },
          "execution_count": 174,
          "metadata": {},
          "output_type": "execute_result"
        }
      ],
      "source": [
        "Name[::2]"
      ]
    },
    {
      "cell_type": "code",
      "execution_count": 175,
      "metadata": {
        "colab": {
          "base_uri": "https://localhost:8080/",
          "height": 36
        },
        "id": "syVjZ2OHj6eT",
        "outputId": "e9e82a36-9790-4882-b124-35c87212d220"
      },
      "outputs": [
        {
          "data": {
            "text/plain": [
              "'noskcaJ leahciM'"
            ]
          },
          "execution_count": 175,
          "metadata": {},
          "output_type": "execute_result"
        }
      ],
      "source": [
        "Name[::-1]"
      ]
    },
    {
      "cell_type": "code",
      "execution_count": 176,
      "metadata": {
        "colab": {
          "base_uri": "https://localhost:8080/",
          "height": 36
        },
        "id": "zqCvyyUIkJhg",
        "outputId": "61aaa5eb-7682-416e-8ed4-1f0f488f5b1f"
      },
      "outputs": [
        {
          "data": {
            "text/plain": [
              "'Michael Jackson'"
            ]
          },
          "execution_count": 176,
          "metadata": {},
          "output_type": "execute_result"
        }
      ],
      "source": [
        "Name"
      ]
    },
    {
      "cell_type": "code",
      "execution_count": 177,
      "metadata": {
        "colab": {
          "base_uri": "https://localhost:8080/",
          "height": 36
        },
        "id": "GASujXJ2kDBo",
        "outputId": "0ac6a02b-a4e5-479d-f653-81df779c8e21"
      },
      "outputs": [
        {
          "data": {
            "text/plain": [
              "'Mcal'"
            ]
          },
          "execution_count": 177,
          "metadata": {},
          "output_type": "execute_result"
        }
      ],
      "source": [
        "Name[0:7:2]"
      ]
    },
    {
      "cell_type": "code",
      "execution_count": 178,
      "metadata": {
        "colab": {
          "base_uri": "https://localhost:8080/",
          "height": 36
        },
        "id": "lnEVaBW3kC-A",
        "outputId": "a38a083f-9c2d-48e2-a516-e1c8dd2917b7"
      },
      "outputs": [
        {
          "data": {
            "text/plain": [
              "'My favourite rockstar is: Michael Jackson'"
            ]
          },
          "execution_count": 178,
          "metadata": {},
          "output_type": "execute_result"
        }
      ],
      "source": [
        "\"My favourite rockstar is: \"+Name"
      ]
    },
    {
      "cell_type": "code",
      "execution_count": 179,
      "metadata": {
        "colab": {
          "base_uri": "https://localhost:8080/",
          "height": 36
        },
        "id": "hEkivPRAl-6V",
        "outputId": "954a6e73-3543-4232-db29-5ad0f1716801"
      },
      "outputs": [
        {
          "data": {
            "text/plain": [
              "'Michael JacksonMichael JacksonMichael Jackson'"
            ]
          },
          "execution_count": 179,
          "metadata": {},
          "output_type": "execute_result"
        }
      ],
      "source": [
        "Name * 3"
      ]
    },
    {
      "cell_type": "code",
      "execution_count": 180,
      "metadata": {
        "colab": {
          "base_uri": "https://localhost:8080/",
          "height": 36
        },
        "id": "CJDHyFRVmEJS",
        "outputId": "f0eced85-fccd-47cf-87f8-90e21a1070a6"
      },
      "outputs": [
        {
          "data": {
            "text/plain": [
              "'Michael Jackson   '"
            ]
          },
          "execution_count": 180,
          "metadata": {},
          "output_type": "execute_result"
        }
      ],
      "source": [
        "Name + \" \" *3"
      ]
    },
    {
      "cell_type": "code",
      "execution_count": 181,
      "metadata": {
        "colab": {
          "base_uri": "https://localhost:8080/",
          "height": 36
        },
        "id": "iG34yG0NmP9w",
        "outputId": "e69effa4-57c5-4a8d-e212-c105b4acfae4"
      },
      "outputs": [
        {
          "data": {
            "text/plain": [
              "'Michael Jackson Michael Jackson Michael Jackson '"
            ]
          },
          "execution_count": 181,
          "metadata": {},
          "output_type": "execute_result"
        }
      ],
      "source": [
        "(Name + \" \")*3"
      ]
    },
    {
      "cell_type": "code",
      "execution_count": 182,
      "metadata": {
        "colab": {
          "base_uri": "https://localhost:8080/"
        },
        "id": "kzt1uY90manW",
        "outputId": "75c6a594-e2c6-4080-9df0-1d26be3ab0d7"
      },
      "outputs": [
        {
          "name": "stdout",
          "output_type": "stream",
          "text": [
            "Michael Jackson\n",
            "Michael Jackson\n",
            "Michael Jackson\n",
            "\n"
          ]
        }
      ],
      "source": [
        "print((Name + \"\\n\")*3)"
      ]
    },
    {
      "cell_type": "code",
      "execution_count": 183,
      "metadata": {
        "colab": {
          "base_uri": "https://localhost:8080/"
        },
        "id": "QvnFM3Ilm4l1",
        "outputId": "721079b1-b20f-422b-ff21-0a3ed85a42d8"
      },
      "outputs": [
        {
          "name": "stdout",
          "output_type": "stream",
          "text": [
            "Michael Jackson\tMichael Jackson\tMichael Jackson\t\n"
          ]
        }
      ],
      "source": [
        "print((Name + \"\\t\")*3)"
      ]
    },
    {
      "cell_type": "code",
      "execution_count": 184,
      "metadata": {
        "id": "LcvdTnWMm-Iy"
      },
      "outputs": [],
      "source": [
        "str = r\"Do you have coffee\\tea?\""
      ]
    },
    {
      "cell_type": "code",
      "execution_count": 185,
      "metadata": {
        "colab": {
          "base_uri": "https://localhost:8080/"
        },
        "id": "gFHMvtBSnHIQ",
        "outputId": "3e929c41-8d29-43d9-d90a-f06af3db12bd"
      },
      "outputs": [
        {
          "name": "stdout",
          "output_type": "stream",
          "text": [
            "Do you have coffee\\tea?\n"
          ]
        }
      ],
      "source": [
        "print(str)"
      ]
    },
    {
      "cell_type": "code",
      "execution_count": 186,
      "metadata": {
        "colab": {
          "base_uri": "https://localhost:8080/"
        },
        "id": "ACuIYR3XnRNY",
        "outputId": "bf93d183-884f-46cf-c89f-0c566b75d08d"
      },
      "outputs": [
        {
          "name": "stdout",
          "output_type": "stream",
          "text": [
            "Do you have coffee\\tea?\n"
          ]
        }
      ],
      "source": [
        "str = \"Do you have coffee\\\\tea?\"\n",
        "print(str)"
      ]
    },
    {
      "cell_type": "code",
      "execution_count": 187,
      "metadata": {
        "id": "4xUMBjpQnp1Q"
      },
      "outputs": [],
      "source": [
        "news = \"G20 Summit 2023: Traffic restrictions imposed in Delhi from September 7-10. Check full list of restricted September areas here\""
      ]
    },
    {
      "cell_type": "code",
      "execution_count": 188,
      "metadata": {
        "colab": {
          "base_uri": "https://localhost:8080/"
        },
        "id": "RwgsDIYJnunD",
        "outputId": "760666f5-744a-44bc-9ce5-23e26565b4cd"
      },
      "outputs": [
        {
          "name": "stdout",
          "output_type": "stream",
          "text": [
            "G20 Summit 2023: Traffic restrictions imposed in Delhi from September 7-10. Check full list of restricted September areas here\n"
          ]
        }
      ],
      "source": [
        "print(news)"
      ]
    },
    {
      "cell_type": "code",
      "execution_count": 189,
      "metadata": {
        "colab": {
          "base_uri": "https://localhost:8080/",
          "height": 36
        },
        "id": "RxxbwN9XnyDp",
        "outputId": "40cd770c-6ab0-4feb-adb4-b1f18ac95196"
      },
      "outputs": [
        {
          "data": {
            "text/plain": [
              "'o'"
            ]
          },
          "execution_count": 189,
          "metadata": {},
          "output_type": "execute_result"
        }
      ],
      "source": [
        "# find 34th charcter in news\n",
        "news[34]"
      ]
    },
    {
      "cell_type": "code",
      "execution_count": 190,
      "metadata": {
        "id": "Iw-HdiHLpKcv"
      },
      "outputs": [],
      "source": [
        "# Extract the string from news that starts with \"S\" and ends on \"r\""
      ]
    },
    {
      "cell_type": "markdown",
      "metadata": {
        "id": "aQY9vJdop_nV"
      },
      "source": [
        "#Regular Expression"
      ]
    },
    {
      "cell_type": "code",
      "execution_count": 191,
      "metadata": {
        "colab": {
          "base_uri": "https://localhost:8080/"
        },
        "id": "DUmr_MwWp-Y2",
        "outputId": "ca198051-5f49-4b8b-96bb-3787a7354d97"
      },
      "outputs": [
        {
          "name": "stdout",
          "output_type": "stream",
          "text": [
            "<re.Match object; span=(60, 69), match='September'>\n"
          ]
        }
      ],
      "source": [
        "import re\n",
        "pattern = r\"S\\w*r\"\n",
        "print(re.search(pattern, news))"
      ]
    },
    {
      "cell_type": "code",
      "execution_count": 192,
      "metadata": {
        "colab": {
          "base_uri": "https://localhost:8080/",
          "height": 36
        },
        "id": "ao08he9kri2V",
        "outputId": "149b2055-a9ff-4a7f-b291-be8d465fafe7"
      },
      "outputs": [
        {
          "data": {
            "text/plain": [
              "'September'"
            ]
          },
          "execution_count": 192,
          "metadata": {},
          "output_type": "execute_result"
        }
      ],
      "source": [
        "news[60:69]"
      ]
    },
    {
      "cell_type": "code",
      "execution_count": 193,
      "metadata": {
        "colab": {
          "base_uri": "https://localhost:8080/",
          "height": 36
        },
        "id": "1CcFYvKgriun",
        "outputId": "515f9632-ee2a-44cd-bac7-bc52fe9cd492"
      },
      "outputs": [
        {
          "data": {
            "text/plain": [
              "'G20 SUMMIT 2023: TRAFFIC RESTRICTIONS IMPOSED IN DELHI FROM SEPTEMBER 7-10. CHECK FULL LIST OF RESTRICTED SEPTEMBER AREAS HERE'"
            ]
          },
          "execution_count": 193,
          "metadata": {},
          "output_type": "execute_result"
        }
      ],
      "source": [
        "news.upper()"
      ]
    },
    {
      "cell_type": "code",
      "execution_count": 194,
      "metadata": {
        "colab": {
          "base_uri": "https://localhost:8080/",
          "height": 36
        },
        "id": "kxX4mDZxr2fq",
        "outputId": "bc40ccde-c6d8-4da9-a0a6-5dea395f0eef"
      },
      "outputs": [
        {
          "data": {
            "text/plain": [
              "'g20 summit 2023: traffic restrictions imposed in delhi from september 7-10. check full list of restricted september areas here'"
            ]
          },
          "execution_count": 194,
          "metadata": {},
          "output_type": "execute_result"
        }
      ],
      "source": [
        "news.lower()"
      ]
    },
    {
      "cell_type": "code",
      "execution_count": 195,
      "metadata": {
        "colab": {
          "base_uri": "https://localhost:8080/",
          "height": 36
        },
        "id": "F85n6n22r6B2",
        "outputId": "6561a180-5af1-4b14-ef05-2e2e86aa1a59"
      },
      "outputs": [
        {
          "data": {
            "text/plain": [
              "'G20 Summit 2023: Traffic restrictions imposed in Mumbai from September 7-10. Check full list of restricted September areas here'"
            ]
          },
          "execution_count": 195,
          "metadata": {},
          "output_type": "execute_result"
        }
      ],
      "source": [
        "news.replace(\"Delhi\", \"Mumbai\")\n",
        "#  replace delhi to mumbai"
      ]
    },
    {
      "cell_type": "code",
      "execution_count": 196,
      "metadata": {
        "colab": {
          "base_uri": "https://localhost:8080/",
          "height": 36
        },
        "id": "MUTGKK1psOHi",
        "outputId": "6db2c349-7a2e-4528-ef4f-f9f486a434e5"
      },
      "outputs": [
        {
          "data": {
            "text/plain": [
              "'G20 Summit 2023: Tr@ffic restrictions imposed in Delhi from September 7-10. Check full list of restricted September @re@s here'"
            ]
          },
          "execution_count": 196,
          "metadata": {},
          "output_type": "execute_result"
        }
      ],
      "source": [
        "news.replace(\"a\",\"@\")"
      ]
    },
    {
      "cell_type": "code",
      "execution_count": 197,
      "metadata": {
        "colab": {
          "base_uri": "https://localhost:8080/"
        },
        "id": "8kFO-nY8s6Ae",
        "outputId": "1bc255b5-906e-47a8-95be-33478f7b5397"
      },
      "outputs": [
        {
          "data": {
            "text/plain": [
              "60"
            ]
          },
          "execution_count": 197,
          "metadata": {},
          "output_type": "execute_result"
        }
      ],
      "source": [
        "news.find(\"Sep\")"
      ]
    },
    {
      "cell_type": "code",
      "execution_count": 198,
      "metadata": {
        "id": "RGgbk5xftdtP"
      },
      "outputs": [],
      "source": [
        "tt = \"A Peter Piper picked a peck of pickled peppers.A peck of pickled peppers Peter Piper picked. If Peter Piper picked a peck of pickled peppers, Where’s the peck of pickled peppers Peter Piper picked?\""
      ]
    },
    {
      "cell_type": "code",
      "execution_count": 199,
      "metadata": {
        "colab": {
          "base_uri": "https://localhost:8080/"
        },
        "id": "FrFQq9TdtwyT",
        "outputId": "477c6b10-8b34-47cb-d0f1-8344dbb19258"
      },
      "outputs": [
        {
          "data": {
            "text/plain": [
              "2"
            ]
          },
          "execution_count": 199,
          "metadata": {},
          "output_type": "execute_result"
        }
      ],
      "source": [
        "tt.find(\"Peter\")"
      ]
    },
    {
      "cell_type": "code",
      "execution_count": 200,
      "metadata": {
        "colab": {
          "base_uri": "https://localhost:8080/"
        },
        "id": "DLe2BhnZuN1B",
        "outputId": "bb31bb46-516f-4532-85a9-8d4f001bd4f5"
      },
      "outputs": [
        {
          "data": {
            "text/plain": [
              "2"
            ]
          },
          "execution_count": 200,
          "metadata": {},
          "output_type": "execute_result"
        }
      ],
      "source": [
        "tt.find(\"Peter\", 2,7)"
      ]
    },
    {
      "cell_type": "markdown",
      "metadata": {
        "id": "Ma69wzyI6HUq"
      },
      "source": [
        "#Regular Expressions"
      ]
    },
    {
      "cell_type": "code",
      "execution_count": 201,
      "metadata": {
        "id": "h_71qbK-506K"
      },
      "outputs": [],
      "source": [
        "import re"
      ]
    },
    {
      "cell_type": "code",
      "execution_count": 223,
      "metadata": {
        "id": "d7hBAmVW6NJJ"
      },
      "outputs": [],
      "source": [
        "movie = \"fox and kelley soon become bitter rivals because the new fox books \\\n",
        "store is opening up right across the block from the small business .\""
      ]
    },
    {
      "cell_type": "markdown",
      "metadata": {
        "id": "CPsWIvFL7L2D"
      },
      "source": [
        "Find number of characters in `movie` variable and store in variable `movie_length`"
      ]
    },
    {
      "cell_type": "code",
      "execution_count": 242,
      "metadata": {
        "id": "3BCV--0U7LNa"
      },
      "outputs": [
        {
          "data": {
            "text/plain": [
              "int"
            ]
          },
          "execution_count": 242,
          "metadata": {},
          "output_type": "execute_result"
        }
      ],
      "source": [
        "movie_lenth=len(movie)\n",
        "type(movie_lenth)"
      ]
    },
    {
      "cell_type": "markdown",
      "metadata": {
        "id": "b45u8R3t7OI7"
      },
      "source": [
        "Convert to number of characters in `movie_length` to string (typecasting)\n",
        "<br> and store it in variable `to_string`"
      ]
    },
    {
      "cell_type": "code",
      "execution_count": 246,
      "metadata": {
        "id": "4Cstk8Qt7Ul-"
      },
      "outputs": [
        {
          "ename": "TypeError",
          "evalue": "'str' object is not callable",
          "output_type": "error",
          "traceback": [
            "\u001b[1;31m---------------------------------------------------------------------------\u001b[0m",
            "\u001b[1;31mTypeError\u001b[0m                                 Traceback (most recent call last)",
            "\u001b[1;32mc:\\Users\\windows\\Desktop\\codes\\Strings_Assignment_1.ipynb Cell 75\u001b[0m line \u001b[0;36m1\n\u001b[1;32m----> <a href='vscode-notebook-cell:/c%3A/Users/windows/Desktop/codes/Strings_Assignment_1.ipynb#Y134sZmlsZQ%3D%3D?line=0'>1</a>\u001b[0m to_string\u001b[39m=\u001b[39m\u001b[39mstr\u001b[39;49m(movie_lenth)\n\u001b[0;32m      <a href='vscode-notebook-cell:/c%3A/Users/windows/Desktop/codes/Strings_Assignment_1.ipynb#Y134sZmlsZQ%3D%3D?line=1'>2</a>\u001b[0m to_string\n",
            "\u001b[1;31mTypeError\u001b[0m: 'str' object is not callable"
          ]
        }
      ],
      "source": [
        "to_string=str(movie_lenth)\n",
        "to_string"
      ]
    },
    {
      "cell_type": "markdown",
      "metadata": {
        "id": "M8ra3njj7XAz"
      },
      "source": [
        "Create variable `statement` with string `\"Number of characters in this review:\"`"
      ]
    },
    {
      "cell_type": "code",
      "execution_count": 220,
      "metadata": {
        "id": "QLTDRguf700c"
      },
      "outputs": [],
      "source": [
        "statement=\"Number of characters in this review:\""
      ]
    },
    {
      "cell_type": "markdown",
      "metadata": {
        "id": "hrlCx-Me75cO"
      },
      "source": [
        "Concatenate strings `statement` and `to_string` and print result\n",
        "\n",
        "your output should be\n",
        "\n",
        "`Number of characters in this review: 135`"
      ]
    },
    {
      "cell_type": "code",
      "execution_count": 245,
      "metadata": {
        "id": "J3zUtt7X74kC"
      },
      "outputs": [
        {
          "name": "stdout",
          "output_type": "stream",
          "text": [
            "Number of characters in this review: 135\n"
          ]
        }
      ],
      "source": [
        "print(statement,to_string)"
      ]
    },
    {
      "cell_type": "markdown",
      "metadata": {
        "id": "wyhOG3PT8U2B"
      },
      "source": [
        "String Manipulation"
      ]
    },
    {
      "cell_type": "code",
      "execution_count": null,
      "metadata": {
        "id": "8S9Cax6M8UdO"
      },
      "outputs": [],
      "source": [
        "movie1 = 'the most significant tension of _election_ is the potential relationship between a teacher and his student .'\n",
        "movie2 = 'the most significant tension of _rushmore_ is the potential relationship between a teacher and his student .'"
      ]
    },
    {
      "cell_type": "markdown",
      "metadata": {
        "id": "wUXr0OXF-Ao6"
      },
      "source": [
        "Select the first 32 characters of movie1\n",
        "<br> and store it in variable `first_part`"
      ]
    },
    {
      "cell_type": "code",
      "execution_count": null,
      "metadata": {
        "id": "Qy2snhAq-AC8"
      },
      "outputs": [],
      "source": [
        "first_part=movie1[:32]"
      ]
    },
    {
      "cell_type": "markdown",
      "metadata": {
        "id": "GC63uZBv-FEw"
      },
      "source": [
        "Select from 43rd character to the end of movie1\n",
        "<br> and store it in variable `last_part`"
      ]
    },
    {
      "cell_type": "code",
      "execution_count": null,
      "metadata": {
        "id": "9Fuh-QSt-G1v"
      },
      "outputs": [],
      "source": [
        "last_part=movie1[42:]"
      ]
    },
    {
      "cell_type": "markdown",
      "metadata": {
        "id": "lf0AMSXg-KzI"
      },
      "source": [
        "Select from 33rd to the 42nd character of **movie2**\n",
        "<br> and store it in variable `middle_part`"
      ]
    },
    {
      "cell_type": "code",
      "execution_count": null,
      "metadata": {
        "id": "JSuacR32-MOP"
      },
      "outputs": [],
      "source": [
        "middle_part=movie2[32:42]"
      ]
    },
    {
      "cell_type": "markdown",
      "metadata": {
        "id": "GOPXtJfw-Mrt"
      },
      "source": [
        "Print concatenation of `first_part`, `middle_part` and `last_part`\n",
        "<br>\n",
        "<br>\n",
        "Print movie2 variable"
      ]
    },
    {
      "cell_type": "code",
      "execution_count": null,
      "metadata": {
        "id": "GSJcgvdZ-NQY"
      },
      "outputs": [
        {
          "name": "stdout",
          "output_type": "stream",
          "text": [
            "the most significant tension of  _rushmore_  is the potential relationship between a teacher and his student .\n"
          ]
        }
      ],
      "source": [
        "print(first_part,middle_part,last_part)"
      ]
    },
    {
      "cell_type": "markdown",
      "metadata": {
        "id": "F1l2Meqw_xk2"
      },
      "source": [
        "#Pallindromes"
      ]
    },
    {
      "cell_type": "code",
      "execution_count": null,
      "metadata": {
        "id": "k2owvKFJ_1S5"
      },
      "outputs": [],
      "source": [
        "movie = 'oh my God! desserts I stressed was an ugly movie'"
      ]
    },
    {
      "cell_type": "markdown",
      "metadata": {
        "id": "MQ5HLOXj_4gK"
      },
      "source": [
        "Get the word between 12th character and 30th ie. `\"desserts I stressed\"` and store it in variable `movie_title`"
      ]
    },
    {
      "cell_type": "code",
      "execution_count": null,
      "metadata": {
        "id": "EIHmc2Vu_3uK"
      },
      "outputs": [],
      "source": [
        "movie_title=movie[11:30]"
      ]
    },
    {
      "cell_type": "markdown",
      "metadata": {
        "id": "Ac-pl5l9ATcv"
      },
      "source": [
        "Obtain the palindrome by reverse the string extracted above and store it in variable\n",
        "`palindrome`\n",
        "     "
      ]
    },
    {
      "cell_type": "code",
      "execution_count": null,
      "metadata": {
        "id": "iKsk5XmBASDE"
      },
      "outputs": [],
      "source": [
        "palindrome=movie_title[::-1]"
      ]
    },
    {
      "cell_type": "markdown",
      "metadata": {
        "id": "m9Ju8dK7AtNq"
      },
      "source": [
        "Print the `movie_title` if it's a `palindrome` using `if`"
      ]
    },
    {
      "cell_type": "code",
      "execution_count": null,
      "metadata": {
        "id": "LxphbGhZBmiT"
      },
      "outputs": [
        {
          "name": "stdout",
          "output_type": "stream",
          "text": [
            "desserts I stressed\n"
          ]
        }
      ],
      "source": [
        "if movie_title==palindrome:\n",
        "    print(movie_title,'is a palindrome')\n",
        "else:\n",
        "    print(movie_title,'is not a palindrome')"
      ]
    },
    {
      "cell_type": "markdown",
      "metadata": {
        "id": "j75vNwGsB8dZ"
      },
      "source": [
        "#Normalize"
      ]
    },
    {
      "cell_type": "code",
      "execution_count": null,
      "metadata": {
        "id": "UOPbvMghB8Hf"
      },
      "outputs": [],
      "source": [
        "movie = '$I supposed that coming from MTV Films I should expect no less$'"
      ]
    },
    {
      "cell_type": "markdown",
      "metadata": {
        "id": "ECq4PJFUCIho"
      },
      "source": [
        "Convert `movie` to lowercase, store it in variable `movie_lower` and print the content of `movie_lower`"
      ]
    },
    {
      "cell_type": "code",
      "execution_count": null,
      "metadata": {
        "id": "kw2tX7vdCHr-"
      },
      "outputs": [
        {
          "name": "stdout",
          "output_type": "stream",
          "text": [
            "$i supposed that coming from mtv films i should expect no less$\n"
          ]
        }
      ],
      "source": [
        "movie_lower=movie.lower()\n",
        "print(movie_lower)"
      ]
    },
    {
      "cell_type": "markdown",
      "metadata": {
        "id": "QXi-WPCCCoBC"
      },
      "source": [
        "Remove the `$` that occur at the start and at the end of the string contained in `movie_lower`. store it in variable `movie_no_sign`. Print the results."
      ]
    },
    {
      "cell_type": "code",
      "execution_count": null,
      "metadata": {
        "id": "EsAbqfe_CneT"
      },
      "outputs": [
        {
          "name": "stdout",
          "output_type": "stream",
          "text": [
            "i supposed that coming from mtv films i should expect no less\n"
          ]
        }
      ],
      "source": [
        "import re\n",
        "movie_no_sign=re.sub(r'\\$','',movie_lower)\n",
        "print(movie_no_sign)"
      ]
    },
    {
      "cell_type": "markdown",
      "metadata": {
        "id": "g4WxopNxDEVv"
      },
      "source": [
        "Split the string contained in `movie_no_sign` into as many substrings as possible. Store in variable `movie_split`. Print the results."
      ]
    },
    {
      "cell_type": "code",
      "execution_count": null,
      "metadata": {
        "id": "b6Gp1sN2DH40"
      },
      "outputs": [
        {
          "name": "stdout",
          "output_type": "stream",
          "text": [
            "['i', 'supposed', 'that', 'coming', 'from', 'mtv', 'films', 'i', 'should', 'expect', 'no', 'less']\n"
          ]
        }
      ],
      "source": [
        "movie_split=movie_no_sign.split()\n",
        "print(movie_split)"
      ]
    },
    {
      "cell_type": "markdown",
      "metadata": {
        "id": "7hJt1iZmDcoa"
      },
      "source": [
        "To get the root of the second word contained in `movie_split`, select all the characters except the last one. Store it in `word_root` and print the result"
      ]
    },
    {
      "cell_type": "code",
      "execution_count": null,
      "metadata": {
        "id": "XXw1M9m6t9Ix"
      },
      "outputs": [
        {
          "data": {
            "text/plain": [
              "'suppose'"
            ]
          },
          "execution_count": 90,
          "metadata": {},
          "output_type": "execute_result"
        }
      ],
      "source": [
        "word_root=movie_split[1]\n",
        "word_root[:len(word_root)-1]"
      ]
    },
    {
      "cell_type": "markdown",
      "metadata": {
        "id": "y7sPBnhmEMHH"
      },
      "source": [
        "#Time to join!"
      ]
    },
    {
      "cell_type": "code",
      "execution_count": null,
      "metadata": {
        "id": "7C_GJuCwEUtw"
      },
      "outputs": [],
      "source": [
        "movie = 'the film,however,is all good<\\i>'"
      ]
    },
    {
      "cell_type": "markdown",
      "metadata": {
        "id": "MBSNvwaSDyrt"
      },
      "source": [
        "Remove tag `<\\i>` from the end of the string. Print the results. Store result in variable `movie_tag`"
      ]
    },
    {
      "cell_type": "code",
      "execution_count": null,
      "metadata": {
        "id": "KzU1qTacE2WS"
      },
      "outputs": [
        {
          "data": {
            "text/plain": [
              "'the film,however,is all good'"
            ]
          },
          "execution_count": 98,
          "metadata": {},
          "output_type": "execute_result"
        }
      ],
      "source": [
        "movie_tag=re.sub(r'<\\\\i>','',movie)\n",
        "movie_tag"
      ]
    },
    {
      "cell_type": "markdown",
      "metadata": {
        "id": "JVzOeTfGE3HV"
      },
      "source": [
        "Split the string contained in `movie_tag` using the commas as a separating element. Store the result in `movie_no_comma` Print the results."
      ]
    },
    {
      "cell_type": "code",
      "execution_count": null,
      "metadata": {
        "id": "fNqgG3RfFQTU"
      },
      "outputs": [
        {
          "name": "stdout",
          "output_type": "stream",
          "text": [
            "['the film', 'however', 'is all good']\n"
          ]
        }
      ],
      "source": [
        "movie_no_comma=movie_tag.split(',')\n",
        "print(movie_no_comma)"
      ]
    },
    {
      "cell_type": "markdown",
      "metadata": {
        "id": "St9jEXosFQ3q"
      },
      "source": [
        "Join back together the list of substring contained in `movie_no_comma` using a space as a join element. Store result in `movie_join` Print the results."
      ]
    },
    {
      "cell_type": "code",
      "execution_count": null,
      "metadata": {
        "id": "yaxkC7RTnxCF"
      },
      "outputs": [
        {
          "name": "stdout",
          "output_type": "stream",
          "text": [
            "the film however is all good\n"
          ]
        }
      ],
      "source": [
        "movie_join=' '.join(movie_no_comma)\n",
        "print(movie_join)"
      ]
    },
    {
      "cell_type": "markdown",
      "metadata": {
        "id": "HmJK4o3inwbT"
      },
      "source": [
        "#Split lines or the line?\n",
        "\n"
      ]
    },
    {
      "cell_type": "code",
      "execution_count": null,
      "metadata": {
        "id": "HAWSZUCFoLAQ"
      },
      "outputs": [],
      "source": [
        "file = 'mtv films election, a high school comedy, is a current example \\n\\\n",
        "from there, director steven spielberg wastes no time, \\\n",
        "taking us into the water on a midnight swim'"
      ]
    },
    {
      "cell_type": "markdown",
      "metadata": {
        "id": "b8XKBmm5oCQ2"
      },
      "source": [
        "*   Split the string file into many substrings at line boundaries.\n",
        "*   Print out the resulting variable file_split.\n",
        "*   Use the for-loop to split the strings into many substrings using commas as a separator element.\n",
        "\n",
        "\n",
        "\n"
      ]
    },
    {
      "cell_type": "code",
      "execution_count": null,
      "metadata": {
        "id": "Pmmeq7pYoOr3"
      },
      "outputs": [],
      "source": [
        "# Split string at line boundaries\n",
        "file_split=file.split('\\n')"
      ]
    },
    {
      "cell_type": "code",
      "execution_count": null,
      "metadata": {
        "id": "TRkXy7CNo7xG"
      },
      "outputs": [
        {
          "name": "stdout",
          "output_type": "stream",
          "text": [
            "mtv films election, a high school comedy, is a current example \n",
            "from there, director steven spielberg wastes no time, taking us into the water on a midnight swim\n"
          ]
        }
      ],
      "source": [
        "# Print file_split\n",
        "for line in file_split:\n",
        "    print(line)"
      ]
    },
    {
      "cell_type": "code",
      "execution_count": null,
      "metadata": {
        "id": "C8XyKoeYo9a3"
      },
      "outputs": [
        {
          "name": "stdout",
          "output_type": "stream",
          "text": [
            "['mtv films election', ' a high school comedy', ' is a current example ']\n",
            "['from there', ' director steven spielberg wastes no time', ' taking us into the water on a midnight swim']\n"
          ]
        }
      ],
      "source": [
        "# Complete for-loop to split by commas\n",
        "for line in file_split:\n",
        "    split_line=line.split(',')\n",
        "    print(split_line)"
      ]
    }
  ],
  "metadata": {
    "colab": {
      "provenance": []
    },
    "kernelspec": {
      "display_name": "Python 3",
      "name": "python3"
    },
    "language_info": {
      "name": "python",
      "version": "3.11.4"
    }
  },
  "nbformat": 4,
  "nbformat_minor": 0
}
