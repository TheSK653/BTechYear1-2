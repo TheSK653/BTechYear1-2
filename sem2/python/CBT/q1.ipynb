{
 "cells": [
  {
   "cell_type": "code",
   "execution_count": 1,
   "metadata": {},
   "outputs": [
    {
     "name": "stdout",
     "output_type": "stream",
     "text": [
      "[0, 1, 1, 2, 3]\n"
     ]
    }
   ],
   "source": [
    "i=int(input())\n",
    "l=[0,1]\n",
    "n=i-2\n",
    "while n>0:\n",
    "    l.append(l[-1]+l[-2])\n",
    "    n-=1\n",
    "print(l[:i])"
   ]
  },
  {
   "cell_type": "code",
   "execution_count": 2,
   "metadata": {},
   "outputs": [
    {
     "name": "stdout",
     "output_type": "stream",
     "text": [
      "[0, 1, 1, 2, 3]\n"
     ]
    }
   ],
   "source": [
    "# fibonacci series \n",
    "class Fibonacci:\n",
    "    def __init__(self, n):\n",
    "        self.n = n\n",
    "\n",
    "    def generate_series(self):\n",
    "        fib_sequence = [0, 1]\n",
    "        if self.n <= 2:\n",
    "            return fib_sequence[:self.n]\n",
    "        else:\n",
    "            for i in range(2, self.n):\n",
    "                next_fib = fib_sequence[-1] + fib_sequence[-2]\n",
    "                fib_sequence.append(next_fib)\n",
    "            return fib_sequence[:self.n]\n",
    "\n",
    "n = int(input())\n",
    "\n",
    "if n <= 0:\n",
    "    print(\"Please enter a positive integer.\")\n",
    "else:\n",
    "    fib_instance = Fibonacci(n)\n",
    "    print(fib_instance.generate_series())\n",
    "# [0, 1, 1, 2, 3]"
   ]
  }
 ],
 "metadata": {
  "kernelspec": {
   "display_name": "Python 3",
   "language": "python",
   "name": "python3"
  },
  "language_info": {
   "codemirror_mode": {
    "name": "ipython",
    "version": 3
   },
   "file_extension": ".py",
   "mimetype": "text/x-python",
   "name": "python",
   "nbconvert_exporter": "python",
   "pygments_lexer": "ipython3",
   "version": "3.11.4"
  }
 },
 "nbformat": 4,
 "nbformat_minor": 2
}
