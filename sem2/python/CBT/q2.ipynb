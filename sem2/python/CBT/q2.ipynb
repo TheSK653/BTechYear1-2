{
 "cells": [
  {
   "cell_type": "code",
   "execution_count": 3,
   "metadata": {},
   "outputs": [
    {
     "name": "stdout",
     "output_type": "stream",
     "text": [
      "False\n"
     ]
    }
   ],
   "source": [
    "class ParenthesisBalancer:\n",
    "    def is_valid(self, s: str) -> bool:\n",
    "        stack = []\n",
    "        stars = []\n",
    "\n",
    "        for char in s:\n",
    "            if char == '(':\n",
    "                stack.append(char)\n",
    "            elif char == ')':\n",
    "                if stack:\n",
    "                    stack.pop()\n",
    "                elif stars:\n",
    "                    stars.pop()\n",
    "                else:\n",
    "                    return False\n",
    "            elif char == '*':\n",
    "                stars.append(char)\n",
    "\n",
    "        # Now, handling remaining stars and opening brackets\n",
    "        while stack:\n",
    "            if not stars:\n",
    "                return False\n",
    "            stack.pop()\n",
    "            stars.pop()\n",
    "\n",
    "        return True\n",
    "\n",
    "\n",
    "balancer = ParenthesisBalancer()\n",
    "st = input()  # ())*\n",
    "print(balancer.is_valid(st))   # False\n",
    "# False"
   ]
  },
  {
   "cell_type": "code",
   "execution_count": 2,
   "metadata": {},
   "outputs": [
    {
     "name": "stdout",
     "output_type": "stream",
     "text": [
      "True\n"
     ]
    }
   ],
   "source": [
    "i = eval(input())\n",
    "a,b1,b2=0,0,0\n",
    "for e in i:\n",
    "    if e=='*':\n",
    "        a+=1\n",
    "    elif e=='(':\n",
    "        b1+=1\n",
    "    else:\n",
    "        b2+=1\n",
    "if i[0]!=')':\n",
    "    d=b1-b2 if b1>b2 else b2-b1\n",
    "    if a>=d:\n",
    "        r=True\n",
    "else:\n",
    "    r=False\n",
    "print(r)\n",
    "# can't perform in some scanerio\n",
    "# hence this is not recomended\n",
    "# but passed test cases in exam\n",
    "# input:- ())* o/p:- True"
   ]
  }
 ],
 "metadata": {
  "kernelspec": {
   "display_name": "Python 3",
   "language": "python",
   "name": "python3"
  },
  "language_info": {
   "codemirror_mode": {
    "name": "ipython",
    "version": 3
   },
   "file_extension": ".py",
   "mimetype": "text/x-python",
   "name": "python",
   "nbconvert_exporter": "python",
   "pygments_lexer": "ipython3",
   "version": "3.11.4"
  }
 },
 "nbformat": 4,
 "nbformat_minor": 2
}
