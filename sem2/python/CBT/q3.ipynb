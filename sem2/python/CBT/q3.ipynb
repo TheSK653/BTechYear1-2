{
 "cells": [
  {
   "cell_type": "code",
   "execution_count": 1,
   "metadata": {},
   "outputs": [
    {
     "name": "stdout",
     "output_type": "stream",
     "text": [
      "20\n"
     ]
    }
   ],
   "source": [
    "i=eval(input())\n",
    "r=[max(x) for x in i]\n",
    "print(sum(r))"
   ]
  },
  {
   "cell_type": "code",
   "execution_count": 2,
   "metadata": {},
   "outputs": [
    {
     "name": "stdout",
     "output_type": "stream",
     "text": [
      "Sum of maximum elements: 20\n"
     ]
    }
   ],
   "source": [
    "# sum of max element in a nested list of a list \n",
    "class MaxSumFinder:\n",
    "    def __init__(self, nested_lists):\n",
    "        self.nested_lists = nested_lists\n",
    "\n",
    "    def find_max_sum(self):\n",
    "        max_sum = 0\n",
    "        for sublist in self.nested_lists:\n",
    "                max_sum += max(sublist)\n",
    "        return max_sum\n",
    "\n",
    "# Example usage:\n",
    "# nested_lists = eval(input())\n",
    "nested_lists = [[1, 2, 3], [4, 7, 9], [5, 8, 2]]\n",
    "max_sum_finder = MaxSumFinder(nested_lists)\n",
    "print(\"Sum of maximum elements:\", max_sum_finder.find_max_sum())\n",
    "# Sum of maximum elements: 20"
   ]
  }
 ],
 "metadata": {
  "kernelspec": {
   "display_name": "Python 3",
   "language": "python",
   "name": "python3"
  },
  "language_info": {
   "codemirror_mode": {
    "name": "ipython",
    "version": 3
   },
   "file_extension": ".py",
   "mimetype": "text/x-python",
   "name": "python",
   "nbconvert_exporter": "python",
   "pygments_lexer": "ipython3",
   "version": "3.11.4"
  }
 },
 "nbformat": 4,
 "nbformat_minor": 2
}
