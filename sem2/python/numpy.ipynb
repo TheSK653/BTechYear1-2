{
 "cells": [
  {
   "cell_type": "code",
   "execution_count": 1,
   "metadata": {},
   "outputs": [],
   "source": [
    "import numpy as np"
   ]
  },
  {
   "cell_type": "code",
   "execution_count": 12,
   "metadata": {},
   "outputs": [
    {
     "data": {
      "text/plain": [
       "(17000, 9)"
      ]
     },
     "execution_count": 12,
     "metadata": {},
     "output_type": "execute_result"
    }
   ],
   "source": [
    "data=np.genfromtxt('california_housing_train.csv',delimiter=',',skip_header=1)\n",
    "data.shape"
   ]
  },
  {
   "cell_type": "code",
   "execution_count": 14,
   "metadata": {},
   "outputs": [],
   "source": [
    "housing_median_age, total_rooms, population, median_income, median_house_value = data[:,2], data[:,3], data[:,5], data[:,7], data[:,8]"
   ]
  },
  {
   "cell_type": "code",
   "execution_count": 15,
   "metadata": {},
   "outputs": [
    {
     "name": "stdout",
     "output_type": "stream",
     "text": [
      "np.mean(x) = 28.58935294117647, np.std(x) = 12.58656677218719\n",
      "np.mean(x) = 2643.664411764706, np.std(x) = 2179.8829544195187\n",
      "np.mean(x) = 1429.5739411764705, np.std(x) = 1147.819198281884\n",
      "np.mean(x) = 3.8835781000000007, np.std(x) = 1.9081003953032116\n",
      "np.mean(x) = 207300.91235294117, np.std(x) = 115980.35304985354\n"
     ]
    }
   ],
   "source": [
    "for x in [housing_median_age, total_rooms, population, median_income, median_house_value]:\n",
    "    print(f'{np.mean(x) = }, {np.std(x) = }')"
   ]
  },
  {
   "cell_type": "code",
   "execution_count": 16,
   "metadata": {},
   "outputs": [
    {
     "data": {
      "text/plain": [
       "2127.0"
      ]
     },
     "execution_count": 16,
     "metadata": {},
     "output_type": "execute_result"
    }
   ],
   "source": [
    "np.median(total_rooms)"
   ]
  },
  {
   "cell_type": "code",
   "execution_count": 19,
   "metadata": {},
   "outputs": [
    {
     "data": {
      "text/plain": [
       "array([-1.1774e+02,  3.3890e+01,  4.0000e+00,  3.7937e+04,  5.4710e+03,\n",
       "        1.6122e+04,  5.1890e+03,  7.4947e+00,  3.6630e+05])"
      ]
     },
     "execution_count": 19,
     "metadata": {},
     "output_type": "execute_result"
    }
   ],
   "source": [
    "data[np.argmax(total_rooms),:]"
   ]
  },
  {
   "cell_type": "code",
   "execution_count": null,
   "metadata": {},
   "outputs": [],
   "source": []
  }
 ],
 "metadata": {
  "kernelspec": {
   "display_name": "Python 3",
   "language": "python",
   "name": "python3"
  },
  "language_info": {
   "codemirror_mode": {
    "name": "ipython",
    "version": 3
   },
   "file_extension": ".py",
   "mimetype": "text/x-python",
   "name": "python",
   "nbconvert_exporter": "python",
   "pygments_lexer": "ipython3",
   "version": "3.11.4"
  }
 },
 "nbformat": 4,
 "nbformat_minor": 2
}
