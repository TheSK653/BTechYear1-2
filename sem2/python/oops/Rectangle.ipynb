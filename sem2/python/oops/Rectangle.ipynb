{
 "cells": [
  {
   "cell_type": "code",
   "execution_count": 12,
   "metadata": {},
   "outputs": [],
   "source": [
    "class Rectangle:\n",
    "    def __init__(self,l,b) -> None:\n",
    "        self.l=l\n",
    "        self.b=b\n",
    "    def area(self):\n",
    "        print(f\"Area: {self.l * self.b} square units\")\n",
    "    def perimeter(self):\n",
    "        print(f\"Perimeter: {2 * (self.l + self.b)} units\")"
   ]
  },
  {
   "cell_type": "code",
   "execution_count": 13,
   "metadata": {},
   "outputs": [],
   "source": [
    "r1=Rectangle(4,3)"
   ]
  },
  {
   "cell_type": "code",
   "execution_count": 14,
   "metadata": {},
   "outputs": [
    {
     "name": "stdout",
     "output_type": "stream",
     "text": [
      "Area: 12 square units\n",
      "Perimeter: 14 units\n"
     ]
    }
   ],
   "source": [
    "r1.area()\n",
    "r1.perimeter()"
   ]
  },
  {
   "cell_type": "code",
   "execution_count": 15,
   "metadata": {},
   "outputs": [
    {
     "name": "stdout",
     "output_type": "stream",
     "text": [
      "Area: 120 square units\n",
      "Perimeter: 44 units\n"
     ]
    }
   ],
   "source": [
    "r2=Rectangle(12,10)\n",
    "r2.area()\n",
    "r2.perimeter()"
   ]
  },
  {
   "cell_type": "code",
   "execution_count": 16,
   "metadata": {},
   "outputs": [
    {
     "name": "stdout",
     "output_type": "stream",
     "text": [
      "Area: 3268 square units\n",
      "Perimeter: 238 units\n"
     ]
    }
   ],
   "source": [
    "r=Rectangle(int(input(\"Rectangle:\\nLength=\")),int(input(\"Breath=\")))\n",
    "r.area()\n",
    "r.perimeter()"
   ]
  },
  {
   "cell_type": "code",
   "execution_count": null,
   "metadata": {},
   "outputs": [],
   "source": []
  }
 ],
 "metadata": {
  "kernelspec": {
   "display_name": "Python 3",
   "language": "python",
   "name": "python3"
  },
  "language_info": {
   "codemirror_mode": {
    "name": "ipython",
    "version": 3
   },
   "file_extension": ".py",
   "mimetype": "text/x-python",
   "name": "python",
   "nbconvert_exporter": "python",
   "pygments_lexer": "ipython3",
   "version": "3.11.4"
  }
 },
 "nbformat": 4,
 "nbformat_minor": 2
}
