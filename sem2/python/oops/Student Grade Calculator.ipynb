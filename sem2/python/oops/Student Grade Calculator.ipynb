{
 "cells": [
  {
   "cell_type": "markdown",
   "metadata": {},
   "source": [
    "#1. Student Grade Calculator:\n",
    "\n",
    "Problem Statement:\n",
    "\n",
    "Create a Student class that calculates the grade of a student based on their average score. Implement a method calculate_grade that takes the average score as a parameter and returns the corresponding letter grade. The grading scale is as follows:\n",
    "\n",
    "A: 90-100\n",
    "\n",
    "B: 80-89\n",
    "\n",
    "C: 70-79\n",
    "\n",
    "D: 60-69\n",
    "\n",
    "F: 0-59\n",
    "\n",
    "**Sample Input**:\n",
    "\n",
    "student1 = Student()\n",
    "\n",
    "student2 = Student()\n",
    "\n",
    "student3 = Student()\n",
    "\n",
    "print(\"Student 1 Grade:\", student1.calculate_grade(95))\n",
    "\n",
    "print(\"Student 2 Grade:\", student2.calculate_grade(78))\n",
    "\n",
    "print(\"Student 3 Grade:\", student3.calculate_grade(42))\n",
    "\n",
    "**Sample Output:**\n",
    "\n",
    "Student 1 Grade: A\n",
    "\n",
    "Student 2 Grade: C\n",
    "\n",
    "Student 3 Grade: F\n"
   ]
  },
  {
   "cell_type": "code",
   "execution_count": 8,
   "metadata": {},
   "outputs": [],
   "source": [
    "class Student:\n",
    "    def calculate_grade(self,n):\n",
    "        if n <=100 and n>=0:\n",
    "            if n>=90:\n",
    "                return 'A'\n",
    "            if n>=80:\n",
    "                return 'B'\n",
    "            if n>=70:\n",
    "                return 'C'\n",
    "            if n>=90:\n",
    "                return 'D'\n",
    "            else:\n",
    "                return 'E'"
   ]
  },
  {
   "cell_type": "code",
   "execution_count": 9,
   "metadata": {},
   "outputs": [
    {
     "name": "stdout",
     "output_type": "stream",
     "text": [
      "Student 1 Grade: A\n",
      "Student 2 Grade: C\n",
      "Student 3 Grade: E\n"
     ]
    }
   ],
   "source": [
    "student1 = Student()\n",
    "student2 = Student()\n",
    "student3 = Student()\n",
    "\n",
    "print(\"Student 1 Grade:\", student1.calculate_grade(95))\n",
    "print(\"Student 2 Grade:\", student2.calculate_grade(78))\n",
    "print(\"Student 3 Grade:\", student3.calculate_grade(42))"
   ]
  },
  {
   "cell_type": "code",
   "execution_count": null,
   "metadata": {},
   "outputs": [],
   "source": []
  }
 ],
 "metadata": {
  "kernelspec": {
   "display_name": "Python 3",
   "language": "python",
   "name": "python3"
  },
  "language_info": {
   "codemirror_mode": {
    "name": "ipython",
    "version": 3
   },
   "file_extension": ".py",
   "mimetype": "text/x-python",
   "name": "python",
   "nbconvert_exporter": "python",
   "pygments_lexer": "ipython3",
   "version": "3.11.4"
  }
 },
 "nbformat": 4,
 "nbformat_minor": 2
}
