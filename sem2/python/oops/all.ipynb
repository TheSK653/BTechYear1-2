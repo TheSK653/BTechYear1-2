{
 "cells": [
  {
   "cell_type": "markdown",
   "metadata": {},
   "source": [
    "\n",
    "Problem Statement: **Appliance Hierarchy**\n",
    "\n",
    "Create a Python program that models a hierarchy of household appliances using classes. Implement a superclass called Appliance and two subclasses called Refrigerator and WashingMachine. Each class should have attributes and methods to represent specific characteristics of household appliances.\n",
    "\n",
    "Class: Appliance\n",
    "\n",
    "Attributes:\n",
    "\n",
    "brand (string): Brand or manufacturer of the appliance.\n",
    "model (string): Model name of the appliance.\n",
    "year (integer): Manufacturing year of the appliance.\n",
    "\n",
    "Methods:\n",
    "\n",
    "display_info(self): Returns a string containing the details of the appliance (year, brand, model).\n",
    "\n",
    "Class: Refrigerator (Subclass of Appliance)\n",
    "Additional Attributes:\n",
    "\n",
    "capacity (float): Storage capacity of the refrigerator in cubic feet.\n",
    "Method Overrides:\n",
    "\n",
    "display_info(self): Returns a string containing the details of the refrigerator, including the storage capacity.\n",
    "\n",
    "Class: WashingMachine (Subclass of Appliance)\n",
    "Additional Attributes:\n",
    "\n",
    "load_capacity (float): Maximum load capacity of the washing machine in kilograms.\n",
    "\n",
    "Method Overrides:\n",
    "\n",
    "display_info(self): Returns a string containing the details of the washing machine, including the load capacity.\n",
    "\n",
    "Sample Input:\n",
    "\n",
    "fridge1 = Refrigerator(\"LG\", \"French Door\", 2022, 20.0)\n",
    "\n",
    "washing_machine1 = WashingMachine(\"Samsung\", \"Top Load\", 2022, 8.5)\n",
    "\n",
    "Sample Output:\n",
    "\n",
    "print(fridge1.display_info())           \n",
    "print(washing_machine1.display_info())"
   ]
  },
  {
   "cell_type": "code",
   "execution_count": 1,
   "metadata": {},
   "outputs": [],
   "source": [
    "class Appliance:\n",
    "    def __init__(self, brand: str, model: str, year: int) -> None:\n",
    "        self.brand=brand\n",
    "        self.model=model\n",
    "        self.year=year\n",
    "    def display_info(self):\n",
    "        return f'{self.brand = }\\n{self.model = }\\n{self.year = }\\n'\n",
    "    \n",
    "class Refrigerator(Appliance):\n",
    "    def __init__(self, brand: str, model: str, year: int, capacity: float) -> None:\n",
    "        super().__init__(brand, model, year)\n",
    "        self.capacity=capacity\n",
    "    def display_info(self):\n",
    "        return super().display_info() + f'{self.capacity = }\\n'\n",
    "    \n",
    "class WashingMachine(Appliance):\n",
    "    def __init__(self, brand: str, model: str, year: int, load_capacity: float) -> None:\n",
    "        super().__init__(brand, model, year)\n",
    "        self.load_capacity=load_capacity\n",
    "    def display_info(self):\n",
    "        return super().display_info() + f'{self.load_capacity = }\\n'"
   ]
  },
  {
   "cell_type": "code",
   "execution_count": 2,
   "metadata": {},
   "outputs": [],
   "source": [
    "fridge1 = Refrigerator(\"LG\", \"French Door\", 2022, 20.0)\n",
    "\n",
    "washing_machine1 = WashingMachine(\"Samsung\", \"Top Load\", 2022, 8.5)"
   ]
  },
  {
   "cell_type": "code",
   "execution_count": 3,
   "metadata": {},
   "outputs": [
    {
     "name": "stdout",
     "output_type": "stream",
     "text": [
      "self.brand = 'LG'\n",
      "self.model = 'French Door'\n",
      "self.year = 2022\n",
      "self.capacity = 20.0\n",
      "\n",
      "self.brand = 'Samsung'\n",
      "self.model = 'Top Load'\n",
      "self.year = 2022\n",
      "self.load_capacity = 8.5\n",
      "\n"
     ]
    }
   ],
   "source": [
    "print(fridge1.display_info())           \n",
    "print(washing_machine1.display_info())"
   ]
  },
  {
   "cell_type": "code",
   "execution_count": null,
   "metadata": {},
   "outputs": [],
   "source": []
  }
 ],
 "metadata": {
  "kernelspec": {
   "display_name": "Python 3",
   "language": "python",
   "name": "python3"
  },
  "language_info": {
   "codemirror_mode": {
    "name": "ipython",
    "version": 3
   },
   "file_extension": ".py",
   "mimetype": "text/x-python",
   "name": "python",
   "nbconvert_exporter": "python",
   "pygments_lexer": "ipython3",
   "version": "3.11.4"
  }
 },
 "nbformat": 4,
 "nbformat_minor": 2
}
