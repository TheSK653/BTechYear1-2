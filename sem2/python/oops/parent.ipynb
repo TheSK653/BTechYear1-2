{
 "cells": [
  {
   "cell_type": "markdown",
   "metadata": {},
   "source": [
    "create a parent class called parent and its 2 subclasses boy and girl.\n",
    "the parent class parent has diff. attributes like height,weight,eye_color apply some appropriate method to display the details of the parent class\n",
    "the child class or the sub class boy will have the attributes that is eye-power\n",
    "the another child class called girl will have a different attribute called hair color\n",
    "create some appropriate methods for the above 2 child-class and display its info."
   ]
  },
  {
   "cell_type": "code",
   "execution_count": 17,
   "metadata": {},
   "outputs": [],
   "source": [
    "class parent:\n",
    "\n",
    "    def __init__(self,height,weight,eye_color):\n",
    "        self.height=height\n",
    "        self.weight=weight\n",
    "        self.eye_color=eye_color\n",
    "\n",
    "    def disply_info(self):\n",
    "        return(f'{self.height=}\\n{self.weight=}\\n{self.eye_color=}')\n",
    "    \n",
    "class boy(parent):\n",
    "\n",
    "    def __init__(self,height,weight,eye_color,eye_power):\n",
    "        self.eye_power=eye_power\n",
    "        super().__init__(height,weight,eye_color)\n",
    "\n",
    "    def disply_info(self):\n",
    "        return super().disply_info() + f'\\n{self.eye_power=}'\n",
    "    \n",
    "class girl(parent):\n",
    "\n",
    "    def __init__(self,height,weight,eye_color,hair_color):\n",
    "        self.hair_color=hair_color\n",
    "        super().__init__(height,weight,eye_color)\n",
    "        \n",
    "    def disply_info(self):\n",
    "        return super().disply_info() + f'\\n{self.hair_color=}'"
   ]
  },
  {
   "cell_type": "code",
   "execution_count": 18,
   "metadata": {},
   "outputs": [
    {
     "name": "stdout",
     "output_type": "stream",
     "text": [
      "self.height=160\n",
      "self.weight=65\n",
      "self.eye_color='black'\n"
     ]
    }
   ],
   "source": [
    "p1=parent(160,65,'black')\n",
    "print(p1.disply_info())"
   ]
  },
  {
   "cell_type": "code",
   "execution_count": 20,
   "metadata": {},
   "outputs": [
    {
     "name": "stdout",
     "output_type": "stream",
     "text": [
      "self.height=155\n",
      "self.weight=63\n",
      "self.eye_color='brown'\n",
      "self.eye_power=10\n"
     ]
    }
   ],
   "source": [
    "b1=boy(155,63,'brown',10)\n",
    "print(b1.disply_info())"
   ]
  },
  {
   "cell_type": "code",
   "execution_count": 21,
   "metadata": {},
   "outputs": [
    {
     "name": "stdout",
     "output_type": "stream",
     "text": [
      "self.height=150\n",
      "self.weight=60\n",
      "self.eye_color='black'\n",
      "self.hair_color='black'\n"
     ]
    }
   ],
   "source": [
    "g1=girl(150,60,'black','black')\n",
    "print(g1.disply_info())"
   ]
  },
  {
   "cell_type": "code",
   "execution_count": null,
   "metadata": {},
   "outputs": [],
   "source": []
  }
 ],
 "metadata": {
  "kernelspec": {
   "display_name": "Python 3",
   "language": "python",
   "name": "python3"
  },
  "language_info": {
   "codemirror_mode": {
    "name": "ipython",
    "version": 3
   },
   "file_extension": ".py",
   "mimetype": "text/x-python",
   "name": "python",
   "nbconvert_exporter": "python",
   "pygments_lexer": "ipython3",
   "version": "3.11.4"
  }
 },
 "nbformat": 4,
 "nbformat_minor": 2
}
