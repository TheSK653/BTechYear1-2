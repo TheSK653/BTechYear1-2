{
 "cells": [
  {
   "cell_type": "code",
   "execution_count": 56,
   "metadata": {},
   "outputs": [],
   "source": [
    "from statistics import mean\n",
    "import math"
   ]
  },
  {
   "cell_type": "code",
   "execution_count": 2,
   "metadata": {},
   "outputs": [],
   "source": [
    "grading={'O':10,'A+':9,'A':8,'B+':7,'B':6,'C':5,'D':4,'F':3}"
   ]
  },
  {
   "cell_type": "code",
   "execution_count": 72,
   "metadata": {},
   "outputs": [],
   "source": [
    "class Student:\n",
    "    def __init__(self,name,roll,grades):\n",
    "        global grading\n",
    "        self.name=name\n",
    "        self.roll=roll\n",
    "        self.grades=grades\n",
    "    def student_info(self):\n",
    "        print(f'Student info:\\nName: {self.name}\\nRoll no,: {self.roll}\\nGrades: {self.grades}')\n",
    "    def calculate_grade(self,per):\n",
    "        if per<0 and per>100:\n",
    "            print(\"You are genius\")\n",
    "        print(f\"{per}% is grade {list(grading.keys())[list(grading.values()).index(math.ceil(per/10))]}\")"
   ]
  },
  {
   "cell_type": "code",
   "execution_count": 73,
   "metadata": {},
   "outputs": [],
   "source": [
    "s1=Student('Soham Kundu',48,['A','O','B','A+'])"
   ]
  },
  {
   "cell_type": "code",
   "execution_count": 74,
   "metadata": {},
   "outputs": [
    {
     "name": "stdout",
     "output_type": "stream",
     "text": [
      "Student info:\n",
      "Name: Soham Kundu\n",
      "Roll no,: 48\n",
      "Grades: ['A', 'O', 'B', 'A+']\n"
     ]
    }
   ],
   "source": [
    "s1.student_info()"
   ]
  },
  {
   "cell_type": "code",
   "execution_count": 75,
   "metadata": {},
   "outputs": [
    {
     "name": "stdout",
     "output_type": "stream",
     "text": [
      "90% is grade A+\n"
     ]
    }
   ],
   "source": [
    "s1.calculate_grade(90)"
   ]
  },
  {
   "cell_type": "code",
   "execution_count": null,
   "metadata": {},
   "outputs": [],
   "source": []
  }
 ],
 "metadata": {
  "kernelspec": {
   "display_name": "Python 3",
   "language": "python",
   "name": "python3"
  },
  "language_info": {
   "codemirror_mode": {
    "name": "ipython",
    "version": 3
   },
   "file_extension": ".py",
   "mimetype": "text/x-python",
   "name": "python",
   "nbconvert_exporter": "python",
   "pygments_lexer": "ipython3",
   "version": "3.11.4"
  }
 },
 "nbformat": 4,
 "nbformat_minor": 2
}
