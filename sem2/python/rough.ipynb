{
 "cells": [
  {
   "cell_type": "code",
   "execution_count": 1,
   "metadata": {},
   "outputs": [],
   "source": [
    "def find_index(num_list, num):\n",
    "    # The function takes two inputs:\n",
    "    # 'num_list' - a list of numbers\n",
    "    # 'num' - the number whose index we are to find in 'num_list'\n",
    "\n",
    "    # Your task is to find the index of 'num' in 'num_list'\n",
    "    # If it is not present, return -1 \n",
    "\n",
    "    # Write your code here\n",
    "    try:\n",
    "        i = num_list.index(num)\n",
    "    except ValueError:\n",
    "        i = -1\n",
    "    return i"
   ]
  },
  {
   "cell_type": "code",
   "execution_count": 2,
   "metadata": {},
   "outputs": [
    {
     "data": {
      "text/plain": [
       "-1"
      ]
     },
     "execution_count": 2,
     "metadata": {},
     "output_type": "execute_result"
    }
   ],
   "source": [
    "find_index([1],2)"
   ]
  },
  {
   "cell_type": "code",
   "execution_count": 3,
   "metadata": {},
   "outputs": [
    {
     "data": {
      "text/plain": [
       "'a'"
      ]
     },
     "execution_count": 3,
     "metadata": {},
     "output_type": "execute_result"
    }
   ],
   "source": [
    "'a' if 1==1 else 'b'"
   ]
  },
  {
   "cell_type": "code",
   "execution_count": 4,
   "metadata": {},
   "outputs": [
    {
     "ename": "SyntaxError",
     "evalue": "invalid syntax (<string>, line 0)",
     "output_type": "error",
     "traceback": [
      "Traceback \u001b[1;36m(most recent call last)\u001b[0m:\n",
      "\u001b[0m  File \u001b[0;32m~\\AppData\\Roaming\\Python\\Python311\\site-packages\\IPython\\core\\interactiveshell.py:3526\u001b[0m in \u001b[0;35mrun_code\u001b[0m\n    exec(code_obj, self.user_global_ns, self.user_ns)\u001b[0m\n",
      "\u001b[1;36m  Cell \u001b[1;32mIn[4], line 1\u001b[1;36m\n\u001b[1;33m    eval(input())\u001b[1;36m\n",
      "\u001b[1;36m  File \u001b[1;32m<string>\u001b[1;36m\u001b[0m\n\u001b[1;33m    \u001b[0m\n\u001b[1;37m    ^\u001b[0m\n\u001b[1;31mSyntaxError\u001b[0m\u001b[1;31m:\u001b[0m invalid syntax\n"
     ]
    }
   ],
   "source": [
    "eval(input())"
   ]
  },
  {
   "cell_type": "code",
   "execution_count": null,
   "metadata": {},
   "outputs": [
    {
     "name": "stdout",
     "output_type": "stream",
     "text": [
      "\"72, 101, 108, 108, 111, 44, 32, 87, 111, 114, 108, 100, 33\"\n"
     ]
    }
   ],
   "source": [
    "def replace_char_with_ascii(s):\n",
    "    print('\"'+', '.join(list(map(str,list(map(ord,list(s))))))+'\"')\n",
    "replace_char_with_ascii(eval(input()))"
   ]
  },
  {
   "cell_type": "code",
   "execution_count": null,
   "metadata": {},
   "outputs": [
    {
     "data": {
      "text/plain": [
       "'Hi Hello'"
      ]
     },
     "metadata": {},
     "output_type": "display_data"
    }
   ],
   "source": [
    "'hi hello'.title()"
   ]
  },
  {
   "cell_type": "code",
   "execution_count": null,
   "metadata": {},
   "outputs": [
    {
     "name": "stdout",
     "output_type": "stream",
     "text": [
      "10\n"
     ]
    }
   ],
   "source": [
    "def binary_to_decimal(binary_number):\n",
    "    t=1\n",
    "    r=0\n",
    "    for i in (binary_number)[::-1]:\n",
    "        r+=int(i)*t\n",
    "        t*=2\n",
    "    print(r)\n",
    "binary_to_decimal(input())"
   ]
  },
  {
   "cell_type": "code",
   "execution_count": null,
   "metadata": {},
   "outputs": [],
   "source": [
    "def count_and_sort_pairs(input_list):\n",
    "    # Count the occurrences of each number\n",
    "    num_count = {}\n",
    "    for num in input_list:\n",
    "        if num in num_count:\n",
    "            num_count[num] += 1\n",
    "        else:\n",
    "            num_count[num] = 1\n",
    "\n",
    "    # Create pairs (number, count)\n",
    "    pairs = [(num, count) for num, count in num_count.items()]\n",
    "\n",
    "    # Sort pairs by count and then by number\n",
    "    sorted_pairs = sorted(pairs, key=lambda x: (x[1], x[0]))\n",
    "\n",
    "    return sorted_pairs\n",
    "\n",
    "\n",
    "# Input list of integers\n",
    "input_list = [int(x) for x in input(\"Enter the list of integers separated by spaces: \").split()]\n",
    "\n",
    "# Count occurrences and sort pairs\n",
    "sorted_pairs = count_and_sort_pairs(input_list)\n",
    "\n",
    "# Display the sorted pairs\n",
    "\n",
    "for pair in sorted_pairs:\n",
    "    print(pair,end=\"\")"
   ]
  },
  {
   "cell_type": "code",
   "execution_count": null,
   "metadata": {},
   "outputs": [],
   "source": [
    "# Write a program (WAP) to display the following hourglass pattern using number digits, digits 0 to 9, and then fill the remaining space only with 0s and 9s\n",
    "\n",
    "# Input Format\n",
    "\n",
    "# number of rows\n",
    "\n",
    "# Constraints\n",
    "\n",
    "# 1 < rows < 100\n",
    "\n",
    "# Output Format\n",
    "\n",
    "# Pattern\n",
    "\n",
    "# Sample Input 0\n",
    "\n",
    "# 5\n",
    "# Sample Output 0\n",
    "\n",
    "# 012345678\n",
    "#  9090909\n",
    "#   09090\n",
    "#    909\n",
    "#     0\n",
    "#    012\n",
    "#   34567\n",
    "#  8909090\n",
    "# 909090909\n",
    "# Sample Input 1\n",
    "\n",
    "# 10\n",
    "# Sample Output 1\n",
    "\n",
    "# 0123456789090909090\n",
    "#  90909090909090909\n",
    "#   090909090909090\n",
    "#    9090909090909\n",
    "#     09090909090\n",
    "#      909090909\n",
    "#       0909090\n",
    "#        90909\n",
    "#         090\n",
    "#          9\n",
    "#         012\n",
    "#        34567\n",
    "#       8909090\n",
    "#      909090909\n",
    "#     09090909090\n",
    "#    9090909090909\n",
    "#   090909090909090\n",
    "#  90909090909090909\n",
    "# 0909090909090909090\n",
    "# Sample Input 2\n",
    "\n",
    "# 2\n",
    "# Sample Output 2\n",
    "\n",
    "# 012\n",
    "#  3\n",
    "# 012\n"
   ]
  },
  {
   "cell_type": "code",
   "execution_count": null,
   "metadata": {},
   "outputs": [
    {
     "name": "stdout",
     "output_type": "stream",
     "text": [
      "0123456789090909090\n",
      " 90909090909090909\n",
      "  090909090909090\n",
      "   9090909090909\n",
      "    09090909090\n",
      "     909090909\n",
      "      0909090\n",
      "       90909\n",
      "        090\n",
      "         9\n",
      "        012\n",
      "       34567\n",
      "      8909090\n",
      "     909090909\n",
      "    09090909090\n",
      "   9090909090909\n",
      "  090909090909090\n",
      " 90909090909090909\n",
      "0909090909090909090\n"
     ]
    }
   ],
   "source": [
    "n = int(input())\n",
    "l='0123456789'\n",
    "if n > 4:\n",
    "    l+='09'*((n**2-11)//2+1)\n",
    "i=0\n",
    "e=n*2-1\n",
    "e2=e\n",
    "for x in range(n):\n",
    "    print(' '*x+l[i:e2])\n",
    "    i,e2,e=e2,e2+e-2,e-2\n",
    "i=0\n",
    "e=5\n",
    "e2=3\n",
    "for x in range(n-1)[::-1]:\n",
    "    print(' '*x+l[i:e2])\n",
    "    i,e2,e=e2,e2+e,e+2"
   ]
  },
  {
   "cell_type": "code",
   "execution_count": null,
   "metadata": {},
   "outputs": [
    {
     "data": {
      "text/plain": [
       "(1, 2, 2, 4)"
      ]
     },
     "metadata": {},
     "output_type": "display_data"
    }
   ],
   "source": [
    "(1,2)+(2,4)"
   ]
  },
  {
   "cell_type": "code",
   "execution_count": null,
   "metadata": {},
   "outputs": [
    {
     "data": {
      "text/plain": [
       "[1, 1]"
      ]
     },
     "metadata": {},
     "output_type": "display_data"
    }
   ],
   "source": [
    "[1]*2"
   ]
  },
  {
   "cell_type": "code",
   "execution_count": null,
   "metadata": {},
   "outputs": [],
   "source": [
    "i=[]\n",
    "while True:\n",
    "    try:\n",
    "        i.append(input())\n",
    "    except:\n",
    "        break\n",
    "d=eval(''.join(i))\n",
    "v=list(d.values())\n",
    "drinks=[]\n",
    "for l in v:\n",
    "    for e in l:\n",
    "        drinks.append(e)\n",
    "drinks=list(set(drinks))\n",
    "check={x:(1) for x in drinks}\n",
    "# a=[[0]*len(drinks)]\n",
    "a=[]\n",
    "for x,y in d.items():\n",
    "     for d1 in drinks:\n",
    "        if d1 in y:\n",
    "            a.append(1)\n",
    "        else:\n",
    "            a.append(0)\n",
    "a1=[]\n",
    "i1=0\n",
    "e1=len(drinks)\n",
    "e11=e1\n",
    "while True:\n",
    "    a1.append(a[i1:e1])\n",
    "    \n",
    "# for x,y in d.items():\n",
    "#     for e in y:\n",
    "#         a[x][e]=1\n",
    "# for e in drinks:\n",
    "#     for x,y in d.items():\n",
    "#         for e2 in y:\n",
    "#             check[x]+=(1 if e is e2 else 0)\n",
    "# for x in check.keys():\n",
    "#     if check[x] == len(d):\n",
    "#         print(x)\n",
    "#         break\n",
    "print(a)"
   ]
  },
  {
   "cell_type": "code",
   "execution_count": null,
   "metadata": {},
   "outputs": [
    {
     "name": "stdout",
     "output_type": "stream",
     "text": [
      "Circle Area: 78.5\n",
      "Circle Perimeter: 31.400000000000002\n",
      "Rectangle Area: 24\n",
      "Rectangle Perimeter: 20\n"
     ]
    }
   ],
   "source": [
    "#Abstraction\n",
    "\n",
    "from abc import ABC, abstractmethod\n",
    "#The abc module provides the ABC (Abstract Base Class) metaclass (a metaclass is a class for classes) and\n",
    "#abstractmethod decorator(a decorator is a special type of function or object that is used to modify the behavior of another function or method.\n",
    "#Decorators are applied using the @decorator syntax before the definition of a function.),\n",
    "#which are used to create abstract classes and abstract methods, respectively.\n",
    "\n",
    "class Shape(ABC): #Shape is an abstract base class that inherits from ABC using the ABC metaclass.\n",
    "    @abstractmethod\n",
    "    def area(self):\n",
    "        pass\n",
    "\n",
    "    @abstractmethod\n",
    "    def perimeter(self):\n",
    "        pass\n",
    "#It declares two abstract methods, area and perimeter, using the @abstractmethod decorator.\n",
    "#These methods have no implementation (they contain only the pass statement) and must be implemented by subclasses (child classes)\n",
    "\n",
    "class Circle(Shape):\n",
    "  #Circle is a subclass of Shape. It provides implementations for the area and perimeter methods, as required by the abstract base class Shape.\n",
    "    def __init__(self, radius): #It has an __init__ method to initialize the radius attribute.\n",
    "        self.radius = radius\n",
    "\n",
    "    def area(self):\n",
    "        return 3.14 * self.radius ** 2\n",
    "\n",
    "    def perimeter(self):\n",
    "        return 2 * 3.14 * self.radius\n",
    "\n",
    "class Rectangle(Shape):\n",
    "    def __init__(self, length, width):\n",
    "        self.length = length\n",
    "        self.width = width\n",
    "\n",
    "    def area(self):\n",
    "        return self.length * self.width\n",
    "\n",
    "    def perimeter(self):\n",
    "        return 2 * (self.length + self.width)\n",
    "\n",
    "# Creating objects\n",
    "circle = Circle(5)\n",
    "rectangle = Rectangle(4, 6)\n",
    "\n",
    "# Using the abstract class methods\n",
    "print(\"Circle Area:\", circle.area())\n",
    "print(\"Circle Perimeter:\", circle.perimeter())\n",
    "\n",
    "print(\"Rectangle Area:\", rectangle.area())\n",
    "print(\"Rectangle Perimeter:\", rectangle.perimeter())"
   ]
  },
  {
   "cell_type": "code",
   "execution_count": null,
   "metadata": {},
   "outputs": [
    {
     "data": {
      "text/plain": [
       "[__main__.Rectangle, __main__.Shape, abc.ABC, object]"
      ]
     },
     "execution_count": 4,
     "metadata": {},
     "output_type": "execute_result"
    }
   ],
   "source": [
    "Rectangle.mro()"
   ]
  },
  {
   "cell_type": "code",
   "execution_count": null,
   "metadata": {},
   "outputs": [
    {
     "data": {
      "text/plain": [
       "[__main__.Circle, __main__.Shape, abc.ABC, object]"
      ]
     },
     "execution_count": 5,
     "metadata": {},
     "output_type": "execute_result"
    }
   ],
   "source": [
    "Circle.mro()"
   ]
  },
  {
   "cell_type": "code",
   "execution_count": null,
   "metadata": {},
   "outputs": [
    {
     "data": {
      "text/plain": [
       "[__main__.c, __main__.b, __main__.a, object]"
      ]
     },
     "execution_count": 44,
     "metadata": {},
     "output_type": "execute_result"
    }
   ],
   "source": [
    "class a:\n",
    "    pass\n",
    "class b(a):\n",
    "    pass\n",
    "class c(b):\n",
    "    pass\n",
    "class d(c):\n",
    "    pass\n",
    "c.mro()"
   ]
  },
  {
   "cell_type": "code",
   "execution_count": null,
   "metadata": {},
   "outputs": [
    {
     "name": "stdout",
     "output_type": "stream",
     "text": [
      "1 0 3 2 5 4 7 6 9 8 "
     ]
    }
   ],
   "source": [
    "for x,y in zip (list(range(1,11,2)),list(range(0,10,2))):\n",
    "    print(x,y,end=' ')"
   ]
  },
  {
   "cell_type": "markdown",
   "metadata": {},
   "source": [
    "id name subject mark     n=10        display[:5], display[7-9], avg, %, grade, top 3       add to cvs\n",
    "\n",
    "Create a csv file with the name of student data and add following details\n",
    "the details are student_id,student_name,student_subject,student_marks (atleast 10 entries)\n",
    "Now perform the following operation\n",
    "1. Display the students marks student1 to student5.\n",
    "2. Display the students marks form student7 to student10.\n",
    "3. Find out the average of all the  marks.\n",
    "4. Find out the percentage of all the student.\n",
    "5. Display the grade of each student.\n",
    "6. Display the first 3 topper of your data.\n",
    "Addition information:  Add all this details in csv files"
   ]
  },
  {
   "cell_type": "code",
   "execution_count": null,
   "metadata": {},
   "outputs": [
    {
     "name": "stdout",
     "output_type": "stream",
     "text": [
      "Overwriting students.csv\n"
     ]
    }
   ],
   "source": [
    "%%file students.csv\n",
    ",student_id,student_name,student_subject,student_marks\n",
    "0,4,Arpit,C,91\n",
    "1,10,Faizan,C,85\n",
    "2,18,Abhijeet,C,98\n",
    "3,29,Gitesh,C,76\n",
    "4,30,Harsh,C,74\n",
    "5,42,Rohit,C,86\n",
    "6,43,Samarth,C,89\n",
    "7,44,Sanskar,C,70\n",
    "8,48,Soham,C,100\n",
    "9,49,Suryansh,C,-100"
   ]
  },
  {
   "cell_type": "code",
   "execution_count": null,
   "metadata": {},
   "outputs": [
    {
     "data": {
      "text/html": [
       "<div>\n",
       "<style scoped>\n",
       "    .dataframe tbody tr th:only-of-type {\n",
       "        vertical-align: middle;\n",
       "    }\n",
       "\n",
       "    .dataframe tbody tr th {\n",
       "        vertical-align: top;\n",
       "    }\n",
       "\n",
       "    .dataframe thead th {\n",
       "        text-align: right;\n",
       "    }\n",
       "</style>\n",
       "<table border=\"1\" class=\"dataframe\">\n",
       "  <thead>\n",
       "    <tr style=\"text-align: right;\">\n",
       "      <th></th>\n",
       "      <th>student_id</th>\n",
       "      <th>student_name</th>\n",
       "      <th>student_subject</th>\n",
       "      <th>student_marks</th>\n",
       "    </tr>\n",
       "  </thead>\n",
       "  <tbody>\n",
       "    <tr>\n",
       "      <th>0</th>\n",
       "      <td>4</td>\n",
       "      <td>Arpit</td>\n",
       "      <td>C</td>\n",
       "      <td>91</td>\n",
       "    </tr>\n",
       "    <tr>\n",
       "      <th>1</th>\n",
       "      <td>10</td>\n",
       "      <td>Faizan</td>\n",
       "      <td>C</td>\n",
       "      <td>85</td>\n",
       "    </tr>\n",
       "    <tr>\n",
       "      <th>2</th>\n",
       "      <td>18</td>\n",
       "      <td>Abhijeet</td>\n",
       "      <td>C</td>\n",
       "      <td>98</td>\n",
       "    </tr>\n",
       "    <tr>\n",
       "      <th>3</th>\n",
       "      <td>29</td>\n",
       "      <td>Gitesh</td>\n",
       "      <td>C</td>\n",
       "      <td>76</td>\n",
       "    </tr>\n",
       "    <tr>\n",
       "      <th>4</th>\n",
       "      <td>30</td>\n",
       "      <td>Harsh</td>\n",
       "      <td>C</td>\n",
       "      <td>74</td>\n",
       "    </tr>\n",
       "    <tr>\n",
       "      <th>5</th>\n",
       "      <td>42</td>\n",
       "      <td>Rohit</td>\n",
       "      <td>C</td>\n",
       "      <td>86</td>\n",
       "    </tr>\n",
       "    <tr>\n",
       "      <th>6</th>\n",
       "      <td>43</td>\n",
       "      <td>Samarth</td>\n",
       "      <td>C</td>\n",
       "      <td>89</td>\n",
       "    </tr>\n",
       "    <tr>\n",
       "      <th>7</th>\n",
       "      <td>44</td>\n",
       "      <td>Sanskar</td>\n",
       "      <td>C</td>\n",
       "      <td>70</td>\n",
       "    </tr>\n",
       "    <tr>\n",
       "      <th>8</th>\n",
       "      <td>48</td>\n",
       "      <td>Soham</td>\n",
       "      <td>C</td>\n",
       "      <td>100</td>\n",
       "    </tr>\n",
       "    <tr>\n",
       "      <th>9</th>\n",
       "      <td>49</td>\n",
       "      <td>Suryansh</td>\n",
       "      <td>C</td>\n",
       "      <td>-100</td>\n",
       "    </tr>\n",
       "  </tbody>\n",
       "</table>\n",
       "</div>"
      ],
      "text/plain": [
       "   student_id student_name student_subject  student_marks\n",
       "0           4        Arpit               C             91\n",
       "1          10       Faizan               C             85\n",
       "2          18     Abhijeet               C             98\n",
       "3          29       Gitesh               C             76\n",
       "4          30        Harsh               C             74\n",
       "5          42        Rohit               C             86\n",
       "6          43      Samarth               C             89\n",
       "7          44      Sanskar               C             70\n",
       "8          48        Soham               C            100\n",
       "9          49     Suryansh               C           -100"
      ]
     },
     "execution_count": 50,
     "metadata": {},
     "output_type": "execute_result"
    }
   ],
   "source": [
    "pd.read_csv('students.csv',index_col=0)"
   ]
  },
  {
   "cell_type": "code",
   "execution_count": 31,
   "metadata": {},
   "outputs": [
    {
     "data": {
      "text/plain": [
       "array([['0', '4', 'Arpit', 'C', '91'],\n",
       "       ['1', '10', 'Faizan', 'C', '85'],\n",
       "       ['2', '18', 'Abhijeet', 'C', '98'],\n",
       "       ['3', '29', 'Gitesh', 'C', '76'],\n",
       "       ['4', '30', 'Harsh', 'C', '74'],\n",
       "       ['5', '42', 'Rohit', 'C', '86'],\n",
       "       ['6', '43', 'Samarth', 'C', '89'],\n",
       "       ['7', '44', 'Sanskar', 'C', '70'],\n",
       "       ['8', '48', 'Soham', 'C', '100'],\n",
       "       ['9', '49', 'Suryansh', 'C', '-100']], dtype='<U8')"
      ]
     },
     "execution_count": 31,
     "metadata": {},
     "output_type": "execute_result"
    }
   ],
   "source": [
    "import numpy as np\n",
    "\n",
    "# 1. Display the students marks student1 to student5.\n",
    "\n",
    "students=np.genfromtxt('students.csv',delimiter=',',skip_header=1)\n",
    "students\n",
    "np.genfromtxt('students.csv',delimiter=',',skip_header=1,dtype=str)"
   ]
  },
  {
   "cell_type": "code",
   "execution_count": null,
   "metadata": {},
   "outputs": [
    {
     "data": {
      "text/plain": [
       "array([91., 85., 98., 76., 74.])"
      ]
     },
     "execution_count": 52,
     "metadata": {},
     "output_type": "execute_result"
    }
   ],
   "source": [
    "# 2. Display the students marks form student7 to student10.\n",
    "\n",
    "students[:5,-1]"
   ]
  },
  {
   "cell_type": "code",
   "execution_count": null,
   "metadata": {},
   "outputs": [
    {
     "data": {
      "text/plain": [
       "array([  89.,   70.,  100., -100.])"
      ]
     },
     "execution_count": 53,
     "metadata": {},
     "output_type": "execute_result"
    }
   ],
   "source": [
    "# 3. Find out the average of all the  marks.\n",
    "\n",
    "students[6:,-1]"
   ]
  },
  {
   "cell_type": "code",
   "execution_count": null,
   "metadata": {},
   "outputs": [
    {
     "data": {
      "text/plain": [
       "66.9"
      ]
     },
     "execution_count": 54,
     "metadata": {},
     "output_type": "execute_result"
    }
   ],
   "source": [
    "# 4. Find out the percentage of all the student.\n",
    "\n",
    "np.average(students[:,-1])"
   ]
  },
  {
   "cell_type": "code",
   "execution_count": null,
   "metadata": {},
   "outputs": [
    {
     "data": {
      "text/plain": [
       "['A+', 'A', 'O', 'A', 'B+', 'A+', 'A+', 'B+', 'O', 'F']"
      ]
     },
     "execution_count": 55,
     "metadata": {},
     "output_type": "execute_result"
    }
   ],
   "source": [
    "# 5. Display the grade of each student.\n",
    "\n",
    "grade={100:'O',90:'A+',80:'A',70:'B+',60:'B'}\n",
    "[grade[round(x,-1)] if round(x,-1) in grade else 'F' for x in students[:,-1]]"
   ]
  },
  {
   "cell_type": "code",
   "execution_count": null,
   "metadata": {},
   "outputs": [
    {
     "data": {
      "text/plain": [
       "array([ 4., 18., 48.])"
      ]
     },
     "execution_count": 57,
     "metadata": {},
     "output_type": "execute_result"
    }
   ],
   "source": [
    "# 6. Display the first 3 topper of your data.\n",
    "\n",
    "students[[x in sorted(students[:,-1],reverse=True)[:3] for x in students[:,-1]],1]"
   ]
  },
  {
   "cell_type": "code",
   "execution_count": 2,
   "metadata": {},
   "outputs": [
    {
     "data": {
      "image/png": "[encoded data removed]",
      "text/plain": [
       "<Figure size 640x480 with 1 Axes>"
      ]
     },
     "metadata": {},
     "output_type": "display_data"
    }
   ],
   "source": [
    "import matplotlib.pyplot as plt\n",
    "import numpy as np\n",
    "\n",
    "# Create a function that returns the tangent of a number\n",
    "def tan(x):\n",
    "  return np.tan(x)\n",
    "\n",
    "# Create an array of x-values\n",
    "x = np.linspace(-np.pi, np.pi, 200)\n",
    "\n",
    "# Calculate the tangent of each x-value\n",
    "y = tan(x)\n",
    "\n",
    "# Plot the graph\n",
    "plt.plot(x, y)\n",
    "\n",
    "# Add labels and a title\n",
    "plt.xlabel(\"x\")\n",
    "plt.ylabel(\"tan(x)\")\n",
    "plt.title(\"Tangent Graph\")\n",
    "\n",
    "# Show the plot\n",
    "plt.show()"
   ]
  },
  {
   "cell_type": "code",
   "execution_count": 4,
   "metadata": {},
   "outputs": [],
   "source": [
    "import time"
   ]
  },
  {
   "cell_type": "code",
   "execution_count": 9,
   "metadata": {},
   "outputs": [
    {
     "name": "stdout",
     "output_type": "stream",
     "text": [
      "1\n",
      "2\n",
      "3\n",
      "4\n",
      "5\n",
      "6\n",
      "7\n",
      "8\n",
      "9\n",
      "10\n"
     ]
    }
   ],
   "source": [
    "for i in range(10):\n",
    "    print(i+1)\n",
    "    time.sleep(1)"
   ]
  },
  {
   "cell_type": "code",
   "execution_count": null,
   "metadata": {},
   "outputs": [],
   "source": []
  }
 ],
 "metadata": {
  "kernelspec": {
   "display_name": "Python 3",
   "language": "python",
   "name": "python3"
  },
  "language_info": {
   "codemirror_mode": {
    "name": "ipython",
    "version": 3
   },
   "file_extension": ".py",
   "mimetype": "text/x-python",
   "name": "python",
   "nbconvert_exporter": "python",
   "pygments_lexer": "ipython3",
   "version": "3.11.4"
  }
 },
 "nbformat": 4,
 "nbformat_minor": 2
}
